{
 "cells": [
  {
   "cell_type": "code",
   "execution_count": 13,
   "metadata": {},
   "outputs": [
    {
     "name": "stdout",
     "output_type": "stream",
     "text": [
      "The autoreload extension is already loaded. To reload it, use:\n",
      "  %reload_ext autoreload\n"
     ]
    }
   ],
   "source": [
    "%load_ext autoreload\n",
    "%autoreload 2\n",
    "\n",
    "import os\n",
    "from transformers import AutoImageProcessor, AutoModelForImageClassification\n",
    "\n",
    "import math\n",
    "from resources.wrap_configs import *\n",
    "from resources.bit_per_weight import get_model_bit_per_weight\n",
    "\n",
    "model_save_path = 'models'\n",
    "path_to_pretrained_resnet18 = os.path.join(model_save_path, 'pretrained_resnet-18')\n",
    "model = AutoModelForImageClassification.from_pretrained(path_to_pretrained_resnet18)"
   ]
  },
  {
   "cell_type": "code",
   "execution_count": 16,
   "metadata": {},
   "outputs": [
    {
     "name": "stdout",
     "output_type": "stream",
     "text": [
      "bit/weight: 32.00\n",
      "bit/weight: 8.02\n",
      "bit/weight: 4.20\n",
      "bit/weight: 4.24\n",
      "bit/weight: 3.28\n"
     ]
    },
    {
     "data": {
      "text/plain": [
       "3.2807309663568507"
      ]
     },
     "execution_count": 16,
     "metadata": {},
     "output_type": "execute_result"
    }
   ],
   "source": [
    "get_model_bit_per_weight(model, {})\n",
    "get_model_bit_per_weight(model, INT8_CONFIG)\n",
    "get_model_bit_per_weight(model, INT4_PER_TENSOR_CONFIG)\n",
    "get_model_bit_per_weight(model, INT4_PER_CHANNEL_CONFIG)\n",
    "get_model_bit_per_weight(model, INT3_PER_CHANNEL_CONFIG)"
   ]
  },
  {
   "cell_type": "code",
   "execution_count": 12,
   "metadata": {},
   "outputs": [
    {
     "data": {
      "text/plain": [
       "1.9995661605206074"
      ]
     },
     "execution_count": 12,
     "metadata": {},
     "output_type": "execute_result"
    }
   ],
   "source": [
    "294976 / 147520"
   ]
  },
  {
   "cell_type": "code",
   "execution_count": null,
   "metadata": {},
   "outputs": [],
   "source": []
  }
 ],
 "metadata": {
  "kernelspec": {
   "display_name": "quant_basics",
   "language": "python",
   "name": "python3"
  },
  "language_info": {
   "codemirror_mode": {
    "name": "ipython",
    "version": 3
   },
   "file_extension": ".py",
   "mimetype": "text/x-python",
   "name": "python",
   "nbconvert_exporter": "python",
   "pygments_lexer": "ipython3",
   "version": "3.10.16"
  }
 },
 "nbformat": 4,
 "nbformat_minor": 2
}
