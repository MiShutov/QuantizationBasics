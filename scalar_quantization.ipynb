{
 "cells": [
  {
   "cell_type": "code",
   "execution_count": 1,
   "metadata": {},
   "outputs": [
    {
     "ename": "",
     "evalue": "",
     "output_type": "error",
     "traceback": [
      "\u001b[1;31mThe kernel failed to start as the Python Environment 'quantization_basics (Python -1.-1.-1)' is no longer available. Consider selecting another kernel or refreshing the list of Python Environments."
     ]
    }
   ],
   "source": [
    "%load_ext autoreload\n",
    "%autoreload 2\n",
    "\n",
    "import os\n",
    "import torch\n",
    "from transformers import AutoImageProcessor, AutoModelForImageClassification\n",
    "from tqdm import tqdm \n",
    "\n",
    "from torch.utils.data import DataLoader\n",
    "import datasets\n",
    "\n",
    "\n",
    "from quantization_tools import *\n",
    "from wrapper import Wrapper\n",
    "from evaluation import eval\n",
    "from utils import prepare_trainable_params, print_file_size\n",
    "from finetuning import ce_finetune, kd_finetune"
   ]
  },
  {
   "cell_type": "code",
   "execution_count": 1,
   "metadata": {},
   "outputs": [
    {
     "name": "stdout",
     "output_type": "stream",
     "text": [
      "# packages in environment at /home/msst/miniconda3/envs/rapids_env:\n",
      "#\n",
      "# Name                    Version                   Build  Channel\n",
      "_libgcc_mutex             0.1                 conda_forge    conda-forge\n",
      "_openmp_mutex             4.5                  2_kmp_llvm    conda-forge\n",
      "absl-py                   2.1.0                    pypi_0    pypi\n",
      "aiohappyeyeballs          2.4.3              pyhd8ed1ab_0    conda-forge\n",
      "aiohttp                   3.11.8          py312h178313f_0    conda-forge\n",
      "aiosignal                 1.3.1              pyhd8ed1ab_0    conda-forge\n",
      "anyio                     4.6.2.post1        pyhd8ed1ab_0    conda-forge\n",
      "aom                       3.9.1                hac33072_0    conda-forge\n",
      "argon2-cffi               23.1.0             pyhd8ed1ab_0    conda-forge\n",
      "argon2-cffi-bindings      21.2.0          py312h66e93f0_5    conda-forge\n",
      "arrow                     1.3.0              pyhd8ed1ab_0    conda-forge\n",
      "asttokens                 2.4.1                    pypi_0    pypi\n",
      "attr                      2.5.1                h166bdaf_1    conda-forge\n",
      "attrs                     24.2.0             pyh71513ae_0    conda-forge\n",
      "aws-c-auth                0.8.0               hb88c0a9_10    conda-forge\n",
      "aws-c-cal                 0.8.0                hecf86a2_2    conda-forge\n",
      "aws-c-common              0.10.3               hb9d3cd8_0    conda-forge\n",
      "aws-c-compression         0.3.0                hf42f96a_2    conda-forge\n",
      "aws-c-event-stream        0.5.0                h1ffe551_7    conda-forge\n",
      "aws-c-http                0.9.1                hab05fe4_2    conda-forge\n",
      "aws-c-io                  0.15.2               hdeadb07_2    conda-forge\n",
      "aws-c-mqtt                0.11.0               h7bd072d_8    conda-forge\n",
      "aws-c-s3                  0.7.2                h3a84f74_0    conda-forge\n",
      "aws-c-sdkutils            0.2.1                hf42f96a_1    conda-forge\n",
      "aws-checksums             0.2.2                hf42f96a_1    conda-forge\n",
      "aws-crt-cpp               0.29.5               h0e61686_1    conda-forge\n",
      "aws-sdk-cpp               1.11.449             hdaa582e_3    conda-forge\n",
      "azure-core-cpp            1.14.0               h5cfcd09_0    conda-forge\n",
      "azure-identity-cpp        1.10.0               h113e628_0    conda-forge\n",
      "azure-storage-blobs-cpp   12.13.0              h3cf044e_1    conda-forge\n",
      "azure-storage-common-cpp  12.8.0               h736e048_1    conda-forge\n",
      "azure-storage-files-datalake-cpp 12.12.0              ha633028_1    conda-forge\n",
      "beautifulsoup4            4.12.3             pyha770c72_0    conda-forge\n",
      "blas                      1.0                    openblas  \n",
      "bleach                    6.2.0              pyhd8ed1ab_0    conda-forge\n",
      "blosc                     1.21.6               hef167b5_0    conda-forge\n",
      "bokeh                     3.6.1              pyhd8ed1ab_0    conda-forge\n",
      "branca                    0.7.2              pyhd8ed1ab_0    conda-forge\n",
      "brotli                    1.1.0                hb9d3cd8_2    conda-forge\n",
      "brotli-bin                1.1.0                hb9d3cd8_2    conda-forge\n",
      "brotli-python             1.1.0           py312h2ec8cdc_2    conda-forge\n",
      "brunsli                   0.1                  h9c3ff4c_0    conda-forge\n",
      "bzip2                     1.0.8                h4bc722e_7    conda-forge\n",
      "c-ares                    1.34.3               hb9d3cd8_1    conda-forge\n",
      "c-blosc2                  2.15.1               hc57e6cf_0    conda-forge\n",
      "ca-certificates           2024.11.26           h06a4308_0  \n",
      "cached-property           1.5.2                hd8ed1ab_1    conda-forge\n",
      "cached_property           1.5.2              pyha770c72_1    conda-forge\n",
      "cachetools                5.5.0              pyhd8ed1ab_0    conda-forge\n",
      "certifi                   2024.8.30       py312h06a4308_0  \n",
      "cffi                      1.17.1          py312h06ac9bb_0    conda-forge\n",
      "charls                    2.4.2                h59595ed_0    conda-forge\n",
      "charset-normalizer        3.4.0              pyhd8ed1ab_0    conda-forge\n",
      "click                     8.1.7           unix_pyh707e725_0    conda-forge\n",
      "cloudpickle               3.1.0              pyhd8ed1ab_1    conda-forge\n",
      "colorama                  0.4.6              pyhd8ed1ab_0    conda-forge\n",
      "colorcet                  3.1.0              pyhd8ed1ab_0    conda-forge\n",
      "comm                      0.2.2                    pypi_0    pypi\n",
      "contourpy                 1.3.1           py312h68727a3_0    conda-forge\n",
      "cucim                     24.10.00        cuda12_py312_241009_gf08280c_0    rapidsai\n",
      "cuda-cccl_linux-64        12.5.39              ha770c72_0    conda-forge\n",
      "cuda-crt-dev_linux-64     12.5.82              ha770c72_0    conda-forge\n",
      "cuda-crt-tools            12.5.82              ha770c72_0    conda-forge\n",
      "cuda-cudart               12.5.82              he02047a_0    conda-forge\n",
      "cuda-cudart-dev           12.5.82              he02047a_0    conda-forge\n",
      "cuda-cudart-dev_linux-64  12.5.82              h85509e4_0    conda-forge\n",
      "cuda-cudart-static        12.5.82              he02047a_0    conda-forge\n",
      "cuda-cudart-static_linux-64 12.5.82              h85509e4_0    conda-forge\n",
      "cuda-cudart_linux-64      12.5.82              h85509e4_0    conda-forge\n",
      "cuda-nvcc-dev_linux-64    12.5.82              ha770c72_0    conda-forge\n",
      "cuda-nvcc-impl            12.5.82              hd3aeb46_0    conda-forge\n",
      "cuda-nvcc-tools           12.5.82              hd3aeb46_0    conda-forge\n",
      "cuda-nvrtc                12.5.82              he02047a_0    conda-forge\n",
      "cuda-nvvm-dev_linux-64    12.5.82              ha770c72_0    conda-forge\n",
      "cuda-nvvm-impl            12.5.82              h59595ed_0    conda-forge\n",
      "cuda-nvvm-tools           12.5.82              h59595ed_0    conda-forge\n",
      "cuda-profiler-api         12.5.39              ha770c72_0    conda-forge\n",
      "cuda-python               12.6.2          py312he9d8a76_1    conda-forge\n",
      "cuda-version              12.5                 hd4f0392_3    conda-forge\n",
      "cudf                      24.10.01        cuda12_py312_241009_g7b0adfa253_0    rapidsai\n",
      "cudf_kafka                24.10.01        cuda12_py312_241009_g7b0adfa253_0    rapidsai\n",
      "cugraph                   24.10.00        cuda12_py312_241009_g6f2510afa_0    rapidsai\n",
      "cuml                      24.10.00        cuda12_py312_241009_gba7e3ab9c_0    rapidsai\n",
      "cuproj                    24.10.00        cuda12_py312_241009_g73184efb_0    rapidsai\n",
      "cupy                      13.3.0          py312h7d319b9_2    conda-forge\n",
      "cupy-core                 13.3.0          py312h1acd1a8_2    conda-forge\n",
      "cuspatial                 24.10.00        cuda12_py312_241009_g73184efb_0    rapidsai\n",
      "custreamz                 24.10.01        cuda12_py312_241009_g7b0adfa253_0    rapidsai\n",
      "cuvs                      24.10.00        cuda12_py312_241009_g7de3a05_0    rapidsai\n",
      "cuxfilter                 24.10.00        cuda12_py312_241009_g8c10c79_0    rapidsai\n",
      "cycler                    0.12.1             pyhd8ed1ab_0    conda-forge\n",
      "cyrus-sasl                2.1.27               h54b06d7_7    conda-forge\n",
      "cytoolz                   1.0.0           py312h66e93f0_1    conda-forge\n",
      "dask                      2024.9.0           pyhd8ed1ab_0    conda-forge\n",
      "dask-core                 2024.9.0           pyhd8ed1ab_0    conda-forge\n",
      "dask-cuda                 24.10.00        py312_241009_g4e45758_0    rapidsai\n",
      "dask-cudf                 24.10.01        cuda12_py312_241009_g7b0adfa253_0    rapidsai\n",
      "dask-expr                 1.1.14             pyhd8ed1ab_0    conda-forge\n",
      "datasets                  3.1.0                    pypi_0    pypi\n",
      "datashader                0.16.3             pyhd8ed1ab_0    conda-forge\n",
      "dav1d                     1.2.1                hd590300_0    conda-forge\n",
      "debugpy                   1.8.9                    pypi_0    pypi\n",
      "decorator                 5.1.1                    pypi_0    pypi\n",
      "defusedxml                0.7.1              pyhd8ed1ab_0    conda-forge\n",
      "dill                      0.3.8                    pypi_0    pypi\n",
      "distributed               2024.9.0           pyhd8ed1ab_0    conda-forge\n",
      "distributed-ucxx          0.40.00         py3.12_241009_g152901c_0    rapidsai\n",
      "dlpack                    0.8                  h59595ed_3    conda-forge\n",
      "entrypoints               0.4                pyhd8ed1ab_0    conda-forge\n",
      "exceptiongroup            1.2.2              pyhd8ed1ab_0    conda-forge\n",
      "executing                 2.1.0                    pypi_0    pypi\n",
      "faiss-gpu                 1.8.0           py3.12_h4c7d538_0_cuda12.1.1    pytorch\n",
      "fastrlock                 0.8.2           py312h30efb56_2    conda-forge\n",
      "filelock                  3.16.1                   pypi_0    pypi\n",
      "fmt                       11.0.2               h434a139_0    conda-forge\n",
      "folium                    0.18.0             pyhd8ed1ab_0    conda-forge\n",
      "fonttools                 4.55.0          py312h178313f_0    conda-forge\n",
      "fqdn                      1.5.1              pyhd8ed1ab_0    conda-forge\n",
      "freetype                  2.12.1               h267a509_2    conda-forge\n",
      "freexl                    2.0.0                h743c826_0    conda-forge\n",
      "frozenlist                1.5.0           py312h66e93f0_0    conda-forge\n",
      "fsspec                    2024.9.0                 pypi_0    pypi\n",
      "geopandas                 1.0.1              pyhd8ed1ab_1    conda-forge\n",
      "geopandas-base            1.0.1              pyha770c72_1    conda-forge\n",
      "geos                      3.13.0               h5888daf_0    conda-forge\n",
      "geotiff                   1.7.3                h77b800c_3    conda-forge\n",
      "gflags                    2.2.2             h5888daf_1005    conda-forge\n",
      "giflib                    5.2.2                hd590300_0    conda-forge\n",
      "glog                      0.7.1                hbabe93e_0    conda-forge\n",
      "grpcio                    1.68.1                   pypi_0    pypi\n",
      "h2                        4.1.0              pyhd8ed1ab_0    conda-forge\n",
      "holoviews                 1.20.0             pyhd8ed1ab_0    conda-forge\n",
      "hpack                     4.0.0              pyh9f0ad1d_0    conda-forge\n",
      "huggingface-hub           0.26.3                   pypi_0    pypi\n",
      "hyperframe                6.0.1              pyhd8ed1ab_0    conda-forge\n",
      "icu                       75.1                 he02047a_0    conda-forge\n",
      "idna                      3.10               pyhd8ed1ab_0    conda-forge\n",
      "imagecodecs               2024.9.22       py312hf6703b6_0    conda-forge\n",
      "imageio                   2.36.0             pyh12aca89_1    conda-forge\n",
      "importlib-metadata        8.5.0              pyha770c72_0    conda-forge\n",
      "importlib_metadata        8.5.0                hd8ed1ab_0    conda-forge\n",
      "importlib_resources       6.4.5              pyhd8ed1ab_0    conda-forge\n",
      "ipykernel                 6.29.5                   pypi_0    pypi\n",
      "ipython                   8.29.0                   pypi_0    pypi\n",
      "ipywidgets                8.1.5                    pypi_0    pypi\n",
      "isoduration               20.11.0            pyhd8ed1ab_0    conda-forge\n",
      "jedi                      0.19.2                   pypi_0    pypi\n",
      "jinja2                    3.1.4              pyhd8ed1ab_0    conda-forge\n",
      "joblib                    1.4.2              pyhd8ed1ab_0    conda-forge\n",
      "json-c                    0.18                 h6688a6e_0    conda-forge\n",
      "jsonpointer               3.0.0           py312h7900ff3_1    conda-forge\n",
      "jsonschema                4.23.0             pyhd8ed1ab_0    conda-forge\n",
      "jsonschema-specifications 2024.10.1          pyhd8ed1ab_0    conda-forge\n",
      "jsonschema-with-format-nongpl 4.23.0               hd8ed1ab_0    conda-forge\n",
      "jupyter-server-proxy      4.4.0              pyhd8ed1ab_0    conda-forge\n",
      "jupyter_client            8.6.3              pyhd8ed1ab_0    conda-forge\n",
      "jupyter_core              5.7.2              pyh31011fe_1    conda-forge\n",
      "jupyter_events            0.10.0             pyhd8ed1ab_0    conda-forge\n",
      "jupyter_server            2.14.2             pyhd8ed1ab_0    conda-forge\n",
      "jupyter_server_terminals  0.5.3              pyhd8ed1ab_0    conda-forge\n",
      "jupyterlab-widgets        3.0.13                   pypi_0    pypi\n",
      "jupyterlab_pygments       0.3.0              pyhd8ed1ab_1    conda-forge\n",
      "jxrlib                    1.1                  hd590300_3    conda-forge\n",
      "keyutils                  1.6.1                h166bdaf_0    conda-forge\n",
      "kiwisolver                1.4.7           py312h68727a3_0    conda-forge\n",
      "kmeans-pytorch            0.3                      pypi_0    pypi\n",
      "krb5                      1.21.3               h659f571_0    conda-forge\n",
      "lazy-loader               0.4                pyhd8ed1ab_1    conda-forge\n",
      "lazy_loader               0.4                pyhd8ed1ab_1    conda-forge\n",
      "lcms2                     2.16                 hb7c19ff_0    conda-forge\n",
      "ld_impl_linux-64          2.43                 h712a8e2_2    conda-forge\n",
      "lerc                      4.0.0                h27087fc_0    conda-forge\n",
      "libabseil                 20240722.0      cxx17_h5888daf_1    conda-forge\n",
      "libaec                    1.1.3                h59595ed_0    conda-forge\n",
      "libarchive                3.7.7                hadbb8c3_0    conda-forge\n",
      "libarrow                  17.0.0          h94eee4b_32_cpu    conda-forge\n",
      "libarrow-acero            17.0.0          h5888daf_32_cpu    conda-forge\n",
      "libarrow-dataset          17.0.0          h5888daf_32_cpu    conda-forge\n",
      "libarrow-substrait        17.0.0          h5c8f2c3_32_cpu    conda-forge\n",
      "libavif16                 1.1.1                h1909e37_2    conda-forge\n",
      "libblas                   3.9.0           25_linux64_openblas    conda-forge\n",
      "libbrotlicommon           1.1.0                hb9d3cd8_2    conda-forge\n",
      "libbrotlidec              1.1.0                hb9d3cd8_2    conda-forge\n",
      "libbrotlienc              1.1.0                hb9d3cd8_2    conda-forge\n",
      "libcap                    2.69                 h0f662aa_0    conda-forge\n",
      "libcblas                  3.9.0           25_linux64_openblas    conda-forge\n",
      "libcrc32c                 1.1.2                h9c3ff4c_0    conda-forge\n",
      "libcublas                 12.5.3.2             he02047a_0    conda-forge\n",
      "libcublas-dev             12.5.3.2             he02047a_0    conda-forge\n",
      "libcucim                  24.10.00        cuda12_241009_gf08280c_0    rapidsai\n",
      "libcudf                   24.10.01        cuda12_241009_g7b0adfa253_0    rapidsai\n",
      "libcudf_kafka             24.10.01        cuda12_241009_g7b0adfa253_0    rapidsai\n",
      "libcufft                  11.2.3.61            he02047a_0    conda-forge\n",
      "libcufile                 1.10.1.7             he02047a_0    conda-forge\n",
      "libcufile-dev             1.10.1.7             he02047a_0    conda-forge\n",
      "libcugraph                24.10.00        cuda12_241009_g6f2510afa_0    rapidsai\n",
      "libcugraph_etl            24.10.00        cuda12_241009_g6f2510afa_0    rapidsai\n",
      "libcugraphops             24.10.00        cuda12_241009_g7057cc73_0    rapidsai\n",
      "libcuml                   24.10.00        cuda12_241009_gba7e3ab9c_0    rapidsai\n",
      "libcumlprims              24.10.00        cuda12_241009_g0848871_0    rapidsai\n",
      "libcurand                 10.3.6.82            he02047a_0    conda-forge\n",
      "libcurand-dev             10.3.6.82            he02047a_0    conda-forge\n",
      "libcurl                   8.10.1               hbbe4b11_0    conda-forge\n",
      "libcusolver               11.6.3.83            he02047a_0    conda-forge\n",
      "libcusolver-dev           11.6.3.83            he02047a_0    conda-forge\n",
      "libcusparse               12.5.1.3             he02047a_0    conda-forge\n",
      "libcusparse-dev           12.5.1.3             he02047a_0    conda-forge\n",
      "libcuspatial              24.10.00        cuda12_241009_g73184efb_0    rapidsai\n",
      "libcuvs                   24.10.00        cuda12_241009_g7de3a05_0    rapidsai\n",
      "libde265                  1.0.15               h00ab1b0_0    conda-forge\n",
      "libdeflate                1.22                 hb9d3cd8_0    conda-forge\n",
      "libedit                   3.1.20191231         he28a2e2_2    conda-forge\n",
      "libev                     4.33                 hd590300_2    conda-forge\n",
      "libevent                  2.1.12               hf998b51_1    conda-forge\n",
      "libexpat                  2.6.4                h5888daf_0    conda-forge\n",
      "libfaiss                  1.8.0           h046e95b_0_cuda12.1.1    pytorch\n",
      "libffi                    3.4.2                h7f98852_5    conda-forge\n",
      "libgcc                    14.2.0               h77fa898_1    conda-forge\n",
      "libgcc-ng                 14.2.0               h69a702a_1    conda-forge\n",
      "libgcrypt                 1.11.0               ha770c72_2    conda-forge\n",
      "libgcrypt-devel           1.11.0               hb9d3cd8_2    conda-forge\n",
      "libgcrypt-lib             1.11.0               hb9d3cd8_2    conda-forge\n",
      "libgcrypt-tools           1.11.0               hb9d3cd8_2    conda-forge\n",
      "libgdal-core              3.10.0               hef9eae6_2    conda-forge\n",
      "libgfortran               14.2.0               h69a702a_1    conda-forge\n",
      "libgfortran5              14.2.0               hd5240d6_1    conda-forge\n",
      "libgomp                   14.2.0               h77fa898_1    conda-forge\n",
      "libgoogle-cloud           2.31.0               h804f50b_0    conda-forge\n",
      "libgoogle-cloud-storage   2.31.0               h0121fbd_0    conda-forge\n",
      "libgpg-error              1.51                 hbd13f7d_1    conda-forge\n",
      "libgrpc                   1.67.1               hc2c308b_0    conda-forge\n",
      "libheif                   1.18.2          gpl_hffcb242_100    conda-forge\n",
      "libhwy                    1.1.0                h00ab1b0_0    conda-forge\n",
      "libiconv                  1.17                 hd590300_2    conda-forge\n",
      "libjpeg-turbo             3.0.0                hd590300_1    conda-forge\n",
      "libjxl                    0.11.1               hdb8da77_0    conda-forge\n",
      "libkml                    1.3.0             hf539b9f_1021    conda-forge\n",
      "libkvikio                 24.10.00        cuda12_241009_g85a88a2_0    rapidsai\n",
      "liblapack                 3.9.0           25_linux64_openblas    conda-forge\n",
      "libllvm14                 14.0.6               hcd5def8_4    conda-forge\n",
      "libnghttp2                1.64.0               h161d5f1_0    conda-forge\n",
      "libnl                     3.11.0               hb9d3cd8_0    conda-forge\n",
      "libnsl                    2.0.1                hd590300_0    conda-forge\n",
      "libntlm                   1.4               h7f98852_1002    conda-forge\n",
      "libnvjitlink              12.5.82              he02047a_0    conda-forge\n",
      "libnvjpeg                 12.3.2.81            he02047a_0    conda-forge\n",
      "libopenblas               0.3.28          pthreads_h94d23a6_1    conda-forge\n",
      "libparquet                17.0.0          h6bd9018_32_cpu    conda-forge\n",
      "libpng                    1.6.44               hadc24fc_0    conda-forge\n",
      "libprotobuf               5.28.2               h5b01275_0    conda-forge\n",
      "libraft                   24.10.00        cuda12_241009_g397042a0_0    rapidsai\n",
      "libraft-headers           24.10.00        cuda12_241009_g397042a0_0    rapidsai\n",
      "libraft-headers-only      24.10.00        cuda12_241009_g397042a0_0    rapidsai\n",
      "librdkafka                2.5.3                h95ba008_0    conda-forge\n",
      "libre2-11                 2024.07.02           hbbce691_1    conda-forge\n",
      "librmm                    24.10.00        cuda12_241009_g3223f841_0    rapidsai\n",
      "librttopo                 1.1.0               h97f6797_17    conda-forge\n",
      "libsodium                 1.0.20               h4ab18f5_0    conda-forge\n",
      "libspatialite             5.1.0               h1b4f908_11    conda-forge\n",
      "libsqlite                 3.47.0               hadc24fc_1    conda-forge\n",
      "libssh2                   1.11.1               hf672d98_0    conda-forge\n",
      "libstdcxx                 14.2.0               hc0a3c3a_1    conda-forge\n",
      "libstdcxx-ng              14.2.0               h4852527_1    conda-forge\n",
      "libsystemd0               256.7                h2774228_1    conda-forge\n",
      "libthrift                 0.21.0               h0e7cc3e_0    conda-forge\n",
      "libtiff                   4.7.0                he137b08_1    conda-forge\n",
      "libucxx                   0.40.00         cuda12_241009_g152901c_0    rapidsai\n",
      "libudev1                  256.7                hb9d3cd8_1    conda-forge\n",
      "libutf8proc               2.8.0                h166bdaf_0    conda-forge\n",
      "libuuid                   2.38.1               h0b41bf4_0    conda-forge\n",
      "libuv                     1.49.2               hb9d3cd8_0    conda-forge\n",
      "libwebp-base              1.4.0                hd590300_0    conda-forge\n",
      "libxcb                    1.17.0               h8a09558_0    conda-forge\n",
      "libxcrypt                 4.4.36               hd590300_1    conda-forge\n",
      "libxgboost                2.1.1           rapidsai_h01f03eb_5    rapidsai\n",
      "libxml2                   2.13.5               hb346dea_0    conda-forge\n",
      "libzlib                   1.3.1                hb9d3cd8_2    conda-forge\n",
      "libzopfli                 1.0.3                h9c3ff4c_0    conda-forge\n",
      "linkify-it-py             2.0.3              pyhd8ed1ab_0    conda-forge\n",
      "llvm-openmp               19.1.4               h024ca30_0    conda-forge\n",
      "llvmlite                  0.43.0          py312h374181b_1    conda-forge\n",
      "locket                    1.0.0              pyhd8ed1ab_0    conda-forge\n",
      "lz4                       4.3.3           py312hb3f7f12_1    conda-forge\n",
      "lz4-c                     1.9.4                hcb278e6_0    conda-forge\n",
      "lzo                       2.10              hd590300_1001    conda-forge\n",
      "mapclassify               2.8.1              pyhd8ed1ab_0    conda-forge\n",
      "markdown                  3.6                pyhd8ed1ab_0    conda-forge\n",
      "markdown-it-py            3.0.0              pyhd8ed1ab_0    conda-forge\n",
      "markupsafe                3.0.2           py312h178313f_0    conda-forge\n",
      "matplotlib-base           3.9.2           py312hd3ec401_2    conda-forge\n",
      "matplotlib-inline         0.1.7                    pypi_0    pypi\n",
      "mdit-py-plugins           0.4.2              pyhd8ed1ab_0    conda-forge\n",
      "mdurl                     0.1.2              pyhd8ed1ab_0    conda-forge\n",
      "memory-profiler           0.61.0                   pypi_0    pypi\n",
      "minizip                   4.0.7                h401b404_0    conda-forge\n",
      "mistune                   3.0.2              pyhd8ed1ab_0    conda-forge\n",
      "mkl                       2023.2.0         h84fe81f_50496    conda-forge\n",
      "mpmath                    1.3.0                    pypi_0    pypi\n",
      "msgpack-python            1.1.0           py312h68727a3_0    conda-forge\n",
      "multidict                 6.1.0           py312h178313f_1    conda-forge\n",
      "multipledispatch          0.6.0              pyhd8ed1ab_1    conda-forge\n",
      "multiprocess              0.70.16                  pypi_0    pypi\n",
      "munkres                   1.1.4              pyh9f0ad1d_0    conda-forge\n",
      "nbclient                  0.10.0             pyhd8ed1ab_0    conda-forge\n",
      "nbconvert-core            7.16.4             pyhd8ed1ab_1    conda-forge\n",
      "nbformat                  5.10.4             pyhd8ed1ab_0    conda-forge\n",
      "nccl                      2.23.4.1             h2b5d15b_3    conda-forge\n",
      "ncurses                   6.5                  he02047a_1    conda-forge\n",
      "nest-asyncio              1.6.0                    pypi_0    pypi\n",
      "networkx                  3.4.2              pyh267e887_2    conda-forge\n",
      "nip-config                0.11.1                   pypi_0    pypi\n",
      "nodejs                    22.11.0              hf235a45_0    conda-forge\n",
      "numba                     0.60.0          py312h83e6fd3_0    conda-forge\n",
      "numpy                     1.26.4          py312h2809609_0  \n",
      "numpy-base                1.26.4          py312he1a6c75_0  \n",
      "nvcomp                    4.0.1                hbc370b7_0    conda-forge\n",
      "nvidia-cublas-cu12        12.4.5.8                 pypi_0    pypi\n",
      "nvidia-cuda-cupti-cu12    12.4.127                 pypi_0    pypi\n",
      "nvidia-cuda-nvrtc-cu12    12.4.127                 pypi_0    pypi\n",
      "nvidia-cuda-runtime-cu12  12.4.127                 pypi_0    pypi\n",
      "nvidia-cudnn-cu12         9.1.0.70                 pypi_0    pypi\n",
      "nvidia-cufft-cu12         11.2.1.3                 pypi_0    pypi\n",
      "nvidia-curand-cu12        10.3.5.147               pypi_0    pypi\n",
      "nvidia-cusolver-cu12      11.6.1.9                 pypi_0    pypi\n",
      "nvidia-cusparse-cu12      12.3.1.170               pypi_0    pypi\n",
      "nvidia-nccl-cu12          2.21.5                   pypi_0    pypi\n",
      "nvidia-nvjitlink-cu12     12.4.127                 pypi_0    pypi\n",
      "nvidia-nvtx-cu12          12.4.127                 pypi_0    pypi\n",
      "nvtx                      0.2.10          py312h66e93f0_2    conda-forge\n",
      "nx-cugraph                24.10.00        py312_241009_g6f2510afa_0    rapidsai\n",
      "openjpeg                  2.5.2                h488ebb8_0    conda-forge\n",
      "openssl                   3.4.0                hb9d3cd8_0    conda-forge\n",
      "orc                       2.0.3                he039a57_0    conda-forge\n",
      "overrides                 7.7.0              pyhd8ed1ab_0    conda-forge\n",
      "packaging                 24.2               pyhff2d567_1    conda-forge\n",
      "pandas                    2.2.2           py312h1d6d2e6_1    conda-forge\n",
      "pandocfilters             1.5.0              pyhd8ed1ab_0    conda-forge\n",
      "panel                     1.5.4              pyhd8ed1ab_0    conda-forge\n",
      "param                     2.1.1              pyhff2d567_0    conda-forge\n",
      "parso                     0.8.4                    pypi_0    pypi\n",
      "partd                     1.4.2              pyhd8ed1ab_0    conda-forge\n",
      "pcre2                     10.44                hba22ea6_2    conda-forge\n",
      "pexpect                   4.9.0                    pypi_0    pypi\n",
      "pillow                    11.0.0          py312h7b63e92_0    conda-forge\n",
      "pip                       24.3.1             pyh8b19718_0    conda-forge\n",
      "pkgutil-resolve-name      1.3.10             pyhd8ed1ab_1    conda-forge\n",
      "platformdirs              4.3.6              pyhd8ed1ab_0    conda-forge\n",
      "prettytable               3.12.0                   pypi_0    pypi\n",
      "proj                      9.5.0                h12925eb_0    conda-forge\n",
      "prometheus_client         0.21.0             pyhd8ed1ab_0    conda-forge\n",
      "prompt-toolkit            3.0.48                   pypi_0    pypi\n",
      "propcache                 0.2.0           py312h66e93f0_2    conda-forge\n",
      "protobuf                  5.29.2                   pypi_0    pypi\n",
      "psutil                    6.1.0           py312h66e93f0_0    conda-forge\n",
      "pthread-stubs             0.4               hb9d3cd8_1002    conda-forge\n",
      "ptyprocess                0.7.0              pyhd3deb0d_0    conda-forge\n",
      "pure-eval                 0.2.3                    pypi_0    pypi\n",
      "py-xgboost                2.1.1           rapidsai_pyh53d8b89_5    rapidsai\n",
      "pyarrow                   17.0.0          py312h9cebb41_2    conda-forge\n",
      "pyarrow-core              17.0.0          py312h01725c0_2_cpu    conda-forge\n",
      "pycparser                 2.22               pyhd8ed1ab_0    conda-forge\n",
      "pyct                      0.5.0              pyhd8ed1ab_0    conda-forge\n",
      "pygments                  2.18.0             pyhd8ed1ab_0    conda-forge\n",
      "pylibcudf                 24.10.01        cuda12_py312_241009_g7b0adfa253_0    rapidsai\n",
      "pylibcugraph              24.10.00        cuda12_py312_241009_g6f2510afa_0    rapidsai\n",
      "pylibraft                 24.10.00        cuda12_py312_241009_g397042a0_0    rapidsai\n",
      "pynvjitlink               0.4.0           py312hcc76453_0    rapidsai\n",
      "pynvml                    11.4.1             pyhd8ed1ab_0    conda-forge\n",
      "pyogrio                   0.10.0          py312h02b19dd_1    conda-forge\n",
      "pyparsing                 3.2.0              pyhd8ed1ab_1    conda-forge\n",
      "pyproj                    3.7.0           py312he630544_0    conda-forge\n",
      "pysocks                   1.7.1              pyha2e5f31_6    conda-forge\n",
      "python                    3.12.7          hc5c86c4_0_cpython    conda-forge\n",
      "python-confluent-kafka    2.5.3           py312h66e93f0_0    conda-forge\n",
      "python-dateutil           2.9.0.post0        pyhff2d567_0    conda-forge\n",
      "python-fastjsonschema     2.20.0             pyhd8ed1ab_0    conda-forge\n",
      "python-json-logger        2.0.7              pyhd8ed1ab_0    conda-forge\n",
      "python-tzdata             2024.2             pyhd8ed1ab_0    conda-forge\n",
      "python_abi                3.12                    5_cp312    conda-forge\n",
      "pytz                      2024.2             pyhd8ed1ab_0    conda-forge\n",
      "pyviz_comms               3.0.3              pyhd8ed1ab_0    conda-forge\n",
      "pywavelets                1.7.0           py312hc0a28a1_2    conda-forge\n",
      "pyyaml                    6.0.2           py312h66e93f0_1    conda-forge\n",
      "pyzmq                     26.2.0          py312hbf22597_3    conda-forge\n",
      "qhull                     2020.2               h434a139_5    conda-forge\n",
      "raft-dask                 24.10.00        cuda12_py312_241009_g397042a0_0    rapidsai\n",
      "rapids                    24.10.00        cuda12_py312_241009_g19a0c5a_0    rapidsai\n",
      "rapids-dask-dependency    24.10.00                   py_0    rapidsai\n",
      "rapids-xgboost            24.10.00        cuda12_py312_241009_g19a0c5a_0    rapidsai\n",
      "rav1e                     0.6.6                he8a937b_2    conda-forge\n",
      "rdma-core                 54.0                 h5888daf_1    conda-forge\n",
      "re2                       2024.07.02           h77b4e00_1    conda-forge\n",
      "readline                  8.2                  h8228510_1    conda-forge\n",
      "referencing               0.35.1             pyhd8ed1ab_0    conda-forge\n",
      "regex                     2024.11.6                pypi_0    pypi\n",
      "requests                  2.32.3             pyhd8ed1ab_0    conda-forge\n",
      "rfc3339-validator         0.1.4              pyhd8ed1ab_0    conda-forge\n",
      "rfc3986-validator         0.1.1              pyh9f0ad1d_0    conda-forge\n",
      "rich                      13.9.4             pyhd8ed1ab_0    conda-forge\n",
      "rmm                       24.10.00        cuda12_py312_241009_g3223f841_0    rapidsai\n",
      "rpds-py                   0.21.0          py312h12e396e_0    conda-forge\n",
      "s2n                       1.5.9                h0fd0ee4_0    conda-forge\n",
      "safetensors               0.4.5                    pypi_0    pypi\n",
      "scikit-image              0.24.0          py312hf9745cd_3    conda-forge\n",
      "scikit-learn              1.5.2           py312h7a48858_1    conda-forge\n",
      "scipy                     1.14.1          py312h62794b6_1    conda-forge\n",
      "send2trash                1.8.3              pyh0d859eb_0    conda-forge\n",
      "setuptools                75.6.0             pyhff2d567_1    conda-forge\n",
      "shapely                   2.0.6           py312h391bc85_2    conda-forge\n",
      "simpervisor               1.0.0              pyhd8ed1ab_0    conda-forge\n",
      "six                       1.16.0             pyh6c4a22f_0    conda-forge\n",
      "snappy                    1.2.1                ha2e4443_0    conda-forge\n",
      "sniffio                   1.3.1              pyhd8ed1ab_0    conda-forge\n",
      "sortedcontainers          2.4.0              pyhd8ed1ab_0    conda-forge\n",
      "soupsieve                 2.5                pyhd8ed1ab_1    conda-forge\n",
      "spdlog                    1.14.1               hed91bc2_1    conda-forge\n",
      "sqlite                    3.47.0               h9eae976_1    conda-forge\n",
      "stack-data                0.6.3                    pypi_0    pypi\n",
      "streamz                   0.6.4              pyh6c4a22f_0    conda-forge\n",
      "svt-av1                   2.3.0                h5888daf_0    conda-forge\n",
      "sympy                     1.13.1                   pypi_0    pypi\n",
      "tbb                       2021.8.0             hdb19cb5_0  \n",
      "tblib                     3.0.0              pyhd8ed1ab_0    conda-forge\n",
      "tensorboard               2.18.0                   pypi_0    pypi\n",
      "tensorboard-data-server   0.7.2                    pypi_0    pypi\n",
      "terminado                 0.18.1             pyh0d859eb_0    conda-forge\n",
      "threadpoolctl             3.5.0              pyhc1e730c_0    conda-forge\n",
      "tifffile                  2024.9.20          pyhd8ed1ab_0    conda-forge\n",
      "tinycss2                  1.4.0              pyhd8ed1ab_0    conda-forge\n",
      "tk                        8.6.13          noxft_h4845f30_101    conda-forge\n",
      "tokenizers                0.20.3                   pypi_0    pypi\n",
      "toolz                     1.0.0              pyhd8ed1ab_0    conda-forge\n",
      "torch                     2.5.1                    pypi_0    pypi\n",
      "tornado                   6.4.2           py312h66e93f0_0    conda-forge\n",
      "tqdm                      4.67.1             pyhd8ed1ab_0    conda-forge\n",
      "traitlets                 5.14.3             pyhd8ed1ab_0    conda-forge\n",
      "transformers              4.46.3                   pypi_0    pypi\n",
      "treelite                  4.3.0           py312h01abfbf_0    conda-forge\n",
      "triton                    3.1.0                    pypi_0    pypi\n",
      "typeguard                 4.4.1                    pypi_0    pypi\n",
      "types-python-dateutil     2.9.0.20241003     pyhff2d567_0    conda-forge\n",
      "typing-extensions         4.12.2               hd8ed1ab_0    conda-forge\n",
      "typing_extensions         4.12.2             pyha770c72_0    conda-forge\n",
      "typing_utils              0.1.0              pyhd8ed1ab_0    conda-forge\n",
      "tzdata                    2024b                hc8b5060_0    conda-forge\n",
      "uc-micro-py               1.0.3              pyhd8ed1ab_0    conda-forge\n",
      "ucx                       1.17.0               h05e919c_3    conda-forge\n",
      "ucx-proc                  1.0.0                       gpu    rapidsai\n",
      "ucx-py                    0.40.00         py312_241009_g773cd1e_0    rapidsai\n",
      "ucxx                      0.40.00         cuda12_py3.12_241009_g152901c_0    rapidsai\n",
      "unicodedata2              15.1.0          py312h66e93f0_1    conda-forge\n",
      "uri-template              1.3.0              pyhd8ed1ab_0    conda-forge\n",
      "uriparser                 0.9.8                hac33072_0    conda-forge\n",
      "urllib3                   2.2.3              pyhd8ed1ab_0    conda-forge\n",
      "wcwidth                   0.2.13                   pypi_0    pypi\n",
      "webcolors                 24.8.0             pyhd8ed1ab_0    conda-forge\n",
      "webencodings              0.5.1              pyhd8ed1ab_2    conda-forge\n",
      "websocket-client          1.8.0              pyhd8ed1ab_0    conda-forge\n",
      "werkzeug                  3.1.3                    pypi_0    pypi\n",
      "wheel                     0.45.1             pyhd8ed1ab_0    conda-forge\n",
      "widgetsnbextension        4.0.13                   pypi_0    pypi\n",
      "x265                      3.5                  h924138e_3    conda-forge\n",
      "xarray                    2024.11.0          pyhd8ed1ab_0    conda-forge\n",
      "xerces-c                  3.2.5                h988505b_2    conda-forge\n",
      "xgboost                   2.1.1           rapidsai_pyh9bdd636_5    rapidsai\n",
      "xorg-libxau               1.0.11               hb9d3cd8_1    conda-forge\n",
      "xorg-libxdmcp             1.1.5                hb9d3cd8_0    conda-forge\n",
      "xxhash                    3.5.0                    pypi_0    pypi\n",
      "xyzservices               2024.9.0           pyhd8ed1ab_0    conda-forge\n",
      "xz                        5.2.6                h166bdaf_0    conda-forge\n",
      "yaml                      0.2.5                h7f98852_2    conda-forge\n",
      "yarl                      1.18.0          py312h66e93f0_0    conda-forge\n",
      "zeromq                    4.3.5                h3b0a872_7    conda-forge\n",
      "zfp                       1.0.1                h5888daf_2    conda-forge\n",
      "zict                      3.0.0              pyhd8ed1ab_0    conda-forge\n",
      "zipp                      3.21.0             pyhd8ed1ab_0    conda-forge\n",
      "zlib                      1.3.1                hb9d3cd8_2    conda-forge\n",
      "zlib-ng                   2.2.2                h5888daf_0    conda-forge\n",
      "zstandard                 0.23.0          py312hef9b889_1    conda-forge\n",
      "zstd                      1.5.6                ha6fb4c9_0    conda-forge\n"
     ]
    }
   ],
   "source": [
    "!conda list"
   ]
  },
  {
   "cell_type": "code",
   "execution_count": 2,
   "metadata": {},
   "outputs": [],
   "source": [
    "#model_path = 'microsoft/resnet-18'\n",
    "model_path = '/home/msst/repo/local/cv/pretrained_models/resnet-18'\n",
    "path_to_save_models = '/home/msst/repo/Quantization/weights/seminar'\n",
    "\n",
    "device = 'cuda'"
   ]
  },
  {
   "cell_type": "code",
   "execution_count": 3,
   "metadata": {},
   "outputs": [],
   "source": [
    "# path_to_dataset = '/home/msst/repo/local/cv/datasets/ImageNet'\n",
    "# image_processor = AutoImageProcessor.from_pretrained(model_path)\n",
    "\n",
    "# train_dataset = datasets.load_dataset(\n",
    "#     path_to_dataset, \n",
    "#     split=\"train\"\n",
    "# )\n",
    "\n",
    "# test_dataset = datasets.load_dataset(\n",
    "#     path_to_dataset, \n",
    "#     split=\"test\"\n",
    "# )\n",
    "\n",
    "# def preprocess(sample):\n",
    "#     if sample['image'].mode != 'RGB':\n",
    "#         sample['image'] = sample['image'].convert('RGB')\n",
    "\n",
    "#     sample['image'] = image_processor(sample['image'], return_tensors=\"pt\")['pixel_values'][0]\n",
    "#     return sample\n",
    "\n",
    "# train_dataset = train_dataset.map(preprocess)\n",
    "# test_dataset = test_dataset.map(preprocess)\n",
    "\n",
    "# train_dataset.set_format(type='torch', columns=['image', 'label'])\n",
    "# test_dataset.set_format(type='torch', columns=['image', 'label'])\n",
    "\n",
    "# path_to_processed_dataset = '/home/msst/repo/local/cv/datasets/ImageNet/processed_data'\n",
    "# test_dataset.save_to_disk(os.path.join(path_to_processed_dataset, 'test'))\n",
    "# train_dataset.save_to_disk(os.path.join(path_to_processed_dataset, 'train'))"
   ]
  },
  {
   "cell_type": "code",
   "execution_count": 3,
   "metadata": {},
   "outputs": [
    {
     "data": {
      "application/vnd.jupyter.widget-view+json": {
       "model_id": "4750cee0db164255a9308e300360818e",
       "version_major": 2,
       "version_minor": 0
      },
      "text/plain": [
       "Loading dataset from disk:   0%|          | 0/62 [00:00<?, ?it/s]"
      ]
     },
     "metadata": {},
     "output_type": "display_data"
    }
   ],
   "source": [
    "path_to_processed_dataset = '/home/msst/repo/local/cv/datasets/ImageNet/processed_data'\n",
    "test_dataset = datasets.load_from_disk(os.path.join(path_to_processed_dataset, 'test'))\n",
    "train_dataset = datasets.load_from_disk(os.path.join(path_to_processed_dataset, 'train'))\n",
    "\n",
    "test_loader = DataLoader(test_dataset, batch_size=128, shuffle=True)"
   ]
  },
  {
   "cell_type": "markdown",
   "metadata": {},
   "source": [
    "### FP32"
   ]
  },
  {
   "cell_type": "code",
   "execution_count": 7,
   "metadata": {},
   "outputs": [],
   "source": [
    "# model = AutoModelForImageClassification.from_pretrained(model_path).to(device)\n",
    "# res = eval(model, test_loader)\n",
    "# print(res)\n",
    "# # {'top_1_accuracy': 0.6934, 'top_5_accuracy': 0.8882}\n",
    "\n",
    "# path_to_save = os.path.join(path_to_save_models, 'resnet_fp32.pth')\n",
    "# torch.save(model.state_dict(), path_to_save)\n",
    "# print_file_size(path_to_save)\n",
    "# # 44.678 Mb"
   ]
  },
  {
   "cell_type": "markdown",
   "metadata": {},
   "source": [
    "### FP16"
   ]
  },
  {
   "cell_type": "code",
   "execution_count": null,
   "metadata": {},
   "outputs": [
    {
     "name": "stdout",
     "output_type": "stream",
     "text": [
      "Run evaluation...\n"
     ]
    },
    {
     "name": "stderr",
     "output_type": "stream",
     "text": [
      "100%|██████████| 79/79 [00:45<00:00,  1.73it/s]"
     ]
    },
    {
     "name": "stdout",
     "output_type": "stream",
     "text": [
      "{'top_1_accuracy': 0.6934, 'top_5_accuracy': 0.888}\n",
      "22.363 Mb\n"
     ]
    },
    {
     "name": "stderr",
     "output_type": "stream",
     "text": [
      "\n"
     ]
    }
   ],
   "source": [
    "# model = AutoModelForImageClassification.from_pretrained(model_path).to(device)\n",
    "# with torch.autocast(device_type='cuda'):\n",
    "#     res = eval(model.half(), test_loader)\n",
    "# print(res)\n",
    "# # {'top_1_accuracy': 0.6933, 'top_5_accuracy': 0.888}\n",
    "\n",
    "# path_to_save = os.path.join(path_to_save_models, 'resnet_fp16.pth')\n",
    "# torch.save(model.state_dict(), path_to_save)\n",
    "# print_file_size(path_to_save)\n",
    "# # 22.363 Mb"
   ]
  },
  {
   "cell_type": "markdown",
   "metadata": {},
   "source": [
    "### INT8"
   ]
  },
  {
   "cell_type": "code",
   "execution_count": 28,
   "metadata": {},
   "outputs": [],
   "source": [
    "model = AutoModelForImageClassification.from_pretrained(model_path).to(device)\n",
    "wrap_rule = {\n",
    "    torch.nn.Linear : QLinear(weight_quantizer=Quantizer(bit_width=8, use_offset=True, group_type='tensor')),\n",
    "    torch.nn.Conv2d : QConv2d(weight_quantizer=Quantizer(bit_width=8, use_offset=True, group_type='tensor'))\t\n",
    "}\n",
    "wrapper = Wrapper(wrap_rule=wrap_rule)\n",
    "wrapper.wrap_model(model)\n",
    "\n",
    "# res = eval(model, test_loader)\n",
    "# print(res)\n",
    "# # {'top_1_accuracy': 0.6906, 'top_5_accuracy': 0.8874}"
   ]
  },
  {
   "cell_type": "code",
   "execution_count": 29,
   "metadata": {},
   "outputs": [
    {
     "name": "stdout",
     "output_type": "stream",
     "text": [
      "11.278 Mb\n"
     ]
    }
   ],
   "source": [
    "wrap_rule = {\n",
    "    QLinear : QuantizedLinear(),\n",
    "    QConv2d : QuantizedConv2d()\n",
    "}\n",
    "\n",
    "wrapper = Wrapper(wrap_rule=wrap_rule)\n",
    "wrapper.wrap_model(model)\n",
    "\n",
    "path_to_qunatized_model = '/home/msst/repo/Quantization/weights/seminar/lsq_8bit_quantized.pth'\n",
    "torch.save(model.state_dict(), path_to_qunatized_model)\n",
    "print_file_size(path_to_qunatized_model)"
   ]
  },
  {
   "cell_type": "code",
   "execution_count": 30,
   "metadata": {},
   "outputs": [
    {
     "name": "stdout",
     "output_type": "stream",
     "text": [
      "Run evaluation...\n"
     ]
    },
    {
     "name": "stderr",
     "output_type": "stream",
     "text": [
      "100%|██████████| 79/79 [00:43<00:00,  1.80it/s]\n"
     ]
    },
    {
     "name": "stdout",
     "output_type": "stream",
     "text": [
      "{'top_1_accuracy': 0.6906, 'top_5_accuracy': 0.8874}\n",
      "Run evaluation...\n"
     ]
    },
    {
     "name": "stderr",
     "output_type": "stream",
     "text": [
      "  8%|▊         | 6/79 [00:03<00:42,  1.73it/s]\n"
     ]
    },
    {
     "ename": "KeyboardInterrupt",
     "evalue": "",
     "output_type": "error",
     "traceback": [
      "\u001b[0;31m---------------------------------------------------------------------------\u001b[0m",
      "\u001b[0;31mKeyboardInterrupt\u001b[0m                         Traceback (most recent call last)",
      "Cell \u001b[0;32mIn[30], line 19\u001b[0m\n\u001b[1;32m     17\u001b[0m \u001b[38;5;28mprint\u001b[39m(res)\n\u001b[1;32m     18\u001b[0m model\u001b[38;5;241m.\u001b[39mload_state_dict(torch\u001b[38;5;241m.\u001b[39mload(path_to_qunatized_model, weights_only\u001b[38;5;241m=\u001b[39m\u001b[38;5;28;01mTrue\u001b[39;00m))\n\u001b[0;32m---> 19\u001b[0m res \u001b[38;5;241m=\u001b[39m \u001b[38;5;28;43meval\u001b[39;49m\u001b[43m(\u001b[49m\u001b[43mmodel\u001b[49m\u001b[43m,\u001b[49m\u001b[43m \u001b[49m\u001b[43mtest_loader\u001b[49m\u001b[43m)\u001b[49m\n\u001b[1;32m     20\u001b[0m \u001b[38;5;28mprint\u001b[39m(res)\n",
      "File \u001b[0;32m~/repo/Quantization/notebooks/seminar/evaluation.py:17\u001b[0m, in \u001b[0;36meval\u001b[0;34m(model, test_dataloader)\u001b[0m\n\u001b[1;32m     14\u001b[0m total \u001b[38;5;241m=\u001b[39m \u001b[38;5;241m0\u001b[39m\n\u001b[1;32m     16\u001b[0m \u001b[38;5;28;01mwith\u001b[39;00m torch\u001b[38;5;241m.\u001b[39mno_grad():  \u001b[38;5;66;03m# Отключение градиентов для экономии памяти\u001b[39;00m\n\u001b[0;32m---> 17\u001b[0m \u001b[43m    \u001b[49m\u001b[38;5;28;43;01mfor\u001b[39;49;00m\u001b[43m \u001b[49m\u001b[43mbatch\u001b[49m\u001b[43m \u001b[49m\u001b[38;5;129;43;01min\u001b[39;49;00m\u001b[43m \u001b[49m\u001b[43mtqdm\u001b[49m\u001b[43m(\u001b[49m\u001b[43mtest_dataloader\u001b[49m\u001b[43m)\u001b[49m\u001b[43m:\u001b[49m\n\u001b[1;32m     18\u001b[0m \u001b[43m        \u001b[49m\u001b[43mimages\u001b[49m\u001b[43m \u001b[49m\u001b[38;5;241;43m=\u001b[39;49m\u001b[43m \u001b[49m\u001b[43mbatch\u001b[49m\u001b[43m[\u001b[49m\u001b[38;5;124;43m'\u001b[39;49m\u001b[38;5;124;43mimage\u001b[39;49m\u001b[38;5;124;43m'\u001b[39;49m\u001b[43m]\u001b[49m\u001b[38;5;241;43m.\u001b[39;49m\u001b[43mto\u001b[49m\u001b[43m(\u001b[49m\u001b[43mmodel\u001b[49m\u001b[38;5;241;43m.\u001b[39;49m\u001b[43mdevice\u001b[49m\u001b[43m)\u001b[49m\n\u001b[1;32m     19\u001b[0m \u001b[43m        \u001b[49m\u001b[43mlabels\u001b[49m\u001b[43m \u001b[49m\u001b[38;5;241;43m=\u001b[39;49m\u001b[43m \u001b[49m\u001b[43mbatch\u001b[49m\u001b[43m[\u001b[49m\u001b[38;5;124;43m'\u001b[39;49m\u001b[38;5;124;43mlabel\u001b[39;49m\u001b[38;5;124;43m'\u001b[39;49m\u001b[43m]\u001b[49m\u001b[38;5;241;43m.\u001b[39;49m\u001b[43mto\u001b[49m\u001b[43m(\u001b[49m\u001b[43mmodel\u001b[49m\u001b[38;5;241;43m.\u001b[39;49m\u001b[43mdevice\u001b[49m\u001b[43m)\u001b[49m\n",
      "File \u001b[0;32m~/miniconda3/envs/quant_env/lib/python3.12/site-packages/tqdm/std.py:1181\u001b[0m, in \u001b[0;36mtqdm.__iter__\u001b[0;34m(self)\u001b[0m\n\u001b[1;32m   1178\u001b[0m time \u001b[38;5;241m=\u001b[39m \u001b[38;5;28mself\u001b[39m\u001b[38;5;241m.\u001b[39m_time\n\u001b[1;32m   1180\u001b[0m \u001b[38;5;28;01mtry\u001b[39;00m:\n\u001b[0;32m-> 1181\u001b[0m \u001b[43m    \u001b[49m\u001b[38;5;28;43;01mfor\u001b[39;49;00m\u001b[43m \u001b[49m\u001b[43mobj\u001b[49m\u001b[43m \u001b[49m\u001b[38;5;129;43;01min\u001b[39;49;00m\u001b[43m \u001b[49m\u001b[43miterable\u001b[49m\u001b[43m:\u001b[49m\n\u001b[1;32m   1182\u001b[0m \u001b[43m        \u001b[49m\u001b[38;5;28;43;01myield\u001b[39;49;00m\u001b[43m \u001b[49m\u001b[43mobj\u001b[49m\n\u001b[1;32m   1183\u001b[0m \u001b[43m        \u001b[49m\u001b[38;5;66;43;03m# Update and possibly print the progressbar.\u001b[39;49;00m\n\u001b[1;32m   1184\u001b[0m \u001b[43m        \u001b[49m\u001b[38;5;66;43;03m# Note: does not call self.update(1) for speed optimisation.\u001b[39;49;00m\n",
      "File \u001b[0;32m~/miniconda3/envs/quant_env/lib/python3.12/site-packages/torch/utils/data/dataloader.py:701\u001b[0m, in \u001b[0;36m_BaseDataLoaderIter.__next__\u001b[0;34m(self)\u001b[0m\n\u001b[1;32m    698\u001b[0m \u001b[38;5;28;01mif\u001b[39;00m \u001b[38;5;28mself\u001b[39m\u001b[38;5;241m.\u001b[39m_sampler_iter \u001b[38;5;129;01mis\u001b[39;00m \u001b[38;5;28;01mNone\u001b[39;00m:\n\u001b[1;32m    699\u001b[0m     \u001b[38;5;66;03m# TODO(https://github.com/pytorch/pytorch/issues/76750)\u001b[39;00m\n\u001b[1;32m    700\u001b[0m     \u001b[38;5;28mself\u001b[39m\u001b[38;5;241m.\u001b[39m_reset()  \u001b[38;5;66;03m# type: ignore[call-arg]\u001b[39;00m\n\u001b[0;32m--> 701\u001b[0m data \u001b[38;5;241m=\u001b[39m \u001b[38;5;28;43mself\u001b[39;49m\u001b[38;5;241;43m.\u001b[39;49m\u001b[43m_next_data\u001b[49m\u001b[43m(\u001b[49m\u001b[43m)\u001b[49m\n\u001b[1;32m    702\u001b[0m \u001b[38;5;28mself\u001b[39m\u001b[38;5;241m.\u001b[39m_num_yielded \u001b[38;5;241m+\u001b[39m\u001b[38;5;241m=\u001b[39m \u001b[38;5;241m1\u001b[39m\n\u001b[1;32m    703\u001b[0m \u001b[38;5;28;01mif\u001b[39;00m (\n\u001b[1;32m    704\u001b[0m     \u001b[38;5;28mself\u001b[39m\u001b[38;5;241m.\u001b[39m_dataset_kind \u001b[38;5;241m==\u001b[39m _DatasetKind\u001b[38;5;241m.\u001b[39mIterable\n\u001b[1;32m    705\u001b[0m     \u001b[38;5;129;01mand\u001b[39;00m \u001b[38;5;28mself\u001b[39m\u001b[38;5;241m.\u001b[39m_IterableDataset_len_called \u001b[38;5;129;01mis\u001b[39;00m \u001b[38;5;129;01mnot\u001b[39;00m \u001b[38;5;28;01mNone\u001b[39;00m\n\u001b[1;32m    706\u001b[0m     \u001b[38;5;129;01mand\u001b[39;00m \u001b[38;5;28mself\u001b[39m\u001b[38;5;241m.\u001b[39m_num_yielded \u001b[38;5;241m>\u001b[39m \u001b[38;5;28mself\u001b[39m\u001b[38;5;241m.\u001b[39m_IterableDataset_len_called\n\u001b[1;32m    707\u001b[0m ):\n",
      "File \u001b[0;32m~/miniconda3/envs/quant_env/lib/python3.12/site-packages/torch/utils/data/dataloader.py:757\u001b[0m, in \u001b[0;36m_SingleProcessDataLoaderIter._next_data\u001b[0;34m(self)\u001b[0m\n\u001b[1;32m    755\u001b[0m \u001b[38;5;28;01mdef\u001b[39;00m \u001b[38;5;21m_next_data\u001b[39m(\u001b[38;5;28mself\u001b[39m):\n\u001b[1;32m    756\u001b[0m     index \u001b[38;5;241m=\u001b[39m \u001b[38;5;28mself\u001b[39m\u001b[38;5;241m.\u001b[39m_next_index()  \u001b[38;5;66;03m# may raise StopIteration\u001b[39;00m\n\u001b[0;32m--> 757\u001b[0m     data \u001b[38;5;241m=\u001b[39m \u001b[38;5;28;43mself\u001b[39;49m\u001b[38;5;241;43m.\u001b[39;49m\u001b[43m_dataset_fetcher\u001b[49m\u001b[38;5;241;43m.\u001b[39;49m\u001b[43mfetch\u001b[49m\u001b[43m(\u001b[49m\u001b[43mindex\u001b[49m\u001b[43m)\u001b[49m  \u001b[38;5;66;03m# may raise StopIteration\u001b[39;00m\n\u001b[1;32m    758\u001b[0m     \u001b[38;5;28;01mif\u001b[39;00m \u001b[38;5;28mself\u001b[39m\u001b[38;5;241m.\u001b[39m_pin_memory:\n\u001b[1;32m    759\u001b[0m         data \u001b[38;5;241m=\u001b[39m _utils\u001b[38;5;241m.\u001b[39mpin_memory\u001b[38;5;241m.\u001b[39mpin_memory(data, \u001b[38;5;28mself\u001b[39m\u001b[38;5;241m.\u001b[39m_pin_memory_device)\n",
      "File \u001b[0;32m~/miniconda3/envs/quant_env/lib/python3.12/site-packages/torch/utils/data/_utils/fetch.py:50\u001b[0m, in \u001b[0;36m_MapDatasetFetcher.fetch\u001b[0;34m(self, possibly_batched_index)\u001b[0m\n\u001b[1;32m     48\u001b[0m \u001b[38;5;28;01mif\u001b[39;00m \u001b[38;5;28mself\u001b[39m\u001b[38;5;241m.\u001b[39mauto_collation:\n\u001b[1;32m     49\u001b[0m     \u001b[38;5;28;01mif\u001b[39;00m \u001b[38;5;28mhasattr\u001b[39m(\u001b[38;5;28mself\u001b[39m\u001b[38;5;241m.\u001b[39mdataset, \u001b[38;5;124m\"\u001b[39m\u001b[38;5;124m__getitems__\u001b[39m\u001b[38;5;124m\"\u001b[39m) \u001b[38;5;129;01mand\u001b[39;00m \u001b[38;5;28mself\u001b[39m\u001b[38;5;241m.\u001b[39mdataset\u001b[38;5;241m.\u001b[39m__getitems__:\n\u001b[0;32m---> 50\u001b[0m         data \u001b[38;5;241m=\u001b[39m \u001b[38;5;28;43mself\u001b[39;49m\u001b[38;5;241;43m.\u001b[39;49m\u001b[43mdataset\u001b[49m\u001b[38;5;241;43m.\u001b[39;49m\u001b[43m__getitems__\u001b[49m\u001b[43m(\u001b[49m\u001b[43mpossibly_batched_index\u001b[49m\u001b[43m)\u001b[49m\n\u001b[1;32m     51\u001b[0m     \u001b[38;5;28;01melse\u001b[39;00m:\n\u001b[1;32m     52\u001b[0m         data \u001b[38;5;241m=\u001b[39m [\u001b[38;5;28mself\u001b[39m\u001b[38;5;241m.\u001b[39mdataset[idx] \u001b[38;5;28;01mfor\u001b[39;00m idx \u001b[38;5;129;01min\u001b[39;00m possibly_batched_index]\n",
      "File \u001b[0;32m~/miniconda3/envs/quant_env/lib/python3.12/site-packages/datasets/arrow_dataset.py:2766\u001b[0m, in \u001b[0;36mDataset.__getitems__\u001b[0;34m(self, keys)\u001b[0m\n\u001b[1;32m   2764\u001b[0m \u001b[38;5;28;01mdef\u001b[39;00m \u001b[38;5;21m__getitems__\u001b[39m(\u001b[38;5;28mself\u001b[39m, keys: List) \u001b[38;5;241m-\u001b[39m\u001b[38;5;241m>\u001b[39m List:\n\u001b[1;32m   2765\u001b[0m \u001b[38;5;250m    \u001b[39m\u001b[38;5;124;03m\"\"\"Can be used to get a batch using a list of integers indices.\"\"\"\u001b[39;00m\n\u001b[0;32m-> 2766\u001b[0m     batch \u001b[38;5;241m=\u001b[39m \u001b[38;5;28;43mself\u001b[39;49m\u001b[38;5;241;43m.\u001b[39;49m\u001b[38;5;21;43m__getitem__\u001b[39;49m\u001b[43m(\u001b[49m\u001b[43mkeys\u001b[49m\u001b[43m)\u001b[49m\n\u001b[1;32m   2767\u001b[0m     n_examples \u001b[38;5;241m=\u001b[39m \u001b[38;5;28mlen\u001b[39m(batch[\u001b[38;5;28mnext\u001b[39m(\u001b[38;5;28miter\u001b[39m(batch))])\n\u001b[1;32m   2768\u001b[0m     \u001b[38;5;28;01mreturn\u001b[39;00m [{col: array[i] \u001b[38;5;28;01mfor\u001b[39;00m col, array \u001b[38;5;129;01min\u001b[39;00m batch\u001b[38;5;241m.\u001b[39mitems()} \u001b[38;5;28;01mfor\u001b[39;00m i \u001b[38;5;129;01min\u001b[39;00m \u001b[38;5;28mrange\u001b[39m(n_examples)]\n",
      "File \u001b[0;32m~/miniconda3/envs/quant_env/lib/python3.12/site-packages/datasets/arrow_dataset.py:2762\u001b[0m, in \u001b[0;36mDataset.__getitem__\u001b[0;34m(self, key)\u001b[0m\n\u001b[1;32m   2760\u001b[0m \u001b[38;5;28;01mdef\u001b[39;00m \u001b[38;5;21m__getitem__\u001b[39m(\u001b[38;5;28mself\u001b[39m, key):  \u001b[38;5;66;03m# noqa: F811\u001b[39;00m\n\u001b[1;32m   2761\u001b[0m \u001b[38;5;250m    \u001b[39m\u001b[38;5;124;03m\"\"\"Can be used to index columns (by string names) or rows (by integer index or iterable of indices or bools).\"\"\"\u001b[39;00m\n\u001b[0;32m-> 2762\u001b[0m     \u001b[38;5;28;01mreturn\u001b[39;00m \u001b[38;5;28;43mself\u001b[39;49m\u001b[38;5;241;43m.\u001b[39;49m\u001b[43m_getitem\u001b[49m\u001b[43m(\u001b[49m\u001b[43mkey\u001b[49m\u001b[43m)\u001b[49m\n",
      "File \u001b[0;32m~/miniconda3/envs/quant_env/lib/python3.12/site-packages/datasets/arrow_dataset.py:2747\u001b[0m, in \u001b[0;36mDataset._getitem\u001b[0;34m(self, key, **kwargs)\u001b[0m\n\u001b[1;32m   2745\u001b[0m formatter \u001b[38;5;241m=\u001b[39m get_formatter(format_type, features\u001b[38;5;241m=\u001b[39m\u001b[38;5;28mself\u001b[39m\u001b[38;5;241m.\u001b[39m_info\u001b[38;5;241m.\u001b[39mfeatures, \u001b[38;5;241m*\u001b[39m\u001b[38;5;241m*\u001b[39mformat_kwargs)\n\u001b[1;32m   2746\u001b[0m pa_subtable \u001b[38;5;241m=\u001b[39m query_table(\u001b[38;5;28mself\u001b[39m\u001b[38;5;241m.\u001b[39m_data, key, indices\u001b[38;5;241m=\u001b[39m\u001b[38;5;28mself\u001b[39m\u001b[38;5;241m.\u001b[39m_indices)\n\u001b[0;32m-> 2747\u001b[0m formatted_output \u001b[38;5;241m=\u001b[39m \u001b[43mformat_table\u001b[49m\u001b[43m(\u001b[49m\n\u001b[1;32m   2748\u001b[0m \u001b[43m    \u001b[49m\u001b[43mpa_subtable\u001b[49m\u001b[43m,\u001b[49m\u001b[43m \u001b[49m\u001b[43mkey\u001b[49m\u001b[43m,\u001b[49m\u001b[43m \u001b[49m\u001b[43mformatter\u001b[49m\u001b[38;5;241;43m=\u001b[39;49m\u001b[43mformatter\u001b[49m\u001b[43m,\u001b[49m\u001b[43m \u001b[49m\u001b[43mformat_columns\u001b[49m\u001b[38;5;241;43m=\u001b[39;49m\u001b[43mformat_columns\u001b[49m\u001b[43m,\u001b[49m\u001b[43m \u001b[49m\u001b[43moutput_all_columns\u001b[49m\u001b[38;5;241;43m=\u001b[39;49m\u001b[43moutput_all_columns\u001b[49m\n\u001b[1;32m   2749\u001b[0m \u001b[43m\u001b[49m\u001b[43m)\u001b[49m\n\u001b[1;32m   2750\u001b[0m \u001b[38;5;28;01mreturn\u001b[39;00m formatted_output\n",
      "File \u001b[0;32m~/miniconda3/envs/quant_env/lib/python3.12/site-packages/datasets/formatting/formatting.py:647\u001b[0m, in \u001b[0;36mformat_table\u001b[0;34m(table, key, formatter, format_columns, output_all_columns)\u001b[0m\n\u001b[1;32m    645\u001b[0m \u001b[38;5;28;01melse\u001b[39;00m:\n\u001b[1;32m    646\u001b[0m     pa_table_to_format \u001b[38;5;241m=\u001b[39m pa_table\u001b[38;5;241m.\u001b[39mdrop(col \u001b[38;5;28;01mfor\u001b[39;00m col \u001b[38;5;129;01min\u001b[39;00m pa_table\u001b[38;5;241m.\u001b[39mcolumn_names \u001b[38;5;28;01mif\u001b[39;00m col \u001b[38;5;129;01mnot\u001b[39;00m \u001b[38;5;129;01min\u001b[39;00m format_columns)\n\u001b[0;32m--> 647\u001b[0m     formatted_output \u001b[38;5;241m=\u001b[39m \u001b[43mformatter\u001b[49m\u001b[43m(\u001b[49m\u001b[43mpa_table_to_format\u001b[49m\u001b[43m,\u001b[49m\u001b[43m \u001b[49m\u001b[43mquery_type\u001b[49m\u001b[38;5;241;43m=\u001b[39;49m\u001b[43mquery_type\u001b[49m\u001b[43m)\u001b[49m\n\u001b[1;32m    648\u001b[0m     \u001b[38;5;28;01mif\u001b[39;00m output_all_columns:\n\u001b[1;32m    649\u001b[0m         \u001b[38;5;28;01mif\u001b[39;00m \u001b[38;5;28misinstance\u001b[39m(formatted_output, MutableMapping):\n",
      "File \u001b[0;32m~/miniconda3/envs/quant_env/lib/python3.12/site-packages/datasets/formatting/formatting.py:407\u001b[0m, in \u001b[0;36mFormatter.__call__\u001b[0;34m(self, pa_table, query_type)\u001b[0m\n\u001b[1;32m    405\u001b[0m     \u001b[38;5;28;01mreturn\u001b[39;00m \u001b[38;5;28mself\u001b[39m\u001b[38;5;241m.\u001b[39mformat_column(pa_table)\n\u001b[1;32m    406\u001b[0m \u001b[38;5;28;01melif\u001b[39;00m query_type \u001b[38;5;241m==\u001b[39m \u001b[38;5;124m\"\u001b[39m\u001b[38;5;124mbatch\u001b[39m\u001b[38;5;124m\"\u001b[39m:\n\u001b[0;32m--> 407\u001b[0m     \u001b[38;5;28;01mreturn\u001b[39;00m \u001b[38;5;28;43mself\u001b[39;49m\u001b[38;5;241;43m.\u001b[39;49m\u001b[43mformat_batch\u001b[49m\u001b[43m(\u001b[49m\u001b[43mpa_table\u001b[49m\u001b[43m)\u001b[49m\n",
      "File \u001b[0;32m~/miniconda3/envs/quant_env/lib/python3.12/site-packages/datasets/formatting/torch_formatter.py:112\u001b[0m, in \u001b[0;36mTorchFormatter.format_batch\u001b[0;34m(self, pa_table)\u001b[0m\n\u001b[1;32m    110\u001b[0m batch \u001b[38;5;241m=\u001b[39m \u001b[38;5;28mself\u001b[39m\u001b[38;5;241m.\u001b[39mnumpy_arrow_extractor()\u001b[38;5;241m.\u001b[39mextract_batch(pa_table)\n\u001b[1;32m    111\u001b[0m batch \u001b[38;5;241m=\u001b[39m \u001b[38;5;28mself\u001b[39m\u001b[38;5;241m.\u001b[39mpython_features_decoder\u001b[38;5;241m.\u001b[39mdecode_batch(batch)\n\u001b[0;32m--> 112\u001b[0m batch \u001b[38;5;241m=\u001b[39m \u001b[38;5;28;43mself\u001b[39;49m\u001b[38;5;241;43m.\u001b[39;49m\u001b[43mrecursive_tensorize\u001b[49m\u001b[43m(\u001b[49m\u001b[43mbatch\u001b[49m\u001b[43m)\u001b[49m\n\u001b[1;32m    113\u001b[0m \u001b[38;5;28;01mfor\u001b[39;00m column_name \u001b[38;5;129;01min\u001b[39;00m batch:\n\u001b[1;32m    114\u001b[0m     batch[column_name] \u001b[38;5;241m=\u001b[39m \u001b[38;5;28mself\u001b[39m\u001b[38;5;241m.\u001b[39m_consolidate(batch[column_name])\n",
      "File \u001b[0;32m~/miniconda3/envs/quant_env/lib/python3.12/site-packages/datasets/formatting/torch_formatter.py:95\u001b[0m, in \u001b[0;36mTorchFormatter.recursive_tensorize\u001b[0;34m(self, data_struct)\u001b[0m\n\u001b[1;32m     94\u001b[0m \u001b[38;5;28;01mdef\u001b[39;00m \u001b[38;5;21mrecursive_tensorize\u001b[39m(\u001b[38;5;28mself\u001b[39m, data_struct: \u001b[38;5;28mdict\u001b[39m):\n\u001b[0;32m---> 95\u001b[0m     \u001b[38;5;28;01mreturn\u001b[39;00m \u001b[43mmap_nested\u001b[49m\u001b[43m(\u001b[49m\u001b[38;5;28;43mself\u001b[39;49m\u001b[38;5;241;43m.\u001b[39;49m\u001b[43m_recursive_tensorize\u001b[49m\u001b[43m,\u001b[49m\u001b[43m \u001b[49m\u001b[43mdata_struct\u001b[49m\u001b[43m,\u001b[49m\u001b[43m \u001b[49m\u001b[43mmap_list\u001b[49m\u001b[38;5;241;43m=\u001b[39;49m\u001b[38;5;28;43;01mFalse\u001b[39;49;00m\u001b[43m)\u001b[49m\n",
      "File \u001b[0;32m~/miniconda3/envs/quant_env/lib/python3.12/site-packages/datasets/utils/py_utils.py:512\u001b[0m, in \u001b[0;36mmap_nested\u001b[0;34m(function, data_struct, dict_only, map_list, map_tuple, map_numpy, num_proc, parallel_min_length, batched, batch_size, types, disable_tqdm, desc)\u001b[0m\n\u001b[1;32m    509\u001b[0m         batch_size \u001b[38;5;241m=\u001b[39m \u001b[38;5;28mmax\u001b[39m(\u001b[38;5;28mlen\u001b[39m(iterable) \u001b[38;5;241m/\u001b[39m\u001b[38;5;241m/\u001b[39m num_proc \u001b[38;5;241m+\u001b[39m \u001b[38;5;28mint\u001b[39m(\u001b[38;5;28mlen\u001b[39m(iterable) \u001b[38;5;241m%\u001b[39m num_proc \u001b[38;5;241m>\u001b[39m \u001b[38;5;241m0\u001b[39m), \u001b[38;5;241m1\u001b[39m)\n\u001b[1;32m    510\u001b[0m     iterable \u001b[38;5;241m=\u001b[39m \u001b[38;5;28mlist\u001b[39m(iter_batched(iterable, batch_size))\n\u001b[1;32m    511\u001b[0m mapped \u001b[38;5;241m=\u001b[39m [\n\u001b[0;32m--> 512\u001b[0m     \u001b[43m_single_map_nested\u001b[49m\u001b[43m(\u001b[49m\u001b[43m(\u001b[49m\u001b[43mfunction\u001b[49m\u001b[43m,\u001b[49m\u001b[43m \u001b[49m\u001b[43mobj\u001b[49m\u001b[43m,\u001b[49m\u001b[43m \u001b[49m\u001b[43mbatched\u001b[49m\u001b[43m,\u001b[49m\u001b[43m \u001b[49m\u001b[43mbatch_size\u001b[49m\u001b[43m,\u001b[49m\u001b[43m \u001b[49m\u001b[43mtypes\u001b[49m\u001b[43m,\u001b[49m\u001b[43m \u001b[49m\u001b[38;5;28;43;01mNone\u001b[39;49;00m\u001b[43m,\u001b[49m\u001b[43m \u001b[49m\u001b[38;5;28;43;01mTrue\u001b[39;49;00m\u001b[43m,\u001b[49m\u001b[43m \u001b[49m\u001b[38;5;28;43;01mNone\u001b[39;49;00m\u001b[43m)\u001b[49m\u001b[43m)\u001b[49m\n\u001b[1;32m    513\u001b[0m     \u001b[38;5;28;01mfor\u001b[39;00m obj \u001b[38;5;129;01min\u001b[39;00m hf_tqdm(iterable, disable\u001b[38;5;241m=\u001b[39mdisable_tqdm, desc\u001b[38;5;241m=\u001b[39mdesc)\n\u001b[1;32m    514\u001b[0m ]\n\u001b[1;32m    515\u001b[0m \u001b[38;5;28;01mif\u001b[39;00m batched:\n\u001b[1;32m    516\u001b[0m     mapped \u001b[38;5;241m=\u001b[39m [mapped_item \u001b[38;5;28;01mfor\u001b[39;00m mapped_batch \u001b[38;5;129;01min\u001b[39;00m mapped \u001b[38;5;28;01mfor\u001b[39;00m mapped_item \u001b[38;5;129;01min\u001b[39;00m mapped_batch]\n",
      "File \u001b[0;32m~/miniconda3/envs/quant_env/lib/python3.12/site-packages/datasets/utils/py_utils.py:373\u001b[0m, in \u001b[0;36m_single_map_nested\u001b[0;34m(args)\u001b[0m\n\u001b[1;32m    371\u001b[0m         \u001b[38;5;28;01mreturn\u001b[39;00m function([data_struct])[\u001b[38;5;241m0\u001b[39m]\n\u001b[1;32m    372\u001b[0m     \u001b[38;5;28;01melse\u001b[39;00m:\n\u001b[0;32m--> 373\u001b[0m         \u001b[38;5;28;01mreturn\u001b[39;00m \u001b[43mfunction\u001b[49m\u001b[43m(\u001b[49m\u001b[43mdata_struct\u001b[49m\u001b[43m)\u001b[49m\n\u001b[1;32m    374\u001b[0m \u001b[38;5;28;01mif\u001b[39;00m (\n\u001b[1;32m    375\u001b[0m     batched\n\u001b[1;32m    376\u001b[0m     \u001b[38;5;129;01mand\u001b[39;00m \u001b[38;5;129;01mnot\u001b[39;00m \u001b[38;5;28misinstance\u001b[39m(data_struct, \u001b[38;5;28mdict\u001b[39m)\n\u001b[1;32m    377\u001b[0m     \u001b[38;5;129;01mand\u001b[39;00m \u001b[38;5;28misinstance\u001b[39m(data_struct, types)\n\u001b[1;32m    378\u001b[0m     \u001b[38;5;129;01mand\u001b[39;00m \u001b[38;5;28mall\u001b[39m(\u001b[38;5;129;01mnot\u001b[39;00m \u001b[38;5;28misinstance\u001b[39m(v, (\u001b[38;5;28mdict\u001b[39m, types)) \u001b[38;5;28;01mfor\u001b[39;00m v \u001b[38;5;129;01min\u001b[39;00m data_struct)\n\u001b[1;32m    379\u001b[0m ):\n\u001b[1;32m    380\u001b[0m     \u001b[38;5;28;01mreturn\u001b[39;00m [mapped_item \u001b[38;5;28;01mfor\u001b[39;00m batch \u001b[38;5;129;01min\u001b[39;00m iter_batched(data_struct, batch_size) \u001b[38;5;28;01mfor\u001b[39;00m mapped_item \u001b[38;5;129;01min\u001b[39;00m function(batch)]\n",
      "File \u001b[0;32m~/miniconda3/envs/quant_env/lib/python3.12/site-packages/datasets/formatting/torch_formatter.py:89\u001b[0m, in \u001b[0;36mTorchFormatter._recursive_tensorize\u001b[0;34m(self, data_struct)\u001b[0m\n\u001b[1;32m     87\u001b[0m \u001b[38;5;28;01mif\u001b[39;00m \u001b[38;5;28misinstance\u001b[39m(data_struct, np\u001b[38;5;241m.\u001b[39mndarray):\n\u001b[1;32m     88\u001b[0m     \u001b[38;5;28;01mif\u001b[39;00m data_struct\u001b[38;5;241m.\u001b[39mdtype \u001b[38;5;241m==\u001b[39m \u001b[38;5;28mobject\u001b[39m:  \u001b[38;5;66;03m# torch tensors cannot be instantied from an array of objects\u001b[39;00m\n\u001b[0;32m---> 89\u001b[0m         \u001b[38;5;28;01mreturn\u001b[39;00m \u001b[38;5;28mself\u001b[39m\u001b[38;5;241m.\u001b[39m_consolidate([\u001b[38;5;28;43mself\u001b[39;49m\u001b[38;5;241;43m.\u001b[39;49m\u001b[43mrecursive_tensorize\u001b[49m\u001b[43m(\u001b[49m\u001b[43msubstruct\u001b[49m\u001b[43m)\u001b[49m \u001b[38;5;28;01mfor\u001b[39;00m substruct \u001b[38;5;129;01min\u001b[39;00m data_struct])\n\u001b[1;32m     90\u001b[0m \u001b[38;5;28;01melif\u001b[39;00m \u001b[38;5;28misinstance\u001b[39m(data_struct, (\u001b[38;5;28mlist\u001b[39m, \u001b[38;5;28mtuple\u001b[39m)):\n\u001b[1;32m     91\u001b[0m     \u001b[38;5;28;01mreturn\u001b[39;00m \u001b[38;5;28mself\u001b[39m\u001b[38;5;241m.\u001b[39m_consolidate([\u001b[38;5;28mself\u001b[39m\u001b[38;5;241m.\u001b[39mrecursive_tensorize(substruct) \u001b[38;5;28;01mfor\u001b[39;00m substruct \u001b[38;5;129;01min\u001b[39;00m data_struct])\n",
      "File \u001b[0;32m~/miniconda3/envs/quant_env/lib/python3.12/site-packages/datasets/formatting/torch_formatter.py:95\u001b[0m, in \u001b[0;36mTorchFormatter.recursive_tensorize\u001b[0;34m(self, data_struct)\u001b[0m\n\u001b[1;32m     94\u001b[0m \u001b[38;5;28;01mdef\u001b[39;00m \u001b[38;5;21mrecursive_tensorize\u001b[39m(\u001b[38;5;28mself\u001b[39m, data_struct: \u001b[38;5;28mdict\u001b[39m):\n\u001b[0;32m---> 95\u001b[0m     \u001b[38;5;28;01mreturn\u001b[39;00m \u001b[43mmap_nested\u001b[49m\u001b[43m(\u001b[49m\u001b[38;5;28;43mself\u001b[39;49m\u001b[38;5;241;43m.\u001b[39;49m\u001b[43m_recursive_tensorize\u001b[49m\u001b[43m,\u001b[49m\u001b[43m \u001b[49m\u001b[43mdata_struct\u001b[49m\u001b[43m,\u001b[49m\u001b[43m \u001b[49m\u001b[43mmap_list\u001b[49m\u001b[38;5;241;43m=\u001b[39;49m\u001b[38;5;28;43;01mFalse\u001b[39;49;00m\u001b[43m)\u001b[49m\n",
      "File \u001b[0;32m~/miniconda3/envs/quant_env/lib/python3.12/site-packages/datasets/utils/py_utils.py:484\u001b[0m, in \u001b[0;36mmap_nested\u001b[0;34m(function, data_struct, dict_only, map_list, map_tuple, map_numpy, num_proc, parallel_min_length, batched, batch_size, types, disable_tqdm, desc)\u001b[0m\n\u001b[1;32m    482\u001b[0m \u001b[38;5;28;01mif\u001b[39;00m batched:\n\u001b[1;32m    483\u001b[0m     data_struct \u001b[38;5;241m=\u001b[39m [data_struct]\n\u001b[0;32m--> 484\u001b[0m mapped \u001b[38;5;241m=\u001b[39m \u001b[43mfunction\u001b[49m\u001b[43m(\u001b[49m\u001b[43mdata_struct\u001b[49m\u001b[43m)\u001b[49m\n\u001b[1;32m    485\u001b[0m \u001b[38;5;28;01mif\u001b[39;00m batched:\n\u001b[1;32m    486\u001b[0m     mapped \u001b[38;5;241m=\u001b[39m mapped[\u001b[38;5;241m0\u001b[39m]\n",
      "File \u001b[0;32m~/miniconda3/envs/quant_env/lib/python3.12/site-packages/datasets/formatting/torch_formatter.py:89\u001b[0m, in \u001b[0;36mTorchFormatter._recursive_tensorize\u001b[0;34m(self, data_struct)\u001b[0m\n\u001b[1;32m     87\u001b[0m \u001b[38;5;28;01mif\u001b[39;00m \u001b[38;5;28misinstance\u001b[39m(data_struct, np\u001b[38;5;241m.\u001b[39mndarray):\n\u001b[1;32m     88\u001b[0m     \u001b[38;5;28;01mif\u001b[39;00m data_struct\u001b[38;5;241m.\u001b[39mdtype \u001b[38;5;241m==\u001b[39m \u001b[38;5;28mobject\u001b[39m:  \u001b[38;5;66;03m# torch tensors cannot be instantied from an array of objects\u001b[39;00m\n\u001b[0;32m---> 89\u001b[0m         \u001b[38;5;28;01mreturn\u001b[39;00m \u001b[38;5;28mself\u001b[39m\u001b[38;5;241m.\u001b[39m_consolidate([\u001b[38;5;28;43mself\u001b[39;49m\u001b[38;5;241;43m.\u001b[39;49m\u001b[43mrecursive_tensorize\u001b[49m\u001b[43m(\u001b[49m\u001b[43msubstruct\u001b[49m\u001b[43m)\u001b[49m \u001b[38;5;28;01mfor\u001b[39;00m substruct \u001b[38;5;129;01min\u001b[39;00m data_struct])\n\u001b[1;32m     90\u001b[0m \u001b[38;5;28;01melif\u001b[39;00m \u001b[38;5;28misinstance\u001b[39m(data_struct, (\u001b[38;5;28mlist\u001b[39m, \u001b[38;5;28mtuple\u001b[39m)):\n\u001b[1;32m     91\u001b[0m     \u001b[38;5;28;01mreturn\u001b[39;00m \u001b[38;5;28mself\u001b[39m\u001b[38;5;241m.\u001b[39m_consolidate([\u001b[38;5;28mself\u001b[39m\u001b[38;5;241m.\u001b[39mrecursive_tensorize(substruct) \u001b[38;5;28;01mfor\u001b[39;00m substruct \u001b[38;5;129;01min\u001b[39;00m data_struct])\n",
      "File \u001b[0;32m~/miniconda3/envs/quant_env/lib/python3.12/site-packages/datasets/formatting/torch_formatter.py:95\u001b[0m, in \u001b[0;36mTorchFormatter.recursive_tensorize\u001b[0;34m(self, data_struct)\u001b[0m\n\u001b[1;32m     94\u001b[0m \u001b[38;5;28;01mdef\u001b[39;00m \u001b[38;5;21mrecursive_tensorize\u001b[39m(\u001b[38;5;28mself\u001b[39m, data_struct: \u001b[38;5;28mdict\u001b[39m):\n\u001b[0;32m---> 95\u001b[0m     \u001b[38;5;28;01mreturn\u001b[39;00m \u001b[43mmap_nested\u001b[49m\u001b[43m(\u001b[49m\u001b[38;5;28;43mself\u001b[39;49m\u001b[38;5;241;43m.\u001b[39;49m\u001b[43m_recursive_tensorize\u001b[49m\u001b[43m,\u001b[49m\u001b[43m \u001b[49m\u001b[43mdata_struct\u001b[49m\u001b[43m,\u001b[49m\u001b[43m \u001b[49m\u001b[43mmap_list\u001b[49m\u001b[38;5;241;43m=\u001b[39;49m\u001b[38;5;28;43;01mFalse\u001b[39;49;00m\u001b[43m)\u001b[49m\n",
      "File \u001b[0;32m~/miniconda3/envs/quant_env/lib/python3.12/site-packages/datasets/utils/py_utils.py:484\u001b[0m, in \u001b[0;36mmap_nested\u001b[0;34m(function, data_struct, dict_only, map_list, map_tuple, map_numpy, num_proc, parallel_min_length, batched, batch_size, types, disable_tqdm, desc)\u001b[0m\n\u001b[1;32m    482\u001b[0m \u001b[38;5;28;01mif\u001b[39;00m batched:\n\u001b[1;32m    483\u001b[0m     data_struct \u001b[38;5;241m=\u001b[39m [data_struct]\n\u001b[0;32m--> 484\u001b[0m mapped \u001b[38;5;241m=\u001b[39m \u001b[43mfunction\u001b[49m\u001b[43m(\u001b[49m\u001b[43mdata_struct\u001b[49m\u001b[43m)\u001b[49m\n\u001b[1;32m    485\u001b[0m \u001b[38;5;28;01mif\u001b[39;00m batched:\n\u001b[1;32m    486\u001b[0m     mapped \u001b[38;5;241m=\u001b[39m mapped[\u001b[38;5;241m0\u001b[39m]\n",
      "File \u001b[0;32m~/miniconda3/envs/quant_env/lib/python3.12/site-packages/datasets/formatting/torch_formatter.py:89\u001b[0m, in \u001b[0;36mTorchFormatter._recursive_tensorize\u001b[0;34m(self, data_struct)\u001b[0m\n\u001b[1;32m     87\u001b[0m \u001b[38;5;28;01mif\u001b[39;00m \u001b[38;5;28misinstance\u001b[39m(data_struct, np\u001b[38;5;241m.\u001b[39mndarray):\n\u001b[1;32m     88\u001b[0m     \u001b[38;5;28;01mif\u001b[39;00m data_struct\u001b[38;5;241m.\u001b[39mdtype \u001b[38;5;241m==\u001b[39m \u001b[38;5;28mobject\u001b[39m:  \u001b[38;5;66;03m# torch tensors cannot be instantied from an array of objects\u001b[39;00m\n\u001b[0;32m---> 89\u001b[0m         \u001b[38;5;28;01mreturn\u001b[39;00m \u001b[38;5;28mself\u001b[39m\u001b[38;5;241m.\u001b[39m_consolidate([\u001b[38;5;28;43mself\u001b[39;49m\u001b[38;5;241;43m.\u001b[39;49m\u001b[43mrecursive_tensorize\u001b[49m\u001b[43m(\u001b[49m\u001b[43msubstruct\u001b[49m\u001b[43m)\u001b[49m \u001b[38;5;28;01mfor\u001b[39;00m substruct \u001b[38;5;129;01min\u001b[39;00m data_struct])\n\u001b[1;32m     90\u001b[0m \u001b[38;5;28;01melif\u001b[39;00m \u001b[38;5;28misinstance\u001b[39m(data_struct, (\u001b[38;5;28mlist\u001b[39m, \u001b[38;5;28mtuple\u001b[39m)):\n\u001b[1;32m     91\u001b[0m     \u001b[38;5;28;01mreturn\u001b[39;00m \u001b[38;5;28mself\u001b[39m\u001b[38;5;241m.\u001b[39m_consolidate([\u001b[38;5;28mself\u001b[39m\u001b[38;5;241m.\u001b[39mrecursive_tensorize(substruct) \u001b[38;5;28;01mfor\u001b[39;00m substruct \u001b[38;5;129;01min\u001b[39;00m data_struct])\n",
      "File \u001b[0;32m~/miniconda3/envs/quant_env/lib/python3.12/site-packages/datasets/formatting/torch_formatter.py:95\u001b[0m, in \u001b[0;36mTorchFormatter.recursive_tensorize\u001b[0;34m(self, data_struct)\u001b[0m\n\u001b[1;32m     94\u001b[0m \u001b[38;5;28;01mdef\u001b[39;00m \u001b[38;5;21mrecursive_tensorize\u001b[39m(\u001b[38;5;28mself\u001b[39m, data_struct: \u001b[38;5;28mdict\u001b[39m):\n\u001b[0;32m---> 95\u001b[0m     \u001b[38;5;28;01mreturn\u001b[39;00m \u001b[43mmap_nested\u001b[49m\u001b[43m(\u001b[49m\u001b[38;5;28;43mself\u001b[39;49m\u001b[38;5;241;43m.\u001b[39;49m\u001b[43m_recursive_tensorize\u001b[49m\u001b[43m,\u001b[49m\u001b[43m \u001b[49m\u001b[43mdata_struct\u001b[49m\u001b[43m,\u001b[49m\u001b[43m \u001b[49m\u001b[43mmap_list\u001b[49m\u001b[38;5;241;43m=\u001b[39;49m\u001b[38;5;28;43;01mFalse\u001b[39;49;00m\u001b[43m)\u001b[49m\n",
      "File \u001b[0;32m~/miniconda3/envs/quant_env/lib/python3.12/site-packages/datasets/utils/py_utils.py:484\u001b[0m, in \u001b[0;36mmap_nested\u001b[0;34m(function, data_struct, dict_only, map_list, map_tuple, map_numpy, num_proc, parallel_min_length, batched, batch_size, types, disable_tqdm, desc)\u001b[0m\n\u001b[1;32m    482\u001b[0m \u001b[38;5;28;01mif\u001b[39;00m batched:\n\u001b[1;32m    483\u001b[0m     data_struct \u001b[38;5;241m=\u001b[39m [data_struct]\n\u001b[0;32m--> 484\u001b[0m mapped \u001b[38;5;241m=\u001b[39m \u001b[43mfunction\u001b[49m\u001b[43m(\u001b[49m\u001b[43mdata_struct\u001b[49m\u001b[43m)\u001b[49m\n\u001b[1;32m    485\u001b[0m \u001b[38;5;28;01mif\u001b[39;00m batched:\n\u001b[1;32m    486\u001b[0m     mapped \u001b[38;5;241m=\u001b[39m mapped[\u001b[38;5;241m0\u001b[39m]\n",
      "File \u001b[0;32m~/miniconda3/envs/quant_env/lib/python3.12/site-packages/datasets/formatting/torch_formatter.py:92\u001b[0m, in \u001b[0;36mTorchFormatter._recursive_tensorize\u001b[0;34m(self, data_struct)\u001b[0m\n\u001b[1;32m     90\u001b[0m \u001b[38;5;28;01melif\u001b[39;00m \u001b[38;5;28misinstance\u001b[39m(data_struct, (\u001b[38;5;28mlist\u001b[39m, \u001b[38;5;28mtuple\u001b[39m)):\n\u001b[1;32m     91\u001b[0m     \u001b[38;5;28;01mreturn\u001b[39;00m \u001b[38;5;28mself\u001b[39m\u001b[38;5;241m.\u001b[39m_consolidate([\u001b[38;5;28mself\u001b[39m\u001b[38;5;241m.\u001b[39mrecursive_tensorize(substruct) \u001b[38;5;28;01mfor\u001b[39;00m substruct \u001b[38;5;129;01min\u001b[39;00m data_struct])\n\u001b[0;32m---> 92\u001b[0m \u001b[38;5;28;01mreturn\u001b[39;00m \u001b[38;5;28;43mself\u001b[39;49m\u001b[38;5;241;43m.\u001b[39;49m\u001b[43m_tensorize\u001b[49m\u001b[43m(\u001b[49m\u001b[43mdata_struct\u001b[49m\u001b[43m)\u001b[49m\n",
      "File \u001b[0;32m~/miniconda3/envs/quant_env/lib/python3.12/site-packages/datasets/formatting/torch_formatter.py:78\u001b[0m, in \u001b[0;36mTorchFormatter._tensorize\u001b[0;34m(self, value)\u001b[0m\n\u001b[1;32m     75\u001b[0m             value \u001b[38;5;241m=\u001b[39m value[:, :, np\u001b[38;5;241m.\u001b[39mnewaxis]\n\u001b[1;32m     77\u001b[0m         value \u001b[38;5;241m=\u001b[39m value\u001b[38;5;241m.\u001b[39mtranspose((\u001b[38;5;241m2\u001b[39m, \u001b[38;5;241m0\u001b[39m, \u001b[38;5;241m1\u001b[39m))\n\u001b[0;32m---> 78\u001b[0m \u001b[38;5;28;01mreturn\u001b[39;00m \u001b[43mtorch\u001b[49m\u001b[38;5;241;43m.\u001b[39;49m\u001b[43mtensor\u001b[49m\u001b[43m(\u001b[49m\u001b[43mvalue\u001b[49m\u001b[43m,\u001b[49m\u001b[43m \u001b[49m\u001b[38;5;241;43m*\u001b[39;49m\u001b[38;5;241;43m*\u001b[39;49m\u001b[43m{\u001b[49m\u001b[38;5;241;43m*\u001b[39;49m\u001b[38;5;241;43m*\u001b[39;49m\u001b[43mdefault_dtype\u001b[49m\u001b[43m,\u001b[49m\u001b[43m \u001b[49m\u001b[38;5;241;43m*\u001b[39;49m\u001b[38;5;241;43m*\u001b[39;49m\u001b[38;5;28;43mself\u001b[39;49m\u001b[38;5;241;43m.\u001b[39;49m\u001b[43mtorch_tensor_kwargs\u001b[49m\u001b[43m}\u001b[49m\u001b[43m)\u001b[49m\n",
      "\u001b[0;31mKeyboardInterrupt\u001b[0m: "
     ]
    }
   ],
   "source": [
    "model = AutoModelForImageClassification.from_pretrained(model_path).to(device)\n",
    "wrap_rule = {\n",
    "    torch.nn.Linear : QLinear(weight_quantizer=Quantizer(bit_width=8, use_offset=True, group_type='tensor')),\n",
    "    torch.nn.Conv2d : QConv2d(weight_quantizer=Quantizer(bit_width=8, use_offset=True, group_type='tensor'))\t\n",
    "}\n",
    "wrapper = Wrapper(wrap_rule=wrap_rule)\n",
    "wrapper.wrap_model(model)\n",
    "\n",
    "wrap_rule = {\n",
    "    QLinear : QuantizedLinear(),\n",
    "    QConv2d : QuantizedConv2d()\n",
    "}\n",
    "wrapper = Wrapper(wrap_rule=wrap_rule)\n",
    "wrapper.wrap_model(model)\n",
    "\n",
    "res = eval(model, test_loader)\n",
    "print(res)\n",
    "model.load_state_dict(torch.load(path_to_qunatized_model, weights_only=True))\n",
    "res = eval(model, test_loader)\n",
    "print(res)"
   ]
  },
  {
   "cell_type": "markdown",
   "metadata": {},
   "source": [
    "### INT4"
   ]
  },
  {
   "cell_type": "markdown",
   "metadata": {},
   "source": [
    "##### naive datafree"
   ]
  },
  {
   "cell_type": "code",
   "execution_count": 11,
   "metadata": {},
   "outputs": [],
   "source": [
    "# model = AutoModelForImageClassification.from_pretrained(model_path).to(device)\n",
    "\n",
    "# wrap_rule = {\n",
    "# \ttorch.nn.Linear : QLinear(weight_quantizer=Quantizer(bit_width=8, use_offset=True, group_type='tensor')),\n",
    "#     torch.nn.Conv2d : QConv2d(weight_quantizer=Quantizer(bit_width=4, use_offset=True, group_type='tensor'))\n",
    "# }\n",
    "# exceptions = {\n",
    "# \t'resnet.embedder.embedder.convolution': QConv2d(weight_quantizer=Quantizer(bit_width=8, use_offset=True, group_type='tensor'))\n",
    "# }\n",
    "\n",
    "# wrapper = Wrapper(wrap_rule=wrap_rule, exceptions=exceptions)\n",
    "# wrapper.wrap_model(model)\n",
    "\n",
    "# res = eval(model, test_loader)\n",
    "# print(res)\n",
    "# # {'top_1_accuracy': 0.0043, 'top_5_accuracy': 0.0138}"
   ]
  },
  {
   "cell_type": "markdown",
   "metadata": {},
   "source": [
    "##### CE finetuning"
   ]
  },
  {
   "cell_type": "code",
   "execution_count": 6,
   "metadata": {},
   "outputs": [],
   "source": [
    "model = AutoModelForImageClassification.from_pretrained(model_path).to(device)\n",
    "\n",
    "wrap_rule = {\n",
    "    torch.nn.Linear : QLinear(weight_quantizer=Quantizer(bit_width=8, use_offset=True, group_type='tensor')),\n",
    "    torch.nn.Conv2d : QConv2d(weight_quantizer=Quantizer(bit_width=4, use_offset=True, group_type='tensor'))\n",
    "}\n",
    "exceptions = {\n",
    "    'resnet.embedder.embedder.convolution': QConv2d(weight_quantizer=Quantizer(bit_width=8, use_offset=True, group_type='tensor'))\n",
    "}\n",
    "\n",
    "wrapper = Wrapper(wrap_rule=wrap_rule, exceptions=exceptions)\n",
    "wrapper.wrap_model(model)"
   ]
  },
  {
   "cell_type": "code",
   "execution_count": null,
   "metadata": {},
   "outputs": [
    {
     "data": {
      "image/png": "[encoded data removed]",
      "text/plain": [
       "<Figure size 600x300 with 2 Axes>"
      ]
     },
     "metadata": {},
     "output_type": "display_data"
    },
    {
     "name": "stdout",
     "output_type": "stream",
     "text": [
      "Run evaluation...\n"
     ]
    },
    {
     "name": "stderr",
     "output_type": "stream",
     "text": [
      "100%|██████████| 79/79 [00:47<00:00,  1.65it/s]"
     ]
    },
    {
     "name": "stdout",
     "output_type": "stream",
     "text": [
      "{'top_1_accuracy': 0.6738, 'top_5_accuracy': 0.8746}\n"
     ]
    },
    {
     "name": "stderr",
     "output_type": "stream",
     "text": [
      "\n"
     ]
    }
   ],
   "source": [
    "train_batch_size = 32\n",
    "n_epochs = 1\n",
    "train_lr = 1e-4\n",
    "\n",
    "train_loader = DataLoader(train_dataset, batch_size=train_batch_size, shuffle=True)\n",
    "trainable_parameters = prepare_trainable_params(model, exceptions=['embedder', 'classifier'])\n",
    "optimizer = torch.optim.Adam(trainable_parameters, lr=train_lr)\n",
    "\n",
    "ce_finetune(\n",
    "        model, \n",
    "        optimizer, \n",
    "        train_loader, \n",
    "        n_epochs=n_epochs,\n",
    "        use_scheduler=True,\n",
    "        time_step=10\n",
    ")\n",
    "\n",
    "res = eval(model, test_loader)\n",
    "print(res)\n",
    "# {'top_1_accuracy': 0.6563, 'top_5_accuracy': 0.8676} #lr=1e-4 bs=32 small dataset\n",
    "# {'top_1_accuracy': 0.6738, 'top_5_accuracy': 0.8746} #lr=1e-4 bs=32 large dataset"
   ]
  },
  {
   "cell_type": "markdown",
   "metadata": {},
   "source": [
    "##### per channel datafree"
   ]
  },
  {
   "cell_type": "code",
   "execution_count": null,
   "metadata": {},
   "outputs": [],
   "source": [
    "model = AutoModelForImageClassification.from_pretrained(model_path).to(device)\n",
    "\n",
    "wrap_rule = {\n",
    "\ttorch.nn.Linear : QLinear(weight_quantizer=Quantizer(bit_width=8, use_offset=True, group_type='channel')),\n",
    "    torch.nn.Conv2d : QConv2d(weight_quantizer=Quantizer(bit_width=4, use_offset=True, group_type='channel'))\n",
    "}\n",
    "exceptions = {\n",
    "\t'resnet.embedder.embedder.convolution': QConv2d(weight_quantizer=Quantizer(bit_width=8, use_offset=True, group_type='channel'))\n",
    "}\n",
    "wrapper = Wrapper(wrap_rule=wrap_rule, exceptions=exceptions)\n",
    "wrapper.wrap_model(model)\n",
    "\n",
    "# res = eval(model, test_loader)\n",
    "# print(res)\n",
    "# # {'top_1_accuracy': 0.6162, 'top_5_accuracy': 0.8412}"
   ]
  },
  {
   "cell_type": "code",
   "execution_count": 35,
   "metadata": {},
   "outputs": [
    {
     "name": "stdout",
     "output_type": "stream",
     "text": [
      "6.003 Mb\n"
     ]
    }
   ],
   "source": [
    "wrap_rule = {\n",
    "    QLinear : QuantizedLinear(),\n",
    "    QConv2d : QuantizedConv2d()\n",
    "}\n",
    "\n",
    "wrapper = Wrapper(wrap_rule=wrap_rule)\n",
    "wrapper.wrap_model(model)\n",
    "\n",
    "path_to_qunatized_model = '/home/msst/repo/Quantization/weights/seminar/lsq_4bit_quantized.pth'\n",
    "torch.save(model.state_dict(), path_to_qunatized_model)\n",
    "print_file_size(path_to_qunatized_model)"
   ]
  },
  {
   "cell_type": "code",
   "execution_count": 37,
   "metadata": {},
   "outputs": [
    {
     "name": "stdout",
     "output_type": "stream",
     "text": [
      "Run evaluation...\n"
     ]
    },
    {
     "name": "stderr",
     "output_type": "stream",
     "text": [
      "100%|██████████| 79/79 [00:43<00:00,  1.80it/s]"
     ]
    },
    {
     "name": "stdout",
     "output_type": "stream",
     "text": [
      "{'top_1_accuracy': 0.616, 'top_5_accuracy': 0.841}\n"
     ]
    },
    {
     "name": "stderr",
     "output_type": "stream",
     "text": [
      "\n"
     ]
    }
   ],
   "source": [
    "model = AutoModelForImageClassification.from_pretrained(model_path).to(device)\n",
    "wrap_rule = {\n",
    "\ttorch.nn.Linear : QLinear(weight_quantizer=Quantizer(bit_width=8, use_offset=True, group_type='channel')),\n",
    "    torch.nn.Conv2d : QConv2d(weight_quantizer=Quantizer(bit_width=4, use_offset=True, group_type='channel'))\n",
    "}\n",
    "exceptions = {\n",
    "\t'resnet.embedder.embedder.convolution': QConv2d(weight_quantizer=Quantizer(bit_width=8, use_offset=True, group_type='channel'))\n",
    "}\n",
    "wrapper = Wrapper(wrap_rule=wrap_rule, exceptions=exceptions)\n",
    "wrapper.wrap_model(model)\n",
    "\n",
    "wrap_rule = {\n",
    "    QLinear : QuantizedLinear(),\n",
    "    QConv2d : QuantizedConv2d()\n",
    "}\n",
    "wrapper = Wrapper(wrap_rule=wrap_rule)\n",
    "wrapper.wrap_model(model)\n",
    "\n",
    "#res = eval(model, test_loader)\n",
    "#print(res)\n",
    "model.load_state_dict(torch.load(path_to_qunatized_model, weights_only=True))\n",
    "res = eval(model, test_loader)\n",
    "print(res)"
   ]
  },
  {
   "cell_type": "markdown",
   "metadata": {},
   "source": [
    "##### per channel with CE finetuning"
   ]
  },
  {
   "cell_type": "code",
   "execution_count": 8,
   "metadata": {},
   "outputs": [],
   "source": [
    "model = AutoModelForImageClassification.from_pretrained(model_path).to(device)\n",
    "\n",
    "wrap_rule = {\n",
    "    torch.nn.Linear : QLinear(weight_quantizer=Quantizer(bit_width=8, use_offset=True, group_type='channel')),\n",
    "    torch.nn.Conv2d : QConv2d(weight_quantizer=Quantizer(bit_width=4, use_offset=True, group_type='channel'))\n",
    "}\n",
    "exceptions = {\n",
    "    'resnet.embedder.embedder.convolution': QConv2d(weight_quantizer=Quantizer(bit_width=8, use_offset=True, group_type='channel'))\n",
    "}\n",
    "\n",
    "wrapper = Wrapper(wrap_rule=wrap_rule, exceptions=exceptions)\n",
    "wrapper.wrap_model(model)"
   ]
  },
  {
   "cell_type": "code",
   "execution_count": 9,
   "metadata": {},
   "outputs": [
    {
     "data": {
      "image/png": "[encoded data removed]",
      "text/plain": [
       "<Figure size 600x300 with 2 Axes>"
      ]
     },
     "metadata": {},
     "output_type": "display_data"
    },
    {
     "name": "stdout",
     "output_type": "stream",
     "text": [
      "Run evaluation...\n"
     ]
    },
    {
     "name": "stderr",
     "output_type": "stream",
     "text": [
      "100%|██████████| 79/79 [00:48<00:00,  1.62it/s]"
     ]
    },
    {
     "name": "stdout",
     "output_type": "stream",
     "text": [
      "{'top_1_accuracy': 0.6874, 'top_5_accuracy': 0.8849}\n"
     ]
    },
    {
     "name": "stderr",
     "output_type": "stream",
     "text": [
      "\n"
     ]
    }
   ],
   "source": [
    "train_batch_size = 32\n",
    "n_epochs = 1\n",
    "train_lr = 1e-4\n",
    "\n",
    "train_loader = DataLoader(train_dataset, batch_size=train_batch_size, shuffle=True)\n",
    "trainable_parameters = prepare_trainable_params(model, exceptions=['embedder', 'classifier'])\n",
    "optimizer = torch.optim.Adam(trainable_parameters, lr=train_lr)\n",
    "\n",
    "ce_finetune(\n",
    "        model, \n",
    "        optimizer, \n",
    "        train_loader, \n",
    "        n_epochs=n_epochs,\n",
    "        use_scheduler=True,\n",
    "        time_step=10\n",
    ")\n",
    "\n",
    "res = eval(model, test_loader)\n",
    "print(res)\n",
    "# {'top_1_accuracy': 0.6867, 'top_5_accuracy': 0.8842} #lr=1e-4 bs=32 small dataset\n",
    "# {'top_1_accuracy': 0.6874, 'top_5_accuracy': 0.8849} #lr=1e-4 bs=32 large dataset"
   ]
  },
  {
   "cell_type": "markdown",
   "metadata": {},
   "source": [
    "### INT3"
   ]
  },
  {
   "cell_type": "markdown",
   "metadata": {},
   "source": [
    "##### data free"
   ]
  },
  {
   "cell_type": "code",
   "execution_count": 18,
   "metadata": {},
   "outputs": [],
   "source": [
    "# model = AutoModelForImageClassification.from_pretrained(model_path).to(device)\n",
    "\n",
    "# wrap_rule = {\n",
    "# \ttorch.nn.Linear : QLinear(weight_quantizer=Quantizer(bit_width=8, use_offset=True, group_type='channel')),\n",
    "#     torch.nn.Conv2d : QConv2d(weight_quantizer=Quantizer(bit_width=3, use_offset=True, group_type='channel'))\n",
    "# }\n",
    "# exceptions = {\n",
    "# \t'resnet.embedder.embedder.convolution': QConv2d(weight_quantizer=Quantizer(bit_width=8, use_offset=True, group_type='channel'))\n",
    "# }\n",
    "\n",
    "# wrapper = Wrapper(wrap_rule=wrap_rule, exceptions=exceptions)\n",
    "# wrapper.wrap_model(model)\n",
    "\n",
    "# res = eval(model, test_loader)\n",
    "# print(res)\n",
    "# # {'top_1_accuracy': 0.0012, 'top_5_accuracy': 0.0063}"
   ]
  },
  {
   "cell_type": "markdown",
   "metadata": {},
   "source": [
    "##### CE finetuning"
   ]
  },
  {
   "cell_type": "code",
   "execution_count": 19,
   "metadata": {},
   "outputs": [],
   "source": [
    "model = AutoModelForImageClassification.from_pretrained(model_path).to(device)\n",
    "\n",
    "wrap_rule = {\n",
    "    torch.nn.Linear : QLinear(weight_quantizer=Quantizer(bit_width=8, use_offset=True, group_type='channel')),\n",
    "    torch.nn.Conv2d : QConv2d(weight_quantizer=Quantizer(bit_width=3, use_offset=True, group_type='channel'))\n",
    "}\n",
    "exceptions = {\n",
    "    'resnet.embedder.embedder.convolution': QConv2d(weight_quantizer=Quantizer(bit_width=8, use_offset=True, group_type='channel'))\n",
    "}\n",
    "\n",
    "wrapper = Wrapper(wrap_rule=wrap_rule, exceptions=exceptions)\n",
    "wrapper.wrap_model(model)"
   ]
  },
  {
   "cell_type": "code",
   "execution_count": 20,
   "metadata": {},
   "outputs": [
    {
     "data": {
      "image/png": "[encoded data removed]",
      "text/plain": [
       "<Figure size 600x300 with 2 Axes>"
      ]
     },
     "metadata": {},
     "output_type": "display_data"
    },
    {
     "name": "stderr",
     "output_type": "stream",
     "text": [
      "  1%|          | 22/3188 [00:02<06:35,  8.01it/s]\n"
     ]
    },
    {
     "ename": "KeyboardInterrupt",
     "evalue": "",
     "output_type": "error",
     "traceback": [
      "\u001b[0;31m---------------------------------------------------------------------------\u001b[0m",
      "\u001b[0;31mKeyboardInterrupt\u001b[0m                         Traceback (most recent call last)",
      "Cell \u001b[0;32mIn[20], line 9\u001b[0m\n\u001b[1;32m      6\u001b[0m trainable_parameters \u001b[38;5;241m=\u001b[39m prepare_trainable_params(model, exceptions\u001b[38;5;241m=\u001b[39m[\u001b[38;5;124m'\u001b[39m\u001b[38;5;124membedder\u001b[39m\u001b[38;5;124m'\u001b[39m, \u001b[38;5;124m'\u001b[39m\u001b[38;5;124mclassifier\u001b[39m\u001b[38;5;124m'\u001b[39m])\n\u001b[1;32m      7\u001b[0m optimizer \u001b[38;5;241m=\u001b[39m torch\u001b[38;5;241m.\u001b[39moptim\u001b[38;5;241m.\u001b[39mAdam(trainable_parameters, lr\u001b[38;5;241m=\u001b[39mtrain_lr)\n\u001b[0;32m----> 9\u001b[0m \u001b[43mce_finetune\u001b[49m\u001b[43m(\u001b[49m\n\u001b[1;32m     10\u001b[0m \u001b[43m        \u001b[49m\u001b[43mmodel\u001b[49m\u001b[43m,\u001b[49m\u001b[43m \u001b[49m\n\u001b[1;32m     11\u001b[0m \u001b[43m        \u001b[49m\u001b[43moptimizer\u001b[49m\u001b[43m,\u001b[49m\u001b[43m \u001b[49m\n\u001b[1;32m     12\u001b[0m \u001b[43m        \u001b[49m\u001b[43mtrain_loader\u001b[49m\u001b[43m,\u001b[49m\u001b[43m \u001b[49m\n\u001b[1;32m     13\u001b[0m \u001b[43m        \u001b[49m\u001b[43mn_epochs\u001b[49m\u001b[38;5;241;43m=\u001b[39;49m\u001b[43mn_epochs\u001b[49m\u001b[43m,\u001b[49m\n\u001b[1;32m     14\u001b[0m \u001b[43m        \u001b[49m\u001b[43muse_scheduler\u001b[49m\u001b[38;5;241;43m=\u001b[39;49m\u001b[38;5;28;43;01mTrue\u001b[39;49;00m\u001b[43m,\u001b[49m\n\u001b[1;32m     15\u001b[0m \u001b[43m        \u001b[49m\u001b[43mtime_step\u001b[49m\u001b[38;5;241;43m=\u001b[39;49m\u001b[38;5;241;43m10\u001b[39;49m\n\u001b[1;32m     16\u001b[0m \u001b[43m)\u001b[49m\n\u001b[1;32m     18\u001b[0m res \u001b[38;5;241m=\u001b[39m \u001b[38;5;28meval\u001b[39m(model, test_loader)\n\u001b[1;32m     19\u001b[0m \u001b[38;5;28mprint\u001b[39m(res)\n",
      "File \u001b[0;32m~/repo/Quantization/notebooks/seminar/finetuning.py:25\u001b[0m, in \u001b[0;36mce_finetune\u001b[0;34m(model, optimizer, train_loader, n_epochs, use_scheduler, time_step)\u001b[0m\n\u001b[1;32m     23\u001b[0m \u001b[38;5;28;01mfor\u001b[39;00m epoch \u001b[38;5;129;01min\u001b[39;00m \u001b[38;5;28mrange\u001b[39m(n_epochs):\n\u001b[1;32m     24\u001b[0m     local_losses \u001b[38;5;241m=\u001b[39m []\n\u001b[0;32m---> 25\u001b[0m \u001b[43m    \u001b[49m\u001b[38;5;28;43;01mfor\u001b[39;49;00m\u001b[43m \u001b[49m\u001b[43mstep\u001b[49m\u001b[43m,\u001b[49m\u001b[43m \u001b[49m\u001b[43mbatch\u001b[49m\u001b[43m \u001b[49m\u001b[38;5;129;43;01min\u001b[39;49;00m\u001b[43m \u001b[49m\u001b[38;5;28;43menumerate\u001b[39;49m\u001b[43m(\u001b[49m\u001b[43mtqdm\u001b[49m\u001b[43m(\u001b[49m\u001b[43mtrain_loader\u001b[49m\u001b[43m)\u001b[49m\u001b[43m)\u001b[49m\u001b[43m:\u001b[49m\n\u001b[1;32m     26\u001b[0m \u001b[43m        \u001b[49m\u001b[43mimages\u001b[49m\u001b[43m \u001b[49m\u001b[38;5;241;43m=\u001b[39;49m\u001b[43m \u001b[49m\u001b[43mbatch\u001b[49m\u001b[43m[\u001b[49m\u001b[38;5;124;43m'\u001b[39;49m\u001b[38;5;124;43mimage\u001b[39;49m\u001b[38;5;124;43m'\u001b[39;49m\u001b[43m]\u001b[49m\u001b[38;5;241;43m.\u001b[39;49m\u001b[43mto\u001b[49m\u001b[43m(\u001b[49m\u001b[43mmodel\u001b[49m\u001b[38;5;241;43m.\u001b[39;49m\u001b[43mdevice\u001b[49m\u001b[43m)\u001b[49m\n\u001b[1;32m     27\u001b[0m \u001b[43m        \u001b[49m\u001b[43mlabels\u001b[49m\u001b[43m \u001b[49m\u001b[38;5;241;43m=\u001b[39;49m\u001b[43m \u001b[49m\u001b[43mbatch\u001b[49m\u001b[43m[\u001b[49m\u001b[38;5;124;43m'\u001b[39;49m\u001b[38;5;124;43mlabel\u001b[39;49m\u001b[38;5;124;43m'\u001b[39;49m\u001b[43m]\u001b[49m\u001b[38;5;241;43m.\u001b[39;49m\u001b[43mto\u001b[49m\u001b[43m(\u001b[49m\u001b[43mmodel\u001b[49m\u001b[38;5;241;43m.\u001b[39;49m\u001b[43mdevice\u001b[49m\u001b[43m)\u001b[49m\n",
      "File \u001b[0;32m~/miniconda3/envs/quant_env/lib/python3.12/site-packages/tqdm/std.py:1181\u001b[0m, in \u001b[0;36mtqdm.__iter__\u001b[0;34m(self)\u001b[0m\n\u001b[1;32m   1178\u001b[0m time \u001b[38;5;241m=\u001b[39m \u001b[38;5;28mself\u001b[39m\u001b[38;5;241m.\u001b[39m_time\n\u001b[1;32m   1180\u001b[0m \u001b[38;5;28;01mtry\u001b[39;00m:\n\u001b[0;32m-> 1181\u001b[0m \u001b[43m    \u001b[49m\u001b[38;5;28;43;01mfor\u001b[39;49;00m\u001b[43m \u001b[49m\u001b[43mobj\u001b[49m\u001b[43m \u001b[49m\u001b[38;5;129;43;01min\u001b[39;49;00m\u001b[43m \u001b[49m\u001b[43miterable\u001b[49m\u001b[43m:\u001b[49m\n\u001b[1;32m   1182\u001b[0m \u001b[43m        \u001b[49m\u001b[38;5;28;43;01myield\u001b[39;49;00m\u001b[43m \u001b[49m\u001b[43mobj\u001b[49m\n\u001b[1;32m   1183\u001b[0m \u001b[43m        \u001b[49m\u001b[38;5;66;43;03m# Update and possibly print the progressbar.\u001b[39;49;00m\n\u001b[1;32m   1184\u001b[0m \u001b[43m        \u001b[49m\u001b[38;5;66;43;03m# Note: does not call self.update(1) for speed optimisation.\u001b[39;49;00m\n",
      "File \u001b[0;32m~/miniconda3/envs/quant_env/lib/python3.12/site-packages/torch/utils/data/dataloader.py:701\u001b[0m, in \u001b[0;36m_BaseDataLoaderIter.__next__\u001b[0;34m(self)\u001b[0m\n\u001b[1;32m    698\u001b[0m \u001b[38;5;28;01mif\u001b[39;00m \u001b[38;5;28mself\u001b[39m\u001b[38;5;241m.\u001b[39m_sampler_iter \u001b[38;5;129;01mis\u001b[39;00m \u001b[38;5;28;01mNone\u001b[39;00m:\n\u001b[1;32m    699\u001b[0m     \u001b[38;5;66;03m# TODO(https://github.com/pytorch/pytorch/issues/76750)\u001b[39;00m\n\u001b[1;32m    700\u001b[0m     \u001b[38;5;28mself\u001b[39m\u001b[38;5;241m.\u001b[39m_reset()  \u001b[38;5;66;03m# type: ignore[call-arg]\u001b[39;00m\n\u001b[0;32m--> 701\u001b[0m data \u001b[38;5;241m=\u001b[39m \u001b[38;5;28;43mself\u001b[39;49m\u001b[38;5;241;43m.\u001b[39;49m\u001b[43m_next_data\u001b[49m\u001b[43m(\u001b[49m\u001b[43m)\u001b[49m\n\u001b[1;32m    702\u001b[0m \u001b[38;5;28mself\u001b[39m\u001b[38;5;241m.\u001b[39m_num_yielded \u001b[38;5;241m+\u001b[39m\u001b[38;5;241m=\u001b[39m \u001b[38;5;241m1\u001b[39m\n\u001b[1;32m    703\u001b[0m \u001b[38;5;28;01mif\u001b[39;00m (\n\u001b[1;32m    704\u001b[0m     \u001b[38;5;28mself\u001b[39m\u001b[38;5;241m.\u001b[39m_dataset_kind \u001b[38;5;241m==\u001b[39m _DatasetKind\u001b[38;5;241m.\u001b[39mIterable\n\u001b[1;32m    705\u001b[0m     \u001b[38;5;129;01mand\u001b[39;00m \u001b[38;5;28mself\u001b[39m\u001b[38;5;241m.\u001b[39m_IterableDataset_len_called \u001b[38;5;129;01mis\u001b[39;00m \u001b[38;5;129;01mnot\u001b[39;00m \u001b[38;5;28;01mNone\u001b[39;00m\n\u001b[1;32m    706\u001b[0m     \u001b[38;5;129;01mand\u001b[39;00m \u001b[38;5;28mself\u001b[39m\u001b[38;5;241m.\u001b[39m_num_yielded \u001b[38;5;241m>\u001b[39m \u001b[38;5;28mself\u001b[39m\u001b[38;5;241m.\u001b[39m_IterableDataset_len_called\n\u001b[1;32m    707\u001b[0m ):\n",
      "File \u001b[0;32m~/miniconda3/envs/quant_env/lib/python3.12/site-packages/torch/utils/data/dataloader.py:757\u001b[0m, in \u001b[0;36m_SingleProcessDataLoaderIter._next_data\u001b[0;34m(self)\u001b[0m\n\u001b[1;32m    755\u001b[0m \u001b[38;5;28;01mdef\u001b[39;00m \u001b[38;5;21m_next_data\u001b[39m(\u001b[38;5;28mself\u001b[39m):\n\u001b[1;32m    756\u001b[0m     index \u001b[38;5;241m=\u001b[39m \u001b[38;5;28mself\u001b[39m\u001b[38;5;241m.\u001b[39m_next_index()  \u001b[38;5;66;03m# may raise StopIteration\u001b[39;00m\n\u001b[0;32m--> 757\u001b[0m     data \u001b[38;5;241m=\u001b[39m \u001b[38;5;28;43mself\u001b[39;49m\u001b[38;5;241;43m.\u001b[39;49m\u001b[43m_dataset_fetcher\u001b[49m\u001b[38;5;241;43m.\u001b[39;49m\u001b[43mfetch\u001b[49m\u001b[43m(\u001b[49m\u001b[43mindex\u001b[49m\u001b[43m)\u001b[49m  \u001b[38;5;66;03m# may raise StopIteration\u001b[39;00m\n\u001b[1;32m    758\u001b[0m     \u001b[38;5;28;01mif\u001b[39;00m \u001b[38;5;28mself\u001b[39m\u001b[38;5;241m.\u001b[39m_pin_memory:\n\u001b[1;32m    759\u001b[0m         data \u001b[38;5;241m=\u001b[39m _utils\u001b[38;5;241m.\u001b[39mpin_memory\u001b[38;5;241m.\u001b[39mpin_memory(data, \u001b[38;5;28mself\u001b[39m\u001b[38;5;241m.\u001b[39m_pin_memory_device)\n",
      "File \u001b[0;32m~/miniconda3/envs/quant_env/lib/python3.12/site-packages/torch/utils/data/_utils/fetch.py:50\u001b[0m, in \u001b[0;36m_MapDatasetFetcher.fetch\u001b[0;34m(self, possibly_batched_index)\u001b[0m\n\u001b[1;32m     48\u001b[0m \u001b[38;5;28;01mif\u001b[39;00m \u001b[38;5;28mself\u001b[39m\u001b[38;5;241m.\u001b[39mauto_collation:\n\u001b[1;32m     49\u001b[0m     \u001b[38;5;28;01mif\u001b[39;00m \u001b[38;5;28mhasattr\u001b[39m(\u001b[38;5;28mself\u001b[39m\u001b[38;5;241m.\u001b[39mdataset, \u001b[38;5;124m\"\u001b[39m\u001b[38;5;124m__getitems__\u001b[39m\u001b[38;5;124m\"\u001b[39m) \u001b[38;5;129;01mand\u001b[39;00m \u001b[38;5;28mself\u001b[39m\u001b[38;5;241m.\u001b[39mdataset\u001b[38;5;241m.\u001b[39m__getitems__:\n\u001b[0;32m---> 50\u001b[0m         data \u001b[38;5;241m=\u001b[39m \u001b[38;5;28;43mself\u001b[39;49m\u001b[38;5;241;43m.\u001b[39;49m\u001b[43mdataset\u001b[49m\u001b[38;5;241;43m.\u001b[39;49m\u001b[43m__getitems__\u001b[49m\u001b[43m(\u001b[49m\u001b[43mpossibly_batched_index\u001b[49m\u001b[43m)\u001b[49m\n\u001b[1;32m     51\u001b[0m     \u001b[38;5;28;01melse\u001b[39;00m:\n\u001b[1;32m     52\u001b[0m         data \u001b[38;5;241m=\u001b[39m [\u001b[38;5;28mself\u001b[39m\u001b[38;5;241m.\u001b[39mdataset[idx] \u001b[38;5;28;01mfor\u001b[39;00m idx \u001b[38;5;129;01min\u001b[39;00m possibly_batched_index]\n",
      "File \u001b[0;32m~/miniconda3/envs/quant_env/lib/python3.12/site-packages/datasets/arrow_dataset.py:2766\u001b[0m, in \u001b[0;36mDataset.__getitems__\u001b[0;34m(self, keys)\u001b[0m\n\u001b[1;32m   2764\u001b[0m \u001b[38;5;28;01mdef\u001b[39;00m \u001b[38;5;21m__getitems__\u001b[39m(\u001b[38;5;28mself\u001b[39m, keys: List) \u001b[38;5;241m-\u001b[39m\u001b[38;5;241m>\u001b[39m List:\n\u001b[1;32m   2765\u001b[0m \u001b[38;5;250m    \u001b[39m\u001b[38;5;124;03m\"\"\"Can be used to get a batch using a list of integers indices.\"\"\"\u001b[39;00m\n\u001b[0;32m-> 2766\u001b[0m     batch \u001b[38;5;241m=\u001b[39m \u001b[38;5;28;43mself\u001b[39;49m\u001b[38;5;241;43m.\u001b[39;49m\u001b[38;5;21;43m__getitem__\u001b[39;49m\u001b[43m(\u001b[49m\u001b[43mkeys\u001b[49m\u001b[43m)\u001b[49m\n\u001b[1;32m   2767\u001b[0m     n_examples \u001b[38;5;241m=\u001b[39m \u001b[38;5;28mlen\u001b[39m(batch[\u001b[38;5;28mnext\u001b[39m(\u001b[38;5;28miter\u001b[39m(batch))])\n\u001b[1;32m   2768\u001b[0m     \u001b[38;5;28;01mreturn\u001b[39;00m [{col: array[i] \u001b[38;5;28;01mfor\u001b[39;00m col, array \u001b[38;5;129;01min\u001b[39;00m batch\u001b[38;5;241m.\u001b[39mitems()} \u001b[38;5;28;01mfor\u001b[39;00m i \u001b[38;5;129;01min\u001b[39;00m \u001b[38;5;28mrange\u001b[39m(n_examples)]\n",
      "File \u001b[0;32m~/miniconda3/envs/quant_env/lib/python3.12/site-packages/datasets/arrow_dataset.py:2762\u001b[0m, in \u001b[0;36mDataset.__getitem__\u001b[0;34m(self, key)\u001b[0m\n\u001b[1;32m   2760\u001b[0m \u001b[38;5;28;01mdef\u001b[39;00m \u001b[38;5;21m__getitem__\u001b[39m(\u001b[38;5;28mself\u001b[39m, key):  \u001b[38;5;66;03m# noqa: F811\u001b[39;00m\n\u001b[1;32m   2761\u001b[0m \u001b[38;5;250m    \u001b[39m\u001b[38;5;124;03m\"\"\"Can be used to index columns (by string names) or rows (by integer index or iterable of indices or bools).\"\"\"\u001b[39;00m\n\u001b[0;32m-> 2762\u001b[0m     \u001b[38;5;28;01mreturn\u001b[39;00m \u001b[38;5;28;43mself\u001b[39;49m\u001b[38;5;241;43m.\u001b[39;49m\u001b[43m_getitem\u001b[49m\u001b[43m(\u001b[49m\u001b[43mkey\u001b[49m\u001b[43m)\u001b[49m\n",
      "File \u001b[0;32m~/miniconda3/envs/quant_env/lib/python3.12/site-packages/datasets/arrow_dataset.py:2747\u001b[0m, in \u001b[0;36mDataset._getitem\u001b[0;34m(self, key, **kwargs)\u001b[0m\n\u001b[1;32m   2745\u001b[0m formatter \u001b[38;5;241m=\u001b[39m get_formatter(format_type, features\u001b[38;5;241m=\u001b[39m\u001b[38;5;28mself\u001b[39m\u001b[38;5;241m.\u001b[39m_info\u001b[38;5;241m.\u001b[39mfeatures, \u001b[38;5;241m*\u001b[39m\u001b[38;5;241m*\u001b[39mformat_kwargs)\n\u001b[1;32m   2746\u001b[0m pa_subtable \u001b[38;5;241m=\u001b[39m query_table(\u001b[38;5;28mself\u001b[39m\u001b[38;5;241m.\u001b[39m_data, key, indices\u001b[38;5;241m=\u001b[39m\u001b[38;5;28mself\u001b[39m\u001b[38;5;241m.\u001b[39m_indices)\n\u001b[0;32m-> 2747\u001b[0m formatted_output \u001b[38;5;241m=\u001b[39m \u001b[43mformat_table\u001b[49m\u001b[43m(\u001b[49m\n\u001b[1;32m   2748\u001b[0m \u001b[43m    \u001b[49m\u001b[43mpa_subtable\u001b[49m\u001b[43m,\u001b[49m\u001b[43m \u001b[49m\u001b[43mkey\u001b[49m\u001b[43m,\u001b[49m\u001b[43m \u001b[49m\u001b[43mformatter\u001b[49m\u001b[38;5;241;43m=\u001b[39;49m\u001b[43mformatter\u001b[49m\u001b[43m,\u001b[49m\u001b[43m \u001b[49m\u001b[43mformat_columns\u001b[49m\u001b[38;5;241;43m=\u001b[39;49m\u001b[43mformat_columns\u001b[49m\u001b[43m,\u001b[49m\u001b[43m \u001b[49m\u001b[43moutput_all_columns\u001b[49m\u001b[38;5;241;43m=\u001b[39;49m\u001b[43moutput_all_columns\u001b[49m\n\u001b[1;32m   2749\u001b[0m \u001b[43m\u001b[49m\u001b[43m)\u001b[49m\n\u001b[1;32m   2750\u001b[0m \u001b[38;5;28;01mreturn\u001b[39;00m formatted_output\n",
      "File \u001b[0;32m~/miniconda3/envs/quant_env/lib/python3.12/site-packages/datasets/formatting/formatting.py:647\u001b[0m, in \u001b[0;36mformat_table\u001b[0;34m(table, key, formatter, format_columns, output_all_columns)\u001b[0m\n\u001b[1;32m    645\u001b[0m \u001b[38;5;28;01melse\u001b[39;00m:\n\u001b[1;32m    646\u001b[0m     pa_table_to_format \u001b[38;5;241m=\u001b[39m pa_table\u001b[38;5;241m.\u001b[39mdrop(col \u001b[38;5;28;01mfor\u001b[39;00m col \u001b[38;5;129;01min\u001b[39;00m pa_table\u001b[38;5;241m.\u001b[39mcolumn_names \u001b[38;5;28;01mif\u001b[39;00m col \u001b[38;5;129;01mnot\u001b[39;00m \u001b[38;5;129;01min\u001b[39;00m format_columns)\n\u001b[0;32m--> 647\u001b[0m     formatted_output \u001b[38;5;241m=\u001b[39m \u001b[43mformatter\u001b[49m\u001b[43m(\u001b[49m\u001b[43mpa_table_to_format\u001b[49m\u001b[43m,\u001b[49m\u001b[43m \u001b[49m\u001b[43mquery_type\u001b[49m\u001b[38;5;241;43m=\u001b[39;49m\u001b[43mquery_type\u001b[49m\u001b[43m)\u001b[49m\n\u001b[1;32m    648\u001b[0m     \u001b[38;5;28;01mif\u001b[39;00m output_all_columns:\n\u001b[1;32m    649\u001b[0m         \u001b[38;5;28;01mif\u001b[39;00m \u001b[38;5;28misinstance\u001b[39m(formatted_output, MutableMapping):\n",
      "File \u001b[0;32m~/miniconda3/envs/quant_env/lib/python3.12/site-packages/datasets/formatting/formatting.py:407\u001b[0m, in \u001b[0;36mFormatter.__call__\u001b[0;34m(self, pa_table, query_type)\u001b[0m\n\u001b[1;32m    405\u001b[0m     \u001b[38;5;28;01mreturn\u001b[39;00m \u001b[38;5;28mself\u001b[39m\u001b[38;5;241m.\u001b[39mformat_column(pa_table)\n\u001b[1;32m    406\u001b[0m \u001b[38;5;28;01melif\u001b[39;00m query_type \u001b[38;5;241m==\u001b[39m \u001b[38;5;124m\"\u001b[39m\u001b[38;5;124mbatch\u001b[39m\u001b[38;5;124m\"\u001b[39m:\n\u001b[0;32m--> 407\u001b[0m     \u001b[38;5;28;01mreturn\u001b[39;00m \u001b[38;5;28;43mself\u001b[39;49m\u001b[38;5;241;43m.\u001b[39;49m\u001b[43mformat_batch\u001b[49m\u001b[43m(\u001b[49m\u001b[43mpa_table\u001b[49m\u001b[43m)\u001b[49m\n",
      "File \u001b[0;32m~/miniconda3/envs/quant_env/lib/python3.12/site-packages/datasets/formatting/torch_formatter.py:112\u001b[0m, in \u001b[0;36mTorchFormatter.format_batch\u001b[0;34m(self, pa_table)\u001b[0m\n\u001b[1;32m    110\u001b[0m batch \u001b[38;5;241m=\u001b[39m \u001b[38;5;28mself\u001b[39m\u001b[38;5;241m.\u001b[39mnumpy_arrow_extractor()\u001b[38;5;241m.\u001b[39mextract_batch(pa_table)\n\u001b[1;32m    111\u001b[0m batch \u001b[38;5;241m=\u001b[39m \u001b[38;5;28mself\u001b[39m\u001b[38;5;241m.\u001b[39mpython_features_decoder\u001b[38;5;241m.\u001b[39mdecode_batch(batch)\n\u001b[0;32m--> 112\u001b[0m batch \u001b[38;5;241m=\u001b[39m \u001b[38;5;28;43mself\u001b[39;49m\u001b[38;5;241;43m.\u001b[39;49m\u001b[43mrecursive_tensorize\u001b[49m\u001b[43m(\u001b[49m\u001b[43mbatch\u001b[49m\u001b[43m)\u001b[49m\n\u001b[1;32m    113\u001b[0m \u001b[38;5;28;01mfor\u001b[39;00m column_name \u001b[38;5;129;01min\u001b[39;00m batch:\n\u001b[1;32m    114\u001b[0m     batch[column_name] \u001b[38;5;241m=\u001b[39m \u001b[38;5;28mself\u001b[39m\u001b[38;5;241m.\u001b[39m_consolidate(batch[column_name])\n",
      "File \u001b[0;32m~/miniconda3/envs/quant_env/lib/python3.12/site-packages/datasets/formatting/torch_formatter.py:95\u001b[0m, in \u001b[0;36mTorchFormatter.recursive_tensorize\u001b[0;34m(self, data_struct)\u001b[0m\n\u001b[1;32m     94\u001b[0m \u001b[38;5;28;01mdef\u001b[39;00m \u001b[38;5;21mrecursive_tensorize\u001b[39m(\u001b[38;5;28mself\u001b[39m, data_struct: \u001b[38;5;28mdict\u001b[39m):\n\u001b[0;32m---> 95\u001b[0m     \u001b[38;5;28;01mreturn\u001b[39;00m \u001b[43mmap_nested\u001b[49m\u001b[43m(\u001b[49m\u001b[38;5;28;43mself\u001b[39;49m\u001b[38;5;241;43m.\u001b[39;49m\u001b[43m_recursive_tensorize\u001b[49m\u001b[43m,\u001b[49m\u001b[43m \u001b[49m\u001b[43mdata_struct\u001b[49m\u001b[43m,\u001b[49m\u001b[43m \u001b[49m\u001b[43mmap_list\u001b[49m\u001b[38;5;241;43m=\u001b[39;49m\u001b[38;5;28;43;01mFalse\u001b[39;49;00m\u001b[43m)\u001b[49m\n",
      "File \u001b[0;32m~/miniconda3/envs/quant_env/lib/python3.12/site-packages/datasets/utils/py_utils.py:512\u001b[0m, in \u001b[0;36mmap_nested\u001b[0;34m(function, data_struct, dict_only, map_list, map_tuple, map_numpy, num_proc, parallel_min_length, batched, batch_size, types, disable_tqdm, desc)\u001b[0m\n\u001b[1;32m    509\u001b[0m         batch_size \u001b[38;5;241m=\u001b[39m \u001b[38;5;28mmax\u001b[39m(\u001b[38;5;28mlen\u001b[39m(iterable) \u001b[38;5;241m/\u001b[39m\u001b[38;5;241m/\u001b[39m num_proc \u001b[38;5;241m+\u001b[39m \u001b[38;5;28mint\u001b[39m(\u001b[38;5;28mlen\u001b[39m(iterable) \u001b[38;5;241m%\u001b[39m num_proc \u001b[38;5;241m>\u001b[39m \u001b[38;5;241m0\u001b[39m), \u001b[38;5;241m1\u001b[39m)\n\u001b[1;32m    510\u001b[0m     iterable \u001b[38;5;241m=\u001b[39m \u001b[38;5;28mlist\u001b[39m(iter_batched(iterable, batch_size))\n\u001b[1;32m    511\u001b[0m mapped \u001b[38;5;241m=\u001b[39m [\n\u001b[0;32m--> 512\u001b[0m     \u001b[43m_single_map_nested\u001b[49m\u001b[43m(\u001b[49m\u001b[43m(\u001b[49m\u001b[43mfunction\u001b[49m\u001b[43m,\u001b[49m\u001b[43m \u001b[49m\u001b[43mobj\u001b[49m\u001b[43m,\u001b[49m\u001b[43m \u001b[49m\u001b[43mbatched\u001b[49m\u001b[43m,\u001b[49m\u001b[43m \u001b[49m\u001b[43mbatch_size\u001b[49m\u001b[43m,\u001b[49m\u001b[43m \u001b[49m\u001b[43mtypes\u001b[49m\u001b[43m,\u001b[49m\u001b[43m \u001b[49m\u001b[38;5;28;43;01mNone\u001b[39;49;00m\u001b[43m,\u001b[49m\u001b[43m \u001b[49m\u001b[38;5;28;43;01mTrue\u001b[39;49;00m\u001b[43m,\u001b[49m\u001b[43m \u001b[49m\u001b[38;5;28;43;01mNone\u001b[39;49;00m\u001b[43m)\u001b[49m\u001b[43m)\u001b[49m\n\u001b[1;32m    513\u001b[0m     \u001b[38;5;28;01mfor\u001b[39;00m obj \u001b[38;5;129;01min\u001b[39;00m hf_tqdm(iterable, disable\u001b[38;5;241m=\u001b[39mdisable_tqdm, desc\u001b[38;5;241m=\u001b[39mdesc)\n\u001b[1;32m    514\u001b[0m ]\n\u001b[1;32m    515\u001b[0m \u001b[38;5;28;01mif\u001b[39;00m batched:\n\u001b[1;32m    516\u001b[0m     mapped \u001b[38;5;241m=\u001b[39m [mapped_item \u001b[38;5;28;01mfor\u001b[39;00m mapped_batch \u001b[38;5;129;01min\u001b[39;00m mapped \u001b[38;5;28;01mfor\u001b[39;00m mapped_item \u001b[38;5;129;01min\u001b[39;00m mapped_batch]\n",
      "File \u001b[0;32m~/miniconda3/envs/quant_env/lib/python3.12/site-packages/datasets/utils/py_utils.py:373\u001b[0m, in \u001b[0;36m_single_map_nested\u001b[0;34m(args)\u001b[0m\n\u001b[1;32m    371\u001b[0m         \u001b[38;5;28;01mreturn\u001b[39;00m function([data_struct])[\u001b[38;5;241m0\u001b[39m]\n\u001b[1;32m    372\u001b[0m     \u001b[38;5;28;01melse\u001b[39;00m:\n\u001b[0;32m--> 373\u001b[0m         \u001b[38;5;28;01mreturn\u001b[39;00m \u001b[43mfunction\u001b[49m\u001b[43m(\u001b[49m\u001b[43mdata_struct\u001b[49m\u001b[43m)\u001b[49m\n\u001b[1;32m    374\u001b[0m \u001b[38;5;28;01mif\u001b[39;00m (\n\u001b[1;32m    375\u001b[0m     batched\n\u001b[1;32m    376\u001b[0m     \u001b[38;5;129;01mand\u001b[39;00m \u001b[38;5;129;01mnot\u001b[39;00m \u001b[38;5;28misinstance\u001b[39m(data_struct, \u001b[38;5;28mdict\u001b[39m)\n\u001b[1;32m    377\u001b[0m     \u001b[38;5;129;01mand\u001b[39;00m \u001b[38;5;28misinstance\u001b[39m(data_struct, types)\n\u001b[1;32m    378\u001b[0m     \u001b[38;5;129;01mand\u001b[39;00m \u001b[38;5;28mall\u001b[39m(\u001b[38;5;129;01mnot\u001b[39;00m \u001b[38;5;28misinstance\u001b[39m(v, (\u001b[38;5;28mdict\u001b[39m, types)) \u001b[38;5;28;01mfor\u001b[39;00m v \u001b[38;5;129;01min\u001b[39;00m data_struct)\n\u001b[1;32m    379\u001b[0m ):\n\u001b[1;32m    380\u001b[0m     \u001b[38;5;28;01mreturn\u001b[39;00m [mapped_item \u001b[38;5;28;01mfor\u001b[39;00m batch \u001b[38;5;129;01min\u001b[39;00m iter_batched(data_struct, batch_size) \u001b[38;5;28;01mfor\u001b[39;00m mapped_item \u001b[38;5;129;01min\u001b[39;00m function(batch)]\n",
      "File \u001b[0;32m~/miniconda3/envs/quant_env/lib/python3.12/site-packages/datasets/formatting/torch_formatter.py:89\u001b[0m, in \u001b[0;36mTorchFormatter._recursive_tensorize\u001b[0;34m(self, data_struct)\u001b[0m\n\u001b[1;32m     87\u001b[0m \u001b[38;5;28;01mif\u001b[39;00m \u001b[38;5;28misinstance\u001b[39m(data_struct, np\u001b[38;5;241m.\u001b[39mndarray):\n\u001b[1;32m     88\u001b[0m     \u001b[38;5;28;01mif\u001b[39;00m data_struct\u001b[38;5;241m.\u001b[39mdtype \u001b[38;5;241m==\u001b[39m \u001b[38;5;28mobject\u001b[39m:  \u001b[38;5;66;03m# torch tensors cannot be instantied from an array of objects\u001b[39;00m\n\u001b[0;32m---> 89\u001b[0m         \u001b[38;5;28;01mreturn\u001b[39;00m \u001b[38;5;28mself\u001b[39m\u001b[38;5;241m.\u001b[39m_consolidate([\u001b[38;5;28;43mself\u001b[39;49m\u001b[38;5;241;43m.\u001b[39;49m\u001b[43mrecursive_tensorize\u001b[49m\u001b[43m(\u001b[49m\u001b[43msubstruct\u001b[49m\u001b[43m)\u001b[49m \u001b[38;5;28;01mfor\u001b[39;00m substruct \u001b[38;5;129;01min\u001b[39;00m data_struct])\n\u001b[1;32m     90\u001b[0m \u001b[38;5;28;01melif\u001b[39;00m \u001b[38;5;28misinstance\u001b[39m(data_struct, (\u001b[38;5;28mlist\u001b[39m, \u001b[38;5;28mtuple\u001b[39m)):\n\u001b[1;32m     91\u001b[0m     \u001b[38;5;28;01mreturn\u001b[39;00m \u001b[38;5;28mself\u001b[39m\u001b[38;5;241m.\u001b[39m_consolidate([\u001b[38;5;28mself\u001b[39m\u001b[38;5;241m.\u001b[39mrecursive_tensorize(substruct) \u001b[38;5;28;01mfor\u001b[39;00m substruct \u001b[38;5;129;01min\u001b[39;00m data_struct])\n",
      "File \u001b[0;32m~/miniconda3/envs/quant_env/lib/python3.12/site-packages/datasets/formatting/torch_formatter.py:95\u001b[0m, in \u001b[0;36mTorchFormatter.recursive_tensorize\u001b[0;34m(self, data_struct)\u001b[0m\n\u001b[1;32m     94\u001b[0m \u001b[38;5;28;01mdef\u001b[39;00m \u001b[38;5;21mrecursive_tensorize\u001b[39m(\u001b[38;5;28mself\u001b[39m, data_struct: \u001b[38;5;28mdict\u001b[39m):\n\u001b[0;32m---> 95\u001b[0m     \u001b[38;5;28;01mreturn\u001b[39;00m \u001b[43mmap_nested\u001b[49m\u001b[43m(\u001b[49m\u001b[38;5;28;43mself\u001b[39;49m\u001b[38;5;241;43m.\u001b[39;49m\u001b[43m_recursive_tensorize\u001b[49m\u001b[43m,\u001b[49m\u001b[43m \u001b[49m\u001b[43mdata_struct\u001b[49m\u001b[43m,\u001b[49m\u001b[43m \u001b[49m\u001b[43mmap_list\u001b[49m\u001b[38;5;241;43m=\u001b[39;49m\u001b[38;5;28;43;01mFalse\u001b[39;49;00m\u001b[43m)\u001b[49m\n",
      "File \u001b[0;32m~/miniconda3/envs/quant_env/lib/python3.12/site-packages/datasets/utils/py_utils.py:484\u001b[0m, in \u001b[0;36mmap_nested\u001b[0;34m(function, data_struct, dict_only, map_list, map_tuple, map_numpy, num_proc, parallel_min_length, batched, batch_size, types, disable_tqdm, desc)\u001b[0m\n\u001b[1;32m    482\u001b[0m \u001b[38;5;28;01mif\u001b[39;00m batched:\n\u001b[1;32m    483\u001b[0m     data_struct \u001b[38;5;241m=\u001b[39m [data_struct]\n\u001b[0;32m--> 484\u001b[0m mapped \u001b[38;5;241m=\u001b[39m \u001b[43mfunction\u001b[49m\u001b[43m(\u001b[49m\u001b[43mdata_struct\u001b[49m\u001b[43m)\u001b[49m\n\u001b[1;32m    485\u001b[0m \u001b[38;5;28;01mif\u001b[39;00m batched:\n\u001b[1;32m    486\u001b[0m     mapped \u001b[38;5;241m=\u001b[39m mapped[\u001b[38;5;241m0\u001b[39m]\n",
      "File \u001b[0;32m~/miniconda3/envs/quant_env/lib/python3.12/site-packages/datasets/formatting/torch_formatter.py:89\u001b[0m, in \u001b[0;36mTorchFormatter._recursive_tensorize\u001b[0;34m(self, data_struct)\u001b[0m\n\u001b[1;32m     87\u001b[0m \u001b[38;5;28;01mif\u001b[39;00m \u001b[38;5;28misinstance\u001b[39m(data_struct, np\u001b[38;5;241m.\u001b[39mndarray):\n\u001b[1;32m     88\u001b[0m     \u001b[38;5;28;01mif\u001b[39;00m data_struct\u001b[38;5;241m.\u001b[39mdtype \u001b[38;5;241m==\u001b[39m \u001b[38;5;28mobject\u001b[39m:  \u001b[38;5;66;03m# torch tensors cannot be instantied from an array of objects\u001b[39;00m\n\u001b[0;32m---> 89\u001b[0m         \u001b[38;5;28;01mreturn\u001b[39;00m \u001b[38;5;28mself\u001b[39m\u001b[38;5;241m.\u001b[39m_consolidate([\u001b[38;5;28;43mself\u001b[39;49m\u001b[38;5;241;43m.\u001b[39;49m\u001b[43mrecursive_tensorize\u001b[49m\u001b[43m(\u001b[49m\u001b[43msubstruct\u001b[49m\u001b[43m)\u001b[49m \u001b[38;5;28;01mfor\u001b[39;00m substruct \u001b[38;5;129;01min\u001b[39;00m data_struct])\n\u001b[1;32m     90\u001b[0m \u001b[38;5;28;01melif\u001b[39;00m \u001b[38;5;28misinstance\u001b[39m(data_struct, (\u001b[38;5;28mlist\u001b[39m, \u001b[38;5;28mtuple\u001b[39m)):\n\u001b[1;32m     91\u001b[0m     \u001b[38;5;28;01mreturn\u001b[39;00m \u001b[38;5;28mself\u001b[39m\u001b[38;5;241m.\u001b[39m_consolidate([\u001b[38;5;28mself\u001b[39m\u001b[38;5;241m.\u001b[39mrecursive_tensorize(substruct) \u001b[38;5;28;01mfor\u001b[39;00m substruct \u001b[38;5;129;01min\u001b[39;00m data_struct])\n",
      "File \u001b[0;32m~/miniconda3/envs/quant_env/lib/python3.12/site-packages/datasets/formatting/torch_formatter.py:95\u001b[0m, in \u001b[0;36mTorchFormatter.recursive_tensorize\u001b[0;34m(self, data_struct)\u001b[0m\n\u001b[1;32m     94\u001b[0m \u001b[38;5;28;01mdef\u001b[39;00m \u001b[38;5;21mrecursive_tensorize\u001b[39m(\u001b[38;5;28mself\u001b[39m, data_struct: \u001b[38;5;28mdict\u001b[39m):\n\u001b[0;32m---> 95\u001b[0m     \u001b[38;5;28;01mreturn\u001b[39;00m \u001b[43mmap_nested\u001b[49m\u001b[43m(\u001b[49m\u001b[38;5;28;43mself\u001b[39;49m\u001b[38;5;241;43m.\u001b[39;49m\u001b[43m_recursive_tensorize\u001b[49m\u001b[43m,\u001b[49m\u001b[43m \u001b[49m\u001b[43mdata_struct\u001b[49m\u001b[43m,\u001b[49m\u001b[43m \u001b[49m\u001b[43mmap_list\u001b[49m\u001b[38;5;241;43m=\u001b[39;49m\u001b[38;5;28;43;01mFalse\u001b[39;49;00m\u001b[43m)\u001b[49m\n",
      "File \u001b[0;32m~/miniconda3/envs/quant_env/lib/python3.12/site-packages/datasets/utils/py_utils.py:484\u001b[0m, in \u001b[0;36mmap_nested\u001b[0;34m(function, data_struct, dict_only, map_list, map_tuple, map_numpy, num_proc, parallel_min_length, batched, batch_size, types, disable_tqdm, desc)\u001b[0m\n\u001b[1;32m    482\u001b[0m \u001b[38;5;28;01mif\u001b[39;00m batched:\n\u001b[1;32m    483\u001b[0m     data_struct \u001b[38;5;241m=\u001b[39m [data_struct]\n\u001b[0;32m--> 484\u001b[0m mapped \u001b[38;5;241m=\u001b[39m \u001b[43mfunction\u001b[49m\u001b[43m(\u001b[49m\u001b[43mdata_struct\u001b[49m\u001b[43m)\u001b[49m\n\u001b[1;32m    485\u001b[0m \u001b[38;5;28;01mif\u001b[39;00m batched:\n\u001b[1;32m    486\u001b[0m     mapped \u001b[38;5;241m=\u001b[39m mapped[\u001b[38;5;241m0\u001b[39m]\n",
      "File \u001b[0;32m~/miniconda3/envs/quant_env/lib/python3.12/site-packages/datasets/formatting/torch_formatter.py:89\u001b[0m, in \u001b[0;36mTorchFormatter._recursive_tensorize\u001b[0;34m(self, data_struct)\u001b[0m\n\u001b[1;32m     87\u001b[0m \u001b[38;5;28;01mif\u001b[39;00m \u001b[38;5;28misinstance\u001b[39m(data_struct, np\u001b[38;5;241m.\u001b[39mndarray):\n\u001b[1;32m     88\u001b[0m     \u001b[38;5;28;01mif\u001b[39;00m data_struct\u001b[38;5;241m.\u001b[39mdtype \u001b[38;5;241m==\u001b[39m \u001b[38;5;28mobject\u001b[39m:  \u001b[38;5;66;03m# torch tensors cannot be instantied from an array of objects\u001b[39;00m\n\u001b[0;32m---> 89\u001b[0m         \u001b[38;5;28;01mreturn\u001b[39;00m \u001b[38;5;28mself\u001b[39m\u001b[38;5;241m.\u001b[39m_consolidate([\u001b[38;5;28;43mself\u001b[39;49m\u001b[38;5;241;43m.\u001b[39;49m\u001b[43mrecursive_tensorize\u001b[49m\u001b[43m(\u001b[49m\u001b[43msubstruct\u001b[49m\u001b[43m)\u001b[49m \u001b[38;5;28;01mfor\u001b[39;00m substruct \u001b[38;5;129;01min\u001b[39;00m data_struct])\n\u001b[1;32m     90\u001b[0m \u001b[38;5;28;01melif\u001b[39;00m \u001b[38;5;28misinstance\u001b[39m(data_struct, (\u001b[38;5;28mlist\u001b[39m, \u001b[38;5;28mtuple\u001b[39m)):\n\u001b[1;32m     91\u001b[0m     \u001b[38;5;28;01mreturn\u001b[39;00m \u001b[38;5;28mself\u001b[39m\u001b[38;5;241m.\u001b[39m_consolidate([\u001b[38;5;28mself\u001b[39m\u001b[38;5;241m.\u001b[39mrecursive_tensorize(substruct) \u001b[38;5;28;01mfor\u001b[39;00m substruct \u001b[38;5;129;01min\u001b[39;00m data_struct])\n",
      "File \u001b[0;32m~/miniconda3/envs/quant_env/lib/python3.12/site-packages/datasets/formatting/torch_formatter.py:95\u001b[0m, in \u001b[0;36mTorchFormatter.recursive_tensorize\u001b[0;34m(self, data_struct)\u001b[0m\n\u001b[1;32m     94\u001b[0m \u001b[38;5;28;01mdef\u001b[39;00m \u001b[38;5;21mrecursive_tensorize\u001b[39m(\u001b[38;5;28mself\u001b[39m, data_struct: \u001b[38;5;28mdict\u001b[39m):\n\u001b[0;32m---> 95\u001b[0m     \u001b[38;5;28;01mreturn\u001b[39;00m \u001b[43mmap_nested\u001b[49m\u001b[43m(\u001b[49m\u001b[38;5;28;43mself\u001b[39;49m\u001b[38;5;241;43m.\u001b[39;49m\u001b[43m_recursive_tensorize\u001b[49m\u001b[43m,\u001b[49m\u001b[43m \u001b[49m\u001b[43mdata_struct\u001b[49m\u001b[43m,\u001b[49m\u001b[43m \u001b[49m\u001b[43mmap_list\u001b[49m\u001b[38;5;241;43m=\u001b[39;49m\u001b[38;5;28;43;01mFalse\u001b[39;49;00m\u001b[43m)\u001b[49m\n",
      "File \u001b[0;32m~/miniconda3/envs/quant_env/lib/python3.12/site-packages/datasets/utils/py_utils.py:484\u001b[0m, in \u001b[0;36mmap_nested\u001b[0;34m(function, data_struct, dict_only, map_list, map_tuple, map_numpy, num_proc, parallel_min_length, batched, batch_size, types, disable_tqdm, desc)\u001b[0m\n\u001b[1;32m    482\u001b[0m \u001b[38;5;28;01mif\u001b[39;00m batched:\n\u001b[1;32m    483\u001b[0m     data_struct \u001b[38;5;241m=\u001b[39m [data_struct]\n\u001b[0;32m--> 484\u001b[0m mapped \u001b[38;5;241m=\u001b[39m \u001b[43mfunction\u001b[49m\u001b[43m(\u001b[49m\u001b[43mdata_struct\u001b[49m\u001b[43m)\u001b[49m\n\u001b[1;32m    485\u001b[0m \u001b[38;5;28;01mif\u001b[39;00m batched:\n\u001b[1;32m    486\u001b[0m     mapped \u001b[38;5;241m=\u001b[39m mapped[\u001b[38;5;241m0\u001b[39m]\n",
      "File \u001b[0;32m~/miniconda3/envs/quant_env/lib/python3.12/site-packages/datasets/formatting/torch_formatter.py:92\u001b[0m, in \u001b[0;36mTorchFormatter._recursive_tensorize\u001b[0;34m(self, data_struct)\u001b[0m\n\u001b[1;32m     90\u001b[0m \u001b[38;5;28;01melif\u001b[39;00m \u001b[38;5;28misinstance\u001b[39m(data_struct, (\u001b[38;5;28mlist\u001b[39m, \u001b[38;5;28mtuple\u001b[39m)):\n\u001b[1;32m     91\u001b[0m     \u001b[38;5;28;01mreturn\u001b[39;00m \u001b[38;5;28mself\u001b[39m\u001b[38;5;241m.\u001b[39m_consolidate([\u001b[38;5;28mself\u001b[39m\u001b[38;5;241m.\u001b[39mrecursive_tensorize(substruct) \u001b[38;5;28;01mfor\u001b[39;00m substruct \u001b[38;5;129;01min\u001b[39;00m data_struct])\n\u001b[0;32m---> 92\u001b[0m \u001b[38;5;28;01mreturn\u001b[39;00m \u001b[38;5;28;43mself\u001b[39;49m\u001b[38;5;241;43m.\u001b[39;49m\u001b[43m_tensorize\u001b[49m\u001b[43m(\u001b[49m\u001b[43mdata_struct\u001b[49m\u001b[43m)\u001b[49m\n",
      "File \u001b[0;32m~/miniconda3/envs/quant_env/lib/python3.12/site-packages/datasets/formatting/torch_formatter.py:54\u001b[0m, in \u001b[0;36mTorchFormatter._tensorize\u001b[0;34m(self, value)\u001b[0m\n\u001b[1;32m     52\u001b[0m \u001b[38;5;28;01mif\u001b[39;00m \u001b[38;5;28misinstance\u001b[39m(value, (\u001b[38;5;28mstr\u001b[39m, \u001b[38;5;28mbytes\u001b[39m, \u001b[38;5;28mtype\u001b[39m(\u001b[38;5;28;01mNone\u001b[39;00m))):\n\u001b[1;32m     53\u001b[0m     \u001b[38;5;28;01mreturn\u001b[39;00m value\n\u001b[0;32m---> 54\u001b[0m \u001b[38;5;28;01melif\u001b[39;00m \u001b[38;5;28misinstance\u001b[39m(value, (np\u001b[38;5;241m.\u001b[39mcharacter, np\u001b[38;5;241m.\u001b[39mndarray)) \u001b[38;5;129;01mand\u001b[39;00m \u001b[43mnp\u001b[49m\u001b[38;5;241;43m.\u001b[39;49m\u001b[43missubdtype\u001b[49m\u001b[43m(\u001b[49m\u001b[43mvalue\u001b[49m\u001b[38;5;241;43m.\u001b[39;49m\u001b[43mdtype\u001b[49m\u001b[43m,\u001b[49m\u001b[43m \u001b[49m\u001b[43mnp\u001b[49m\u001b[38;5;241;43m.\u001b[39;49m\u001b[43mcharacter\u001b[49m\u001b[43m)\u001b[49m:\n\u001b[1;32m     55\u001b[0m     \u001b[38;5;28;01mreturn\u001b[39;00m value\u001b[38;5;241m.\u001b[39mtolist()\n\u001b[1;32m     57\u001b[0m default_dtype \u001b[38;5;241m=\u001b[39m {}\n",
      "File \u001b[0;32m~/miniconda3/envs/quant_env/lib/python3.12/site-packages/numpy/_core/numerictypes.py:529\u001b[0m, in \u001b[0;36missubdtype\u001b[0;34m(arg1, arg2)\u001b[0m\n\u001b[1;32m    472\u001b[0m \u001b[38;5;250m\u001b[39m\u001b[38;5;124mr\u001b[39m\u001b[38;5;124;03m\"\"\"\u001b[39;00m\n\u001b[1;32m    473\u001b[0m \u001b[38;5;124;03mReturns True if first argument is a typecode lower/equal in type hierarchy.\u001b[39;00m\n\u001b[1;32m    474\u001b[0m \n\u001b[0;32m   (...)\u001b[0m\n\u001b[1;32m    526\u001b[0m \n\u001b[1;32m    527\u001b[0m \u001b[38;5;124;03m\"\"\"\u001b[39;00m\n\u001b[1;32m    528\u001b[0m \u001b[38;5;28;01mif\u001b[39;00m \u001b[38;5;129;01mnot\u001b[39;00m issubclass_(arg1, generic):\n\u001b[0;32m--> 529\u001b[0m     arg1 \u001b[38;5;241m=\u001b[39m \u001b[43mdtype\u001b[49m\u001b[43m(\u001b[49m\u001b[43marg1\u001b[49m\u001b[43m)\u001b[49m\u001b[38;5;241m.\u001b[39mtype\n\u001b[1;32m    530\u001b[0m \u001b[38;5;28;01mif\u001b[39;00m \u001b[38;5;129;01mnot\u001b[39;00m issubclass_(arg2, generic):\n\u001b[1;32m    531\u001b[0m     arg2 \u001b[38;5;241m=\u001b[39m dtype(arg2)\u001b[38;5;241m.\u001b[39mtype\n",
      "\u001b[0;31mKeyboardInterrupt\u001b[0m: "
     ]
    }
   ],
   "source": [
    "train_batch_size = 16\n",
    "n_epochs = 2\n",
    "train_lr = 1e-5\n",
    "\n",
    "train_loader = DataLoader(train_dataset, batch_size=train_batch_size, shuffle=True)\n",
    "trainable_parameters = prepare_trainable_params(model, exceptions=['embedder', 'classifier'])\n",
    "optimizer = torch.optim.Adam(trainable_parameters, lr=train_lr)\n",
    "\n",
    "ce_finetune(\n",
    "        model, \n",
    "        optimizer, \n",
    "        train_loader, \n",
    "        n_epochs=n_epochs,\n",
    "        use_scheduler=True,\n",
    "        time_step=10\n",
    ")\n",
    "\n",
    "res = eval(model, test_loader)\n",
    "print(res)\n",
    "# {'top_1_accuracy': 0.6299, 'top_5_accuracy': 0.8524} lr=1e-4 bs=32 small dataset\n",
    "# {'top_1_accuracy': 0.6503, 'top_5_accuracy': 0.8634} lr=1e-4 bs=32 large dataset\n",
    "# {'top_1_accuracy': 0.6579, 'top_5_accuracy': 0.8660} lr=1e-4 bs=16 large dataset\n",
    "# {'top_1_accuracy': 0.6613, 'top_5_accuracy': 0.8689} lr=1e-5 bs=16 large dataset\n"
   ]
  },
  {
   "cell_type": "markdown",
   "metadata": {},
   "source": [
    "##### KD finetune"
   ]
  },
  {
   "cell_type": "code",
   "execution_count": 48,
   "metadata": {},
   "outputs": [],
   "source": [
    "model = AutoModelForImageClassification.from_pretrained(model_path).to(device)\n",
    "\n",
    "wrap_rule = {\n",
    "    torch.nn.Linear : QLinear(weight_quantizer=Quantizer(bit_width=8, use_offset=True, group_type='channel')),\n",
    "    torch.nn.Conv2d : QConv2d(weight_quantizer=Quantizer(bit_width=3, use_offset=True, group_type='channel'))\n",
    "}\n",
    "exceptions = {\n",
    "    'resnet.embedder.embedder.convolution': QConv2d(weight_quantizer=Quantizer(bit_width=8, use_offset=True, group_type='channel'))\n",
    "}\n",
    "\n",
    "wrapper = Wrapper(wrap_rule=wrap_rule, exceptions=exceptions)\n",
    "wrapper.wrap_model(model)"
   ]
  },
  {
   "cell_type": "code",
   "execution_count": null,
   "metadata": {},
   "outputs": [
    {
     "data": {
      "image/png": "[encoded data removed]",
      "text/plain": [
       "<Figure size 600x300 with 2 Axes>"
      ]
     },
     "metadata": {},
     "output_type": "display_data"
    },
    {
     "name": "stdout",
     "output_type": "stream",
     "text": [
      "Run evaluation...\n"
     ]
    },
    {
     "name": "stderr",
     "output_type": "stream",
     "text": [
      "100%|██████████| 79/79 [00:49<00:00,  1.60it/s]"
     ]
    },
    {
     "name": "stdout",
     "output_type": "stream",
     "text": [
      "{'top_1_accuracy': 0.6636, 'top_5_accuracy': 0.8705}\n"
     ]
    },
    {
     "name": "stderr",
     "output_type": "stream",
     "text": [
      "\n"
     ]
    }
   ],
   "source": [
    "train_batch_size = 32\n",
    "n_epochs = 1\n",
    "train_lr = 1e-3\n",
    " \n",
    "train_loader = DataLoader(train_dataset, batch_size=train_batch_size, shuffle=True)\n",
    "trainable_parameters = prepare_trainable_params(model, exceptions=['embedder', 'classifier'])\n",
    "optimizer = torch.optim.Adam(trainable_parameters, lr=train_lr)\n",
    "teacher_model = AutoModelForImageClassification.from_pretrained(model_path).to(device)\n",
    "\n",
    "kd_finetune(\n",
    "        model, \n",
    "        teacher_model,\n",
    "        optimizer, \n",
    "        train_loader, \n",
    "        n_epochs=n_epochs,\n",
    "        use_scheduler=True,\n",
    "        time_step=10,\n",
    "        T=2,\n",
    "        ce_loss_weight=0.75\n",
    ")\n",
    "\n",
    "res = eval(model, test_loader)\n",
    "print(res)\n",
    "\n",
    "# {'top_1_accuracy': 0.6644, 'top_5_accuracy': 0.8713} lr=1e-4 bs=16 large dataset\n",
    "# {'top_1_accuracy': 0.6668, 'top_5_accuracy': 0.8735} lr=2e-4 bs=16 large dataset\n",
    "# {'top_1_accuracy': 0.6686, 'top_5_accuracy': 0.8714} lr=3e-4 bs=16 large dataset"
   ]
  },
  {
   "cell_type": "code",
   "execution_count": 51,
   "metadata": {},
   "outputs": [],
   "source": [
    "#torch.save(model.state_dict(), '/home/msst/repo/Quantization/weights/seminar/lsq_3bit.pth')"
   ]
  },
  {
   "cell_type": "markdown",
   "metadata": {},
   "source": [
    "### Use Quantized Model "
   ]
  },
  {
   "cell_type": "code",
   "execution_count": 92,
   "metadata": {},
   "outputs": [],
   "source": [
    "model = AutoModelForImageClassification.from_pretrained(model_path).to(device)\n",
    "\n",
    "wrap_rule = {\n",
    "    torch.nn.Linear : QLinear(weight_quantizer=Quantizer(bit_width=8, use_offset=True, group_type='channel')),\n",
    "    torch.nn.Conv2d : QConv2d(weight_quantizer=Quantizer(bit_width=3, use_offset=True, group_type='channel'))\n",
    "}\n",
    "exceptions = {\n",
    "    'resnet.embedder.embedder.convolution': QConv2d(weight_quantizer=Quantizer(bit_width=8, use_offset=True, group_type='channel'))\n",
    "}\n",
    "\n",
    "wrapper = Wrapper(wrap_rule=wrap_rule, exceptions=exceptions)\n",
    "wrapper.wrap_model(model)"
   ]
  },
  {
   "cell_type": "code",
   "execution_count": 93,
   "metadata": {},
   "outputs": [
    {
     "name": "stdout",
     "output_type": "stream",
     "text": [
      "44.740 Mb\n"
     ]
    },
    {
     "data": {
      "text/plain": [
       "<All keys matched successfully>"
      ]
     },
     "execution_count": 93,
     "metadata": {},
     "output_type": "execute_result"
    }
   ],
   "source": [
    "path_to_model = '/home/msst/repo/Quantization/weights/seminar/lsq_3bit.pth'\n",
    "print_file_size(path_to_model)\n",
    "model.load_state_dict(torch.load(path_to_model, weights_only=True))"
   ]
  },
  {
   "cell_type": "code",
   "execution_count": 94,
   "metadata": {},
   "outputs": [],
   "source": [
    "# res = eval(model, test_loader)\n",
    "# print(res)"
   ]
  },
  {
   "cell_type": "code",
   "execution_count": 95,
   "metadata": {},
   "outputs": [],
   "source": [
    "wrap_rule = {\n",
    "    QLinear : QuantizedLinear(),\n",
    "    QConv2d : QuantizedConv2d()\n",
    "}\n",
    "\n",
    "wrapper = Wrapper(wrap_rule=wrap_rule)\n",
    "wrapper.wrap_model(model)"
   ]
  },
  {
   "cell_type": "code",
   "execution_count": 96,
   "metadata": {},
   "outputs": [],
   "source": [
    "# res = eval(model, test_loader)\n",
    "# print(res)"
   ]
  },
  {
   "cell_type": "code",
   "execution_count": 97,
   "metadata": {},
   "outputs": [
    {
     "name": "stdout",
     "output_type": "stream",
     "text": [
      "4.673 Mb\n"
     ]
    }
   ],
   "source": [
    "path_to_qunatized_model = '/home/msst/repo/Quantization/weights/seminar/lsq_3bit_quantized.pth'\n",
    "torch.save(model.state_dict(), path_to_qunatized_model)\n",
    "print_file_size(path_to_qunatized_model)"
   ]
  },
  {
   "cell_type": "code",
   "execution_count": 99,
   "metadata": {},
   "outputs": [
    {
     "data": {
      "text/plain": [
       "<All keys matched successfully>"
      ]
     },
     "execution_count": 99,
     "metadata": {},
     "output_type": "execute_result"
    }
   ],
   "source": [
    "model.load_state_dict(torch.load(path_to_qunatized_model, weights_only=True))"
   ]
  },
  {
   "cell_type": "code",
   "execution_count": 100,
   "metadata": {},
   "outputs": [
    {
     "name": "stdout",
     "output_type": "stream",
     "text": [
      "Run evaluation...\n"
     ]
    },
    {
     "name": "stderr",
     "output_type": "stream",
     "text": [
      "100%|██████████| 79/79 [00:48<00:00,  1.61it/s]"
     ]
    },
    {
     "name": "stdout",
     "output_type": "stream",
     "text": [
      "{'top_1_accuracy': 0.6636, 'top_5_accuracy': 0.8705}\n"
     ]
    },
    {
     "name": "stderr",
     "output_type": "stream",
     "text": [
      "\n"
     ]
    }
   ],
   "source": [
    "res = eval(model, test_loader)\n",
    "print(res)"
   ]
  },
  {
   "cell_type": "markdown",
   "metadata": {},
   "source": [
    "### TEST"
   ]
  },
  {
   "cell_type": "code",
   "execution_count": 5,
   "metadata": {},
   "outputs": [],
   "source": [
    "model = AutoModelForImageClassification.from_pretrained(model_path).to(device)\n",
    "\n",
    "wrap_rule = {\n",
    "    torch.nn.Linear : QLinear(weight_quantizer=Quantizer(bit_width=8, use_offset=True, group_type='channel')),\n",
    "    torch.nn.Conv2d : QConv2d(weight_quantizer=Quantizer(bit_width=3, use_offset=True, group_type='channel'))\n",
    "}\n",
    "exceptions = {\n",
    "    'resnet.embedder.embedder.convolution': QConv2d(weight_quantizer=Quantizer(bit_width=8, use_offset=True, group_type='channel'))\n",
    "}\n",
    "\n",
    "wrapper = Wrapper(wrap_rule=wrap_rule, exceptions=exceptions)\n",
    "wrapper.wrap_model(model)\n",
    "\n",
    "wrap_rule = {\n",
    "    QLinear : QuantizedLinear(),\n",
    "    QConv2d : QuantizedConv2d()\n",
    "}\n",
    "\n",
    "wrapper = Wrapper(wrap_rule=wrap_rule)\n",
    "wrapper.wrap_model(model)"
   ]
  },
  {
   "cell_type": "code",
   "execution_count": 6,
   "metadata": {},
   "outputs": [
    {
     "name": "stdout",
     "output_type": "stream",
     "text": [
      "Run evaluation...\n"
     ]
    },
    {
     "name": "stderr",
     "output_type": "stream",
     "text": [
      " 16%|█▋        | 13/79 [00:08<00:42,  1.55it/s]\n"
     ]
    },
    {
     "ename": "KeyboardInterrupt",
     "evalue": "",
     "output_type": "error",
     "traceback": [
      "\u001b[0;31m---------------------------------------------------------------------------\u001b[0m",
      "\u001b[0;31mKeyboardInterrupt\u001b[0m                         Traceback (most recent call last)",
      "Cell \u001b[0;32mIn[6], line 1\u001b[0m\n\u001b[0;32m----> 1\u001b[0m res \u001b[38;5;241m=\u001b[39m \u001b[38;5;28;43meval\u001b[39;49m\u001b[43m(\u001b[49m\u001b[43mmodel\u001b[49m\u001b[43m,\u001b[49m\u001b[43m \u001b[49m\u001b[43mtest_loader\u001b[49m\u001b[43m)\u001b[49m\n\u001b[1;32m      2\u001b[0m \u001b[38;5;28mprint\u001b[39m(res)\n",
      "File \u001b[0;32m~/repo/Quantization/notebooks/seminar/evaluation.py:23\u001b[0m, in \u001b[0;36meval\u001b[0;34m(model, test_dataloader)\u001b[0m\n\u001b[1;32m     21\u001b[0m     outputs \u001b[38;5;241m=\u001b[39m model(images)\n\u001b[1;32m     22\u001b[0m     total \u001b[38;5;241m+\u001b[39m\u001b[38;5;241m=\u001b[39m labels\u001b[38;5;241m.\u001b[39msize(\u001b[38;5;241m0\u001b[39m)\n\u001b[0;32m---> 23\u001b[0m     correct_top_1 \u001b[38;5;241m+\u001b[39m\u001b[38;5;241m=\u001b[39m \u001b[43mtop_k_accuracy\u001b[49m\u001b[43m(\u001b[49m\u001b[43moutputs\u001b[49m\u001b[43m,\u001b[49m\u001b[43m \u001b[49m\u001b[43mlabels\u001b[49m\u001b[43m,\u001b[49m\u001b[43m \u001b[49m\u001b[38;5;241;43m1\u001b[39;49m\u001b[43m)\u001b[49m\n\u001b[1;32m     24\u001b[0m     correct_top_5 \u001b[38;5;241m+\u001b[39m\u001b[38;5;241m=\u001b[39m top_k_accuracy(outputs, labels, \u001b[38;5;241m5\u001b[39m)\n\u001b[1;32m     26\u001b[0m top_1_accuracy \u001b[38;5;241m=\u001b[39m correct_top_1 \u001b[38;5;241m/\u001b[39m total\n",
      "File \u001b[0;32m~/repo/Quantization/notebooks/seminar/evaluation.py:6\u001b[0m, in \u001b[0;36mtop_k_accuracy\u001b[0;34m(outputs, labels, k)\u001b[0m\n\u001b[1;32m      4\u001b[0m \u001b[38;5;28;01mdef\u001b[39;00m \u001b[38;5;21mtop_k_accuracy\u001b[39m(outputs, labels, k\u001b[38;5;241m=\u001b[39m\u001b[38;5;241m5\u001b[39m):\n\u001b[1;32m      5\u001b[0m     _, predicted \u001b[38;5;241m=\u001b[39m torch\u001b[38;5;241m.\u001b[39mtopk(outputs\u001b[38;5;241m.\u001b[39mlogits, k, dim\u001b[38;5;241m=\u001b[39m\u001b[38;5;241m1\u001b[39m)\n\u001b[0;32m----> 6\u001b[0m     correct \u001b[38;5;241m=\u001b[39m \u001b[43m(\u001b[49m\u001b[43mpredicted\u001b[49m\u001b[43m \u001b[49m\u001b[38;5;241;43m==\u001b[39;49m\u001b[43m \u001b[49m\u001b[43mlabels\u001b[49m\u001b[38;5;241;43m.\u001b[39;49m\u001b[43mview\u001b[49m\u001b[43m(\u001b[49m\u001b[38;5;241;43m-\u001b[39;49m\u001b[38;5;241;43m1\u001b[39;49m\u001b[43m,\u001b[49m\u001b[43m \u001b[49m\u001b[38;5;241;43m1\u001b[39;49m\u001b[43m)\u001b[49m\u001b[43m)\u001b[49m\u001b[38;5;241;43m.\u001b[39;49m\u001b[43msum\u001b[49m\u001b[43m(\u001b[49m\u001b[43m)\u001b[49m\u001b[38;5;241;43m.\u001b[39;49m\u001b[43mitem\u001b[49m\u001b[43m(\u001b[49m\u001b[43m)\u001b[49m\n\u001b[1;32m      7\u001b[0m     \u001b[38;5;28;01mreturn\u001b[39;00m correct\n",
      "\u001b[0;31mKeyboardInterrupt\u001b[0m: "
     ]
    }
   ],
   "source": [
    "res = eval(model, test_loader)\n",
    "print(res)"
   ]
  },
  {
   "cell_type": "code",
   "execution_count": null,
   "metadata": {},
   "outputs": [],
   "source": []
  },
  {
   "cell_type": "code",
   "execution_count": 9,
   "metadata": {},
   "outputs": [
    {
     "name": "stdout",
     "output_type": "stream",
     "text": [
      "0.178 Mb\n"
     ]
    },
    {
     "data": {
      "text/plain": [
       "<All keys matched successfully>"
      ]
     },
     "execution_count": 9,
     "metadata": {},
     "output_type": "execute_result"
    }
   ],
   "source": [
    "path_to_qunatized_model = '/home/msst/repo/Quantization/weights/seminar/lsq_3bit_quantized.pth'\n",
    "print_file_size(path_to_qunatized_model)\n",
    "model.load_state_dict(torch.load(path_to_qunatized_model, weights_only=True))"
   ]
  },
  {
   "cell_type": "code",
   "execution_count": 8,
   "metadata": {},
   "outputs": [
    {
     "name": "stdout",
     "output_type": "stream",
     "text": [
      "Run evaluation...\n"
     ]
    },
    {
     "name": "stderr",
     "output_type": "stream",
     "text": [
      "100%|██████████| 79/79 [00:44<00:00,  1.77it/s]"
     ]
    },
    {
     "name": "stdout",
     "output_type": "stream",
     "text": [
      "{'top_1_accuracy': 0.0018, 'top_5_accuracy': 0.006}\n"
     ]
    },
    {
     "name": "stderr",
     "output_type": "stream",
     "text": [
      "\n"
     ]
    }
   ],
   "source": [
    "res = eval(model, test_loader)\n",
    "print(res)"
   ]
  },
  {
   "cell_type": "code",
   "execution_count": null,
   "metadata": {},
   "outputs": [],
   "source": []
  },
  {
   "cell_type": "code",
   "execution_count": null,
   "metadata": {},
   "outputs": [],
   "source": []
  },
  {
   "cell_type": "code",
   "execution_count": 14,
   "metadata": {},
   "outputs": [
    {
     "name": "stdout",
     "output_type": "stream",
     "text": [
      "resnet.embedder.embedder.convolution.step\n",
      "resnet.embedder.embedder.convolution.offset\n",
      "resnet.embedder.embedder.normalization.weight\n",
      "resnet.embedder.embedder.normalization.bias\n",
      "resnet.embedder.embedder.normalization.running_mean\n",
      "resnet.embedder.embedder.normalization.running_var\n",
      "resnet.embedder.embedder.normalization.num_batches_tracked\n",
      "resnet.encoder.stages.0.layers.0.layer.0.convolution.step\n",
      "resnet.encoder.stages.0.layers.0.layer.0.convolution.offset\n",
      "resnet.encoder.stages.0.layers.0.layer.0.normalization.weight\n",
      "resnet.encoder.stages.0.layers.0.layer.0.normalization.bias\n",
      "resnet.encoder.stages.0.layers.0.layer.0.normalization.running_mean\n",
      "resnet.encoder.stages.0.layers.0.layer.0.normalization.running_var\n",
      "resnet.encoder.stages.0.layers.0.layer.0.normalization.num_batches_tracked\n",
      "resnet.encoder.stages.0.layers.0.layer.1.convolution.step\n",
      "resnet.encoder.stages.0.layers.0.layer.1.convolution.offset\n",
      "resnet.encoder.stages.0.layers.0.layer.1.normalization.weight\n",
      "resnet.encoder.stages.0.layers.0.layer.1.normalization.bias\n",
      "resnet.encoder.stages.0.layers.0.layer.1.normalization.running_mean\n",
      "resnet.encoder.stages.0.layers.0.layer.1.normalization.running_var\n",
      "resnet.encoder.stages.0.layers.0.layer.1.normalization.num_batches_tracked\n",
      "resnet.encoder.stages.0.layers.1.layer.0.convolution.step\n",
      "resnet.encoder.stages.0.layers.1.layer.0.convolution.offset\n",
      "resnet.encoder.stages.0.layers.1.layer.0.normalization.weight\n",
      "resnet.encoder.stages.0.layers.1.layer.0.normalization.bias\n",
      "resnet.encoder.stages.0.layers.1.layer.0.normalization.running_mean\n",
      "resnet.encoder.stages.0.layers.1.layer.0.normalization.running_var\n",
      "resnet.encoder.stages.0.layers.1.layer.0.normalization.num_batches_tracked\n",
      "resnet.encoder.stages.0.layers.1.layer.1.convolution.step\n",
      "resnet.encoder.stages.0.layers.1.layer.1.convolution.offset\n",
      "resnet.encoder.stages.0.layers.1.layer.1.normalization.weight\n",
      "resnet.encoder.stages.0.layers.1.layer.1.normalization.bias\n",
      "resnet.encoder.stages.0.layers.1.layer.1.normalization.running_mean\n",
      "resnet.encoder.stages.0.layers.1.layer.1.normalization.running_var\n",
      "resnet.encoder.stages.0.layers.1.layer.1.normalization.num_batches_tracked\n",
      "resnet.encoder.stages.1.layers.0.shortcut.convolution.step\n",
      "resnet.encoder.stages.1.layers.0.shortcut.convolution.offset\n",
      "resnet.encoder.stages.1.layers.0.shortcut.normalization.weight\n",
      "resnet.encoder.stages.1.layers.0.shortcut.normalization.bias\n",
      "resnet.encoder.stages.1.layers.0.shortcut.normalization.running_mean\n",
      "resnet.encoder.stages.1.layers.0.shortcut.normalization.running_var\n",
      "resnet.encoder.stages.1.layers.0.shortcut.normalization.num_batches_tracked\n",
      "resnet.encoder.stages.1.layers.0.layer.0.convolution.step\n",
      "resnet.encoder.stages.1.layers.0.layer.0.convolution.offset\n",
      "resnet.encoder.stages.1.layers.0.layer.0.normalization.weight\n",
      "resnet.encoder.stages.1.layers.0.layer.0.normalization.bias\n",
      "resnet.encoder.stages.1.layers.0.layer.0.normalization.running_mean\n",
      "resnet.encoder.stages.1.layers.0.layer.0.normalization.running_var\n",
      "resnet.encoder.stages.1.layers.0.layer.0.normalization.num_batches_tracked\n",
      "resnet.encoder.stages.1.layers.0.layer.1.convolution.step\n",
      "resnet.encoder.stages.1.layers.0.layer.1.convolution.offset\n",
      "resnet.encoder.stages.1.layers.0.layer.1.normalization.weight\n",
      "resnet.encoder.stages.1.layers.0.layer.1.normalization.bias\n",
      "resnet.encoder.stages.1.layers.0.layer.1.normalization.running_mean\n",
      "resnet.encoder.stages.1.layers.0.layer.1.normalization.running_var\n",
      "resnet.encoder.stages.1.layers.0.layer.1.normalization.num_batches_tracked\n",
      "resnet.encoder.stages.1.layers.1.layer.0.convolution.step\n",
      "resnet.encoder.stages.1.layers.1.layer.0.convolution.offset\n",
      "resnet.encoder.stages.1.layers.1.layer.0.normalization.weight\n",
      "resnet.encoder.stages.1.layers.1.layer.0.normalization.bias\n",
      "resnet.encoder.stages.1.layers.1.layer.0.normalization.running_mean\n",
      "resnet.encoder.stages.1.layers.1.layer.0.normalization.running_var\n",
      "resnet.encoder.stages.1.layers.1.layer.0.normalization.num_batches_tracked\n",
      "resnet.encoder.stages.1.layers.1.layer.1.convolution.step\n",
      "resnet.encoder.stages.1.layers.1.layer.1.convolution.offset\n",
      "resnet.encoder.stages.1.layers.1.layer.1.normalization.weight\n",
      "resnet.encoder.stages.1.layers.1.layer.1.normalization.bias\n",
      "resnet.encoder.stages.1.layers.1.layer.1.normalization.running_mean\n",
      "resnet.encoder.stages.1.layers.1.layer.1.normalization.running_var\n",
      "resnet.encoder.stages.1.layers.1.layer.1.normalization.num_batches_tracked\n",
      "resnet.encoder.stages.2.layers.0.shortcut.convolution.step\n",
      "resnet.encoder.stages.2.layers.0.shortcut.convolution.offset\n",
      "resnet.encoder.stages.2.layers.0.shortcut.normalization.weight\n",
      "resnet.encoder.stages.2.layers.0.shortcut.normalization.bias\n",
      "resnet.encoder.stages.2.layers.0.shortcut.normalization.running_mean\n",
      "resnet.encoder.stages.2.layers.0.shortcut.normalization.running_var\n",
      "resnet.encoder.stages.2.layers.0.shortcut.normalization.num_batches_tracked\n",
      "resnet.encoder.stages.2.layers.0.layer.0.convolution.step\n",
      "resnet.encoder.stages.2.layers.0.layer.0.convolution.offset\n",
      "resnet.encoder.stages.2.layers.0.layer.0.normalization.weight\n",
      "resnet.encoder.stages.2.layers.0.layer.0.normalization.bias\n",
      "resnet.encoder.stages.2.layers.0.layer.0.normalization.running_mean\n",
      "resnet.encoder.stages.2.layers.0.layer.0.normalization.running_var\n",
      "resnet.encoder.stages.2.layers.0.layer.0.normalization.num_batches_tracked\n",
      "resnet.encoder.stages.2.layers.0.layer.1.convolution.step\n",
      "resnet.encoder.stages.2.layers.0.layer.1.convolution.offset\n",
      "resnet.encoder.stages.2.layers.0.layer.1.normalization.weight\n",
      "resnet.encoder.stages.2.layers.0.layer.1.normalization.bias\n",
      "resnet.encoder.stages.2.layers.0.layer.1.normalization.running_mean\n",
      "resnet.encoder.stages.2.layers.0.layer.1.normalization.running_var\n",
      "resnet.encoder.stages.2.layers.0.layer.1.normalization.num_batches_tracked\n",
      "resnet.encoder.stages.2.layers.1.layer.0.convolution.step\n",
      "resnet.encoder.stages.2.layers.1.layer.0.convolution.offset\n",
      "resnet.encoder.stages.2.layers.1.layer.0.normalization.weight\n",
      "resnet.encoder.stages.2.layers.1.layer.0.normalization.bias\n",
      "resnet.encoder.stages.2.layers.1.layer.0.normalization.running_mean\n",
      "resnet.encoder.stages.2.layers.1.layer.0.normalization.running_var\n",
      "resnet.encoder.stages.2.layers.1.layer.0.normalization.num_batches_tracked\n",
      "resnet.encoder.stages.2.layers.1.layer.1.convolution.step\n",
      "resnet.encoder.stages.2.layers.1.layer.1.convolution.offset\n",
      "resnet.encoder.stages.2.layers.1.layer.1.normalization.weight\n",
      "resnet.encoder.stages.2.layers.1.layer.1.normalization.bias\n",
      "resnet.encoder.stages.2.layers.1.layer.1.normalization.running_mean\n",
      "resnet.encoder.stages.2.layers.1.layer.1.normalization.running_var\n",
      "resnet.encoder.stages.2.layers.1.layer.1.normalization.num_batches_tracked\n",
      "resnet.encoder.stages.3.layers.0.shortcut.convolution.step\n",
      "resnet.encoder.stages.3.layers.0.shortcut.convolution.offset\n",
      "resnet.encoder.stages.3.layers.0.shortcut.normalization.weight\n",
      "resnet.encoder.stages.3.layers.0.shortcut.normalization.bias\n",
      "resnet.encoder.stages.3.layers.0.shortcut.normalization.running_mean\n",
      "resnet.encoder.stages.3.layers.0.shortcut.normalization.running_var\n",
      "resnet.encoder.stages.3.layers.0.shortcut.normalization.num_batches_tracked\n",
      "resnet.encoder.stages.3.layers.0.layer.0.convolution.step\n",
      "resnet.encoder.stages.3.layers.0.layer.0.convolution.offset\n",
      "resnet.encoder.stages.3.layers.0.layer.0.normalization.weight\n",
      "resnet.encoder.stages.3.layers.0.layer.0.normalization.bias\n",
      "resnet.encoder.stages.3.layers.0.layer.0.normalization.running_mean\n",
      "resnet.encoder.stages.3.layers.0.layer.0.normalization.running_var\n",
      "resnet.encoder.stages.3.layers.0.layer.0.normalization.num_batches_tracked\n",
      "resnet.encoder.stages.3.layers.0.layer.1.convolution.step\n",
      "resnet.encoder.stages.3.layers.0.layer.1.convolution.offset\n",
      "resnet.encoder.stages.3.layers.0.layer.1.normalization.weight\n",
      "resnet.encoder.stages.3.layers.0.layer.1.normalization.bias\n",
      "resnet.encoder.stages.3.layers.0.layer.1.normalization.running_mean\n",
      "resnet.encoder.stages.3.layers.0.layer.1.normalization.running_var\n",
      "resnet.encoder.stages.3.layers.0.layer.1.normalization.num_batches_tracked\n",
      "resnet.encoder.stages.3.layers.1.layer.0.convolution.step\n",
      "resnet.encoder.stages.3.layers.1.layer.0.convolution.offset\n",
      "resnet.encoder.stages.3.layers.1.layer.0.normalization.weight\n",
      "resnet.encoder.stages.3.layers.1.layer.0.normalization.bias\n",
      "resnet.encoder.stages.3.layers.1.layer.0.normalization.running_mean\n",
      "resnet.encoder.stages.3.layers.1.layer.0.normalization.running_var\n",
      "resnet.encoder.stages.3.layers.1.layer.0.normalization.num_batches_tracked\n",
      "resnet.encoder.stages.3.layers.1.layer.1.convolution.step\n",
      "resnet.encoder.stages.3.layers.1.layer.1.convolution.offset\n",
      "resnet.encoder.stages.3.layers.1.layer.1.normalization.weight\n",
      "resnet.encoder.stages.3.layers.1.layer.1.normalization.bias\n",
      "resnet.encoder.stages.3.layers.1.layer.1.normalization.running_mean\n",
      "resnet.encoder.stages.3.layers.1.layer.1.normalization.running_var\n",
      "resnet.encoder.stages.3.layers.1.layer.1.normalization.num_batches_tracked\n",
      "classifier.1.step\n",
      "classifier.1.offset\n",
      "classifier.1.bias\n"
     ]
    }
   ],
   "source": [
    "stare_dict = torch.load(path_to_qunatized_model, weights_only=True)\n",
    "for key in stare_dict:\n",
    "    print(key)"
   ]
  },
  {
   "cell_type": "code",
   "execution_count": 157,
   "metadata": {},
   "outputs": [
    {
     "name": "stdout",
     "output_type": "stream",
     "text": [
      "tensor([[ 0,  1, -2],\n",
      "        [-4, -1,  1],\n",
      "        [ 3,  1, -4]], dtype=torch.int8)\n"
     ]
    }
   ],
   "source": [
    "import torch\n",
    "\n",
    "# Example tensor\n",
    "tensor = torch.randint(-4, 4, (3, 3), dtype=torch.int8)  # Random tensor with values in range [-4, 3]\n",
    "print(tensor)"
   ]
  },
  {
   "cell_type": "code",
   "execution_count": 158,
   "metadata": {},
   "outputs": [],
   "source": [
    "class Compressor:\n",
    "\tdef __init__(self, bit_width):\n",
    "\t\tself.bit_width = bit_width\n",
    "    \n",
    "\tdef compress_to_int8_tensor()"
   ]
  },
  {
   "cell_type": "code",
   "execution_count": 159,
   "metadata": {},
   "outputs": [],
   "source": [
    "import math\n",
    "\n",
    "def pad_string_to_bytes(string):\n",
    "    while len(string) % 8 != 0:\n",
    "        string = '0' + string\n",
    "    return string\n",
    "\n",
    "\n",
    "def unpad_string_from_bytes(string, tensor_shape, bit_width):\n",
    "    n_elems = math.prod(tensor_shape)\n",
    "    return string[-n_elems*bit_width:]\n",
    "\n",
    "\n",
    "def tensor_to_string(tensor, bit_width):\n",
    "    tensor_shape = list(tensor.shape)\n",
    "    array = tensor.flatten().to(torch.int32)\n",
    "    neg_clip = 2**(bit_width-1)\n",
    "    array+=neg_clip\n",
    "    \n",
    "    string = ''\n",
    "    for value in array:\n",
    "        string+=format(value, '03b')\n",
    "    \n",
    "    return pad_string_to_bytes(string), tensor_shape"
   ]
  },
  {
   "cell_type": "code",
   "execution_count": 160,
   "metadata": {},
   "outputs": [
    {
     "data": {
      "text/plain": [
       "32"
      ]
     },
     "execution_count": 160,
     "metadata": {},
     "output_type": "execute_result"
    }
   ],
   "source": [
    "bit_width=3\n",
    "\n",
    "string, tensor_shape = tensor_to_string(tensor, bit_width=bit_width)\n",
    "len(string)"
   ]
  },
  {
   "cell_type": "code",
   "execution_count": 169,
   "metadata": {},
   "outputs": [
    {
     "name": "stdout",
     "output_type": "stream",
     "text": [
      "tensor([-124,   40,  -69,  104], dtype=torch.int8)\n"
     ]
    }
   ],
   "source": [
    "def string_to_int8_tensor(string):\n",
    "    tensor = []\n",
    "    for i in range(0, len(string), 8):\n",
    "        byte = int(string[i:i+8], 2) - 128\n",
    "        tensor.append(byte)\n",
    "    return torch.tensor(tensor, dtype=torch.int8)\n",
    "\n",
    "int8_tensor = string_to_int8_tensor(string)\n",
    "print(int8_tensor)"
   ]
  },
  {
   "cell_type": "code",
   "execution_count": 171,
   "metadata": {},
   "outputs": [],
   "source": [
    "def int8_tensor_to_string(int8_tensor):\n",
    "    \"\"\"Преобразует torch.tensor типа int8 в строку из нулей и единиц.\"\"\"\n",
    "    if int8_tensor.dtype != torch.int8:\n",
    "        raise ValueError(\"Тензор должен быть типа int8.\")\n",
    "    \n",
    "    binary_string = ''\n",
    "    for byte in int8_tensor:\n",
    "        # Преобразуем значение в диапазоне -128 до 127 в диапазон 0 до 255\n",
    "        unsigned_byte = byte.item() + 128\n",
    "        # Преобразуем в двоичное представление с ведущими нулями\n",
    "        binary_string += format(unsigned_byte, '08b')\n",
    "    \n",
    "    return binary_string\n",
    "\n",
    "string = int8_tensor_to_string(int8_tensor)"
   ]
  },
  {
   "cell_type": "code",
   "execution_count": 172,
   "metadata": {},
   "outputs": [
    {
     "data": {
      "text/plain": [
       "tensor([[ 0,  1, -2],\n",
       "        [-4, -1,  1],\n",
       "        [ 3,  1, -4]], dtype=torch.int8)"
      ]
     },
     "execution_count": 172,
     "metadata": {},
     "output_type": "execute_result"
    }
   ],
   "source": [
    "def string_to_tensor(string, tensor_shape, bit_width):\n",
    "    string = unpad_string_from_bytes(string, tensor_shape, bit_width=bit_width)\n",
    "    array = []\n",
    "    n_elems = math.prod(tensor_shape)\n",
    "    for start_idx in range(0, n_elems * bit_width, bit_width):\n",
    "        array.append(int(string[start_idx:start_idx+bit_width], 2))\n",
    "    array = torch.tensor(array, dtype=torch.int16)\n",
    "    \n",
    "    neg_clip = 2**(bit_width-1)\n",
    "    array -= neg_clip\n",
    "    tensor = array.reshape(tensor_shape)\n",
    "    return tensor.to(torch.int8)\n",
    "\n",
    "string_to_tensor(string, tensor_shape, bit_width)"
   ]
  },
  {
   "cell_type": "code",
   "execution_count": 173,
   "metadata": {},
   "outputs": [
    {
     "data": {
      "text/plain": [
       "tensor([[ 0,  1, -2],\n",
       "        [-4, -1,  1],\n",
       "        [ 3,  1, -4]], dtype=torch.int8)"
      ]
     },
     "execution_count": 173,
     "metadata": {},
     "output_type": "execute_result"
    }
   ],
   "source": [
    "tensor"
   ]
  },
  {
   "cell_type": "code",
   "execution_count": 44,
   "metadata": {},
   "outputs": [
    {
     "name": "stdout",
     "output_type": "stream",
     "text": [
      "Загруженная строка: 000010100010101110011010\n"
     ]
    }
   ],
   "source": [
    "def string_to_bytes(binary_string):\n",
    "    \"\"\"Преобразует строку из нулей и единиц в байты.\"\"\"\n",
    "    # Убедимся, что длина строки кратна 8\n",
    "    while len(binary_string) % 8 != 0:\n",
    "        binary_string = '0' + binary_string  # Дополняем слева нулями\n",
    "\n",
    "    byte_array = bytearray()\n",
    "    for i in range(0, len(binary_string), 8):\n",
    "        byte = int(binary_string[i:i+8], 2)  # Преобразуем 8 бит в целое число\n",
    "        byte_array.append(byte)\n",
    "    \n",
    "    return byte_array\n",
    "\n",
    "def save_to_binary_file(filename, binary_string):\n",
    "    \"\"\"Сохраняет строку из нулей и единиц в бинарный файл.\"\"\"\n",
    "    byte_data = string_to_bytes(binary_string)\n",
    "    with open(filename, 'wb') as f:\n",
    "        f.write(byte_data)\n",
    "\n",
    "def read_from_binary_file(filename):\n",
    "    \"\"\"Читает бинарный файл и преобразует его содержимое обратно в строку из нулей и единиц.\"\"\"\n",
    "    binary_string = ''\n",
    "    with open(filename, 'rb') as f:\n",
    "        byte = f.read(1)\n",
    "        while byte:\n",
    "            binary_string += format(byte[0], '08b')  # Преобразуем байт в строку из 8 бит\n",
    "            byte = f.read(1)\n",
    "    return binary_string\n",
    "\n",
    "# Пример использования\n",
    "binary_string = '010100010101110011010'  # Пример строки\n",
    "filename = 'binary_data.bin'\n",
    "\n",
    "# Сохранение в файл\n",
    "save_to_binary_file(filename, binary_string)\n",
    "\n",
    "# Чтение из файла\n",
    "loaded_string = read_from_binary_file(filename)\n",
    "print(\"Загруженная строка:\", loaded_string)"
   ]
  },
  {
   "cell_type": "code",
   "execution_count": null,
   "metadata": {},
   "outputs": [],
   "source": []
  }
 ],
 "metadata": {
  "kernelspec": {
   "display_name": "rapids_env",
   "language": "python",
   "name": "python3"
  },
  "language_info": {
   "codemirror_mode": {
    "name": "ipython",
    "version": 3
   },
   "file_extension": ".py",
   "mimetype": "text/x-python",
   "name": "python",
   "nbconvert_exporter": "python",
   "pygments_lexer": "ipython3",
   "version": "3.12.7"
  }
 },
 "nbformat": 4,
 "nbformat_minor": 2
}
