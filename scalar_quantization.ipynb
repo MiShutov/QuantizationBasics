{
 "cells": [
  {
   "cell_type": "code",
   "execution_count": null,
   "metadata": {},
   "outputs": [
    {
     "ename": "",
     "evalue": "",
     "output_type": "error",
     "traceback": [
      "\u001b[1;31mRunning cells with 'quant_basics (Python 3.10.16)' requires the ipykernel package.\n",
      "\u001b[1;31mRun the following command to install 'ipykernel' into the Python environment. \n",
      "\u001b[1;31mCommand: 'conda install -n quant_basics ipykernel --update-deps --force-reinstall'"
     ]
    }
   ],
   "source": [
    "%load_ext autoreload\n",
    "%autoreload 2\n",
    "\n",
    "import os\n",
    "import torch\n",
    "from transformers import AutoImageProcessor, AutoModelForImageClassification\n",
    "from tqdm import tqdm \n",
    "\n",
    "from torch.utils.data import DataLoader\n",
    "import datasets\n",
    "\n",
    "\n",
    "from resources.quantization_tools import *\n",
    "from resources.wrapper import Wrapper\n",
    "from resources.evaluation import eval\n",
    "from resources.utils import prepare_trainable_params, print_file_size\n",
    "from resources.finetuning import ce_finetune, kd_finetune"
   ]
  },
  {
   "cell_type": "code",
   "execution_count": 2,
   "metadata": {},
   "outputs": [],
   "source": [
    "model_name = 'microsoft/resnet-18'\n",
    "dataset_name = 'NotYourLady/BetterImageNet'\n",
    "\n",
    "model_save_path = 'models'\n",
    "device = 'cuda'\n",
    "cache_dir='dataset'"
   ]
  },
  {
   "cell_type": "code",
   "execution_count": null,
   "metadata": {},
   "outputs": [],
   "source": [
    "os.makedirs(cache_dir)\n",
    "dataset = datasets.load_dataset(dataset_name, cache_dir=cache_dir)"
   ]
  },
  {
   "cell_type": "code",
   "execution_count": 3,
   "metadata": {},
   "outputs": [],
   "source": [
    "# path_to_dataset = '/home/msst/repo/local/cv/datasets/ImageNet'\n",
    "# image_processor = AutoImageProcessor.from_pretrained(model_path)\n",
    "\n",
    "# train_dataset = datasets.load_dataset(\n",
    "#     path_to_dataset, \n",
    "#     split=\"train\"\n",
    "# )\n",
    "\n",
    "# test_dataset = datasets.load_dataset(\n",
    "#     path_to_dataset, \n",
    "#     split=\"test\"\n",
    "# )\n",
    "\n",
    "# def preprocess(sample):\n",
    "#     if sample['image'].mode != 'RGB':\n",
    "#         sample['image'] = sample['image'].convert('RGB')\n",
    "\n",
    "#     sample['image'] = image_processor(sample['image'], return_tensors=\"pt\")['pixel_values'][0]\n",
    "#     return sample\n",
    "\n",
    "# train_dataset = train_dataset.map(preprocess)\n",
    "# test_dataset = test_dataset.map(preprocess)\n",
    "\n",
    "# train_dataset.set_format(type='torch', columns=['image', 'label'])\n",
    "# test_dataset.set_format(type='torch', columns=['image', 'label'])\n",
    "\n",
    "# path_to_processed_dataset = '/home/msst/repo/local/cv/datasets/ImageNet/processed_data'\n",
    "# test_dataset.save_to_disk(os.path.join(path_to_processed_dataset, 'test'))\n",
    "# train_dataset.save_to_disk(os.path.join(path_to_processed_dataset, 'train'))"
   ]
  },
  {
   "cell_type": "code",
   "execution_count": null,
   "metadata": {},
   "outputs": [],
   "source": [
    "path_to_processed_dataset = '/home/msst/repo/local/cv/datasets/ImageNet/processed_data'\n",
    "test_dataset = datasets.load_from_disk(os.path.join(path_to_processed_dataset, 'test'))\n",
    "train_dataset = datasets.load_from_disk(os.path.join(path_to_processed_dataset, 'train'))\n",
    "\n",
    "test_loader = DataLoader(test_dataset, batch_size=128, shuffle=True)"
   ]
  },
  {
   "cell_type": "markdown",
   "metadata": {},
   "source": [
    "### FP32"
   ]
  },
  {
   "cell_type": "code",
   "execution_count": 7,
   "metadata": {},
   "outputs": [],
   "source": [
    "# model = AutoModelForImageClassification.from_pretrained(model_path).to(device)\n",
    "# res = eval(model, test_loader)\n",
    "# print(res)\n",
    "# # {'top_1_accuracy': 0.6934, 'top_5_accuracy': 0.8882}\n",
    "\n",
    "# path_to_save = os.path.join(path_to_save_models, 'resnet_fp32.pth')\n",
    "# torch.save(model.state_dict(), path_to_save)\n",
    "# print_file_size(path_to_save)\n",
    "# # 44.678 Mb"
   ]
  },
  {
   "cell_type": "markdown",
   "metadata": {},
   "source": [
    "### FP16"
   ]
  },
  {
   "cell_type": "code",
   "execution_count": null,
   "metadata": {},
   "outputs": [],
   "source": [
    "# model = AutoModelForImageClassification.from_pretrained(model_path).to(device)\n",
    "# with torch.autocast(device_type='cuda'):\n",
    "#     res = eval(model.half(), test_loader)\n",
    "# print(res)\n",
    "# # {'top_1_accuracy': 0.6933, 'top_5_accuracy': 0.888}\n",
    "\n",
    "# path_to_save = os.path.join(path_to_save_models, 'resnet_fp16.pth')\n",
    "# torch.save(model.state_dict(), path_to_save)\n",
    "# print_file_size(path_to_save)\n",
    "# # 22.363 Mb"
   ]
  },
  {
   "cell_type": "markdown",
   "metadata": {},
   "source": [
    "### INT8"
   ]
  },
  {
   "cell_type": "code",
   "execution_count": 28,
   "metadata": {},
   "outputs": [],
   "source": [
    "model = AutoModelForImageClassification.from_pretrained(model_path).to(device)\n",
    "wrap_rule = {\n",
    "    torch.nn.Linear : QLinear(weight_quantizer=Quantizer(bit_width=8, use_offset=True, group_type='tensor')),\n",
    "    torch.nn.Conv2d : QConv2d(weight_quantizer=Quantizer(bit_width=8, use_offset=True, group_type='tensor'))\t\n",
    "}\n",
    "wrapper = Wrapper(wrap_rule=wrap_rule)\n",
    "wrapper.wrap_model(model)\n",
    "\n",
    "# res = eval(model, test_loader)\n",
    "# print(res)\n",
    "# # {'top_1_accuracy': 0.6906, 'top_5_accuracy': 0.8874}"
   ]
  },
  {
   "cell_type": "code",
   "execution_count": null,
   "metadata": {},
   "outputs": [],
   "source": [
    "wrap_rule = {\n",
    "    QLinear : QuantizedLinear(),\n",
    "    QConv2d : QuantizedConv2d()\n",
    "}\n",
    "\n",
    "wrapper = Wrapper(wrap_rule=wrap_rule)\n",
    "wrapper.wrap_model(model)\n",
    "\n",
    "path_to_qunatized_model = '/home/msst/repo/Quantization/weights/seminar/lsq_8bit_quantized.pth'\n",
    "torch.save(model.state_dict(), path_to_qunatized_model)\n",
    "print_file_size(path_to_qunatized_model)"
   ]
  },
  {
   "cell_type": "code",
   "execution_count": null,
   "metadata": {},
   "outputs": [],
   "source": [
    "model = AutoModelForImageClassification.from_pretrained(model_path).to(device)\n",
    "wrap_rule = {\n",
    "    torch.nn.Linear : QLinear(weight_quantizer=Quantizer(bit_width=8, use_offset=True, group_type='tensor')),\n",
    "    torch.nn.Conv2d : QConv2d(weight_quantizer=Quantizer(bit_width=8, use_offset=True, group_type='tensor'))\t\n",
    "}\n",
    "wrapper = Wrapper(wrap_rule=wrap_rule)\n",
    "wrapper.wrap_model(model)\n",
    "\n",
    "wrap_rule = {\n",
    "    QLinear : QuantizedLinear(),\n",
    "    QConv2d : QuantizedConv2d()\n",
    "}\n",
    "wrapper = Wrapper(wrap_rule=wrap_rule)\n",
    "wrapper.wrap_model(model)\n",
    "\n",
    "res = eval(model, test_loader)\n",
    "print(res)\n",
    "model.load_state_dict(torch.load(path_to_qunatized_model, weights_only=True))\n",
    "res = eval(model, test_loader)\n",
    "print(res)"
   ]
  },
  {
   "cell_type": "markdown",
   "metadata": {},
   "source": [
    "### INT4"
   ]
  },
  {
   "cell_type": "markdown",
   "metadata": {},
   "source": [
    "##### naive datafree"
   ]
  },
  {
   "cell_type": "code",
   "execution_count": 11,
   "metadata": {},
   "outputs": [],
   "source": [
    "# model = AutoModelForImageClassification.from_pretrained(model_path).to(device)\n",
    "\n",
    "# wrap_rule = {\n",
    "# \ttorch.nn.Linear : QLinear(weight_quantizer=Quantizer(bit_width=8, use_offset=True, group_type='tensor')),\n",
    "#     torch.nn.Conv2d : QConv2d(weight_quantizer=Quantizer(bit_width=4, use_offset=True, group_type='tensor'))\n",
    "# }\n",
    "# exceptions = {\n",
    "# \t'resnet.embedder.embedder.convolution': QConv2d(weight_quantizer=Quantizer(bit_width=8, use_offset=True, group_type='tensor'))\n",
    "# }\n",
    "\n",
    "# wrapper = Wrapper(wrap_rule=wrap_rule, exceptions=exceptions)\n",
    "# wrapper.wrap_model(model)\n",
    "\n",
    "# res = eval(model, test_loader)\n",
    "# print(res)\n",
    "# # {'top_1_accuracy': 0.0043, 'top_5_accuracy': 0.0138}"
   ]
  },
  {
   "cell_type": "markdown",
   "metadata": {},
   "source": [
    "##### CE finetuning"
   ]
  },
  {
   "cell_type": "code",
   "execution_count": 6,
   "metadata": {},
   "outputs": [],
   "source": [
    "model = AutoModelForImageClassification.from_pretrained(model_path).to(device)\n",
    "\n",
    "wrap_rule = {\n",
    "    torch.nn.Linear : QLinear(weight_quantizer=Quantizer(bit_width=8, use_offset=True, group_type='tensor')),\n",
    "    torch.nn.Conv2d : QConv2d(weight_quantizer=Quantizer(bit_width=4, use_offset=True, group_type='tensor'))\n",
    "}\n",
    "exceptions = {\n",
    "    'resnet.embedder.embedder.convolution': QConv2d(weight_quantizer=Quantizer(bit_width=8, use_offset=True, group_type='tensor'))\n",
    "}\n",
    "\n",
    "wrapper = Wrapper(wrap_rule=wrap_rule, exceptions=exceptions)\n",
    "wrapper.wrap_model(model)"
   ]
  },
  {
   "cell_type": "code",
   "execution_count": null,
   "metadata": {},
   "outputs": [],
   "source": [
    "train_batch_size = 32\n",
    "n_epochs = 1\n",
    "train_lr = 1e-4\n",
    "\n",
    "train_loader = DataLoader(train_dataset, batch_size=train_batch_size, shuffle=True)\n",
    "trainable_parameters = prepare_trainable_params(model, exceptions=['embedder', 'classifier'])\n",
    "optimizer = torch.optim.Adam(trainable_parameters, lr=train_lr)\n",
    "\n",
    "ce_finetune(\n",
    "        model, \n",
    "        optimizer, \n",
    "        train_loader, \n",
    "        n_epochs=n_epochs,\n",
    "        use_scheduler=True,\n",
    "        time_step=10\n",
    ")\n",
    "\n",
    "res = eval(model, test_loader)\n",
    "print(res)\n",
    "# {'top_1_accuracy': 0.6563, 'top_5_accuracy': 0.8676} #lr=1e-4 bs=32 small dataset\n",
    "# {'top_1_accuracy': 0.6738, 'top_5_accuracy': 0.8746} #lr=1e-4 bs=32 large dataset"
   ]
  },
  {
   "cell_type": "markdown",
   "metadata": {},
   "source": [
    "##### per channel datafree"
   ]
  },
  {
   "cell_type": "code",
   "execution_count": null,
   "metadata": {},
   "outputs": [],
   "source": [
    "model = AutoModelForImageClassification.from_pretrained(model_path).to(device)\n",
    "\n",
    "wrap_rule = {\n",
    "\ttorch.nn.Linear : QLinear(weight_quantizer=Quantizer(bit_width=8, use_offset=True, group_type='channel')),\n",
    "    torch.nn.Conv2d : QConv2d(weight_quantizer=Quantizer(bit_width=4, use_offset=True, group_type='channel'))\n",
    "}\n",
    "exceptions = {\n",
    "\t'resnet.embedder.embedder.convolution': QConv2d(weight_quantizer=Quantizer(bit_width=8, use_offset=True, group_type='channel'))\n",
    "}\n",
    "wrapper = Wrapper(wrap_rule=wrap_rule, exceptions=exceptions)\n",
    "wrapper.wrap_model(model)\n",
    "\n",
    "# res = eval(model, test_loader)\n",
    "# print(res)\n",
    "# # {'top_1_accuracy': 0.6162, 'top_5_accuracy': 0.8412}"
   ]
  },
  {
   "cell_type": "code",
   "execution_count": null,
   "metadata": {},
   "outputs": [],
   "source": [
    "wrap_rule = {\n",
    "    QLinear : QuantizedLinear(),\n",
    "    QConv2d : QuantizedConv2d()\n",
    "}\n",
    "\n",
    "wrapper = Wrapper(wrap_rule=wrap_rule)\n",
    "wrapper.wrap_model(model)\n",
    "\n",
    "path_to_qunatized_model = '/home/msst/repo/Quantization/weights/seminar/lsq_4bit_quantized.pth'\n",
    "torch.save(model.state_dict(), path_to_qunatized_model)\n",
    "print_file_size(path_to_qunatized_model)"
   ]
  },
  {
   "cell_type": "code",
   "execution_count": null,
   "metadata": {},
   "outputs": [],
   "source": [
    "model = AutoModelForImageClassification.from_pretrained(model_path).to(device)\n",
    "wrap_rule = {\n",
    "\ttorch.nn.Linear : QLinear(weight_quantizer=Quantizer(bit_width=8, use_offset=True, group_type='channel')),\n",
    "    torch.nn.Conv2d : QConv2d(weight_quantizer=Quantizer(bit_width=4, use_offset=True, group_type='channel'))\n",
    "}\n",
    "exceptions = {\n",
    "\t'resnet.embedder.embedder.convolution': QConv2d(weight_quantizer=Quantizer(bit_width=8, use_offset=True, group_type='channel'))\n",
    "}\n",
    "wrapper = Wrapper(wrap_rule=wrap_rule, exceptions=exceptions)\n",
    "wrapper.wrap_model(model)\n",
    "\n",
    "wrap_rule = {\n",
    "    QLinear : QuantizedLinear(),\n",
    "    QConv2d : QuantizedConv2d()\n",
    "}\n",
    "wrapper = Wrapper(wrap_rule=wrap_rule)\n",
    "wrapper.wrap_model(model)\n",
    "\n",
    "#res = eval(model, test_loader)\n",
    "#print(res)\n",
    "model.load_state_dict(torch.load(path_to_qunatized_model, weights_only=True))\n",
    "res = eval(model, test_loader)\n",
    "print(res)"
   ]
  },
  {
   "cell_type": "markdown",
   "metadata": {},
   "source": [
    "##### per channel with CE finetuning"
   ]
  },
  {
   "cell_type": "code",
   "execution_count": 8,
   "metadata": {},
   "outputs": [],
   "source": [
    "model = AutoModelForImageClassification.from_pretrained(model_path).to(device)\n",
    "\n",
    "wrap_rule = {\n",
    "    torch.nn.Linear : QLinear(weight_quantizer=Quantizer(bit_width=8, use_offset=True, group_type='channel')),\n",
    "    torch.nn.Conv2d : QConv2d(weight_quantizer=Quantizer(bit_width=4, use_offset=True, group_type='channel'))\n",
    "}\n",
    "exceptions = {\n",
    "    'resnet.embedder.embedder.convolution': QConv2d(weight_quantizer=Quantizer(bit_width=8, use_offset=True, group_type='channel'))\n",
    "}\n",
    "\n",
    "wrapper = Wrapper(wrap_rule=wrap_rule, exceptions=exceptions)\n",
    "wrapper.wrap_model(model)"
   ]
  },
  {
   "cell_type": "code",
   "execution_count": null,
   "metadata": {},
   "outputs": [],
   "source": [
    "train_batch_size = 32\n",
    "n_epochs = 1\n",
    "train_lr = 1e-4\n",
    "\n",
    "train_loader = DataLoader(train_dataset, batch_size=train_batch_size, shuffle=True)\n",
    "trainable_parameters = prepare_trainable_params(model, exceptions=['embedder', 'classifier'])\n",
    "optimizer = torch.optim.Adam(trainable_parameters, lr=train_lr)\n",
    "\n",
    "ce_finetune(\n",
    "        model, \n",
    "        optimizer, \n",
    "        train_loader, \n",
    "        n_epochs=n_epochs,\n",
    "        use_scheduler=True,\n",
    "        time_step=10\n",
    ")\n",
    "\n",
    "res = eval(model, test_loader)\n",
    "print(res)\n",
    "# {'top_1_accuracy': 0.6867, 'top_5_accuracy': 0.8842} #lr=1e-4 bs=32 small dataset\n",
    "# {'top_1_accuracy': 0.6874, 'top_5_accuracy': 0.8849} #lr=1e-4 bs=32 large dataset"
   ]
  },
  {
   "cell_type": "markdown",
   "metadata": {},
   "source": [
    "### INT3"
   ]
  },
  {
   "cell_type": "markdown",
   "metadata": {},
   "source": [
    "##### data free"
   ]
  },
  {
   "cell_type": "code",
   "execution_count": 18,
   "metadata": {},
   "outputs": [],
   "source": [
    "# model = AutoModelForImageClassification.from_pretrained(model_path).to(device)\n",
    "\n",
    "# wrap_rule = {\n",
    "# \ttorch.nn.Linear : QLinear(weight_quantizer=Quantizer(bit_width=8, use_offset=True, group_type='channel')),\n",
    "#     torch.nn.Conv2d : QConv2d(weight_quantizer=Quantizer(bit_width=3, use_offset=True, group_type='channel'))\n",
    "# }\n",
    "# exceptions = {\n",
    "# \t'resnet.embedder.embedder.convolution': QConv2d(weight_quantizer=Quantizer(bit_width=8, use_offset=True, group_type='channel'))\n",
    "# }\n",
    "\n",
    "# wrapper = Wrapper(wrap_rule=wrap_rule, exceptions=exceptions)\n",
    "# wrapper.wrap_model(model)\n",
    "\n",
    "# res = eval(model, test_loader)\n",
    "# print(res)\n",
    "# # {'top_1_accuracy': 0.0012, 'top_5_accuracy': 0.0063}"
   ]
  },
  {
   "cell_type": "markdown",
   "metadata": {},
   "source": [
    "##### CE finetuning"
   ]
  },
  {
   "cell_type": "code",
   "execution_count": 19,
   "metadata": {},
   "outputs": [],
   "source": [
    "model = AutoModelForImageClassification.from_pretrained(model_path).to(device)\n",
    "\n",
    "wrap_rule = {\n",
    "    torch.nn.Linear : QLinear(weight_quantizer=Quantizer(bit_width=8, use_offset=True, group_type='channel')),\n",
    "    torch.nn.Conv2d : QConv2d(weight_quantizer=Quantizer(bit_width=3, use_offset=True, group_type='channel'))\n",
    "}\n",
    "exceptions = {\n",
    "    'resnet.embedder.embedder.convolution': QConv2d(weight_quantizer=Quantizer(bit_width=8, use_offset=True, group_type='channel'))\n",
    "}\n",
    "\n",
    "wrapper = Wrapper(wrap_rule=wrap_rule, exceptions=exceptions)\n",
    "wrapper.wrap_model(model)"
   ]
  },
  {
   "cell_type": "code",
   "execution_count": null,
   "metadata": {},
   "outputs": [],
   "source": [
    "train_batch_size = 16\n",
    "n_epochs = 2\n",
    "train_lr = 1e-5\n",
    "\n",
    "train_loader = DataLoader(train_dataset, batch_size=train_batch_size, shuffle=True)\n",
    "trainable_parameters = prepare_trainable_params(model, exceptions=['embedder', 'classifier'])\n",
    "optimizer = torch.optim.Adam(trainable_parameters, lr=train_lr)\n",
    "\n",
    "ce_finetune(\n",
    "        model, \n",
    "        optimizer, \n",
    "        train_loader, \n",
    "        n_epochs=n_epochs,\n",
    "        use_scheduler=True,\n",
    "        time_step=10\n",
    ")\n",
    "\n",
    "res = eval(model, test_loader)\n",
    "print(res)\n",
    "# {'top_1_accuracy': 0.6299, 'top_5_accuracy': 0.8524} lr=1e-4 bs=32 small dataset\n",
    "# {'top_1_accuracy': 0.6503, 'top_5_accuracy': 0.8634} lr=1e-4 bs=32 large dataset\n",
    "# {'top_1_accuracy': 0.6579, 'top_5_accuracy': 0.8660} lr=1e-4 bs=16 large dataset\n",
    "# {'top_1_accuracy': 0.6613, 'top_5_accuracy': 0.8689} lr=1e-5 bs=16 large dataset\n"
   ]
  },
  {
   "cell_type": "markdown",
   "metadata": {},
   "source": [
    "##### KD finetune"
   ]
  },
  {
   "cell_type": "code",
   "execution_count": 48,
   "metadata": {},
   "outputs": [],
   "source": [
    "model = AutoModelForImageClassification.from_pretrained(model_path).to(device)\n",
    "\n",
    "wrap_rule = {\n",
    "    torch.nn.Linear : QLinear(weight_quantizer=Quantizer(bit_width=8, use_offset=True, group_type='channel')),\n",
    "    torch.nn.Conv2d : QConv2d(weight_quantizer=Quantizer(bit_width=3, use_offset=True, group_type='channel'))\n",
    "}\n",
    "exceptions = {\n",
    "    'resnet.embedder.embedder.convolution': QConv2d(weight_quantizer=Quantizer(bit_width=8, use_offset=True, group_type='channel'))\n",
    "}\n",
    "\n",
    "wrapper = Wrapper(wrap_rule=wrap_rule, exceptions=exceptions)\n",
    "wrapper.wrap_model(model)"
   ]
  },
  {
   "cell_type": "code",
   "execution_count": null,
   "metadata": {},
   "outputs": [],
   "source": [
    "train_batch_size = 32\n",
    "n_epochs = 1\n",
    "train_lr = 1e-3\n",
    " \n",
    "train_loader = DataLoader(train_dataset, batch_size=train_batch_size, shuffle=True)\n",
    "trainable_parameters = prepare_trainable_params(model, exceptions=['embedder', 'classifier'])\n",
    "optimizer = torch.optim.Adam(trainable_parameters, lr=train_lr)\n",
    "teacher_model = AutoModelForImageClassification.from_pretrained(model_path).to(device)\n",
    "\n",
    "kd_finetune(\n",
    "        model, \n",
    "        teacher_model,\n",
    "        optimizer, \n",
    "        train_loader, \n",
    "        n_epochs=n_epochs,\n",
    "        use_scheduler=True,\n",
    "        time_step=10,\n",
    "        T=2,\n",
    "        ce_loss_weight=0.75\n",
    ")\n",
    "\n",
    "res = eval(model, test_loader)\n",
    "print(res)\n",
    "\n",
    "# {'top_1_accuracy': 0.6644, 'top_5_accuracy': 0.8713} lr=1e-4 bs=16 large dataset\n",
    "# {'top_1_accuracy': 0.6668, 'top_5_accuracy': 0.8735} lr=2e-4 bs=16 large dataset\n",
    "# {'top_1_accuracy': 0.6686, 'top_5_accuracy': 0.8714} lr=3e-4 bs=16 large dataset"
   ]
  },
  {
   "cell_type": "code",
   "execution_count": 51,
   "metadata": {},
   "outputs": [],
   "source": [
    "#torch.save(model.state_dict(), '/home/msst/repo/Quantization/weights/seminar/lsq_3bit.pth')"
   ]
  },
  {
   "cell_type": "markdown",
   "metadata": {},
   "source": [
    "### Use Quantized Model "
   ]
  },
  {
   "cell_type": "code",
   "execution_count": 92,
   "metadata": {},
   "outputs": [],
   "source": [
    "model = AutoModelForImageClassification.from_pretrained(model_path).to(device)\n",
    "\n",
    "wrap_rule = {\n",
    "    torch.nn.Linear : QLinear(weight_quantizer=Quantizer(bit_width=8, use_offset=True, group_type='channel')),\n",
    "    torch.nn.Conv2d : QConv2d(weight_quantizer=Quantizer(bit_width=3, use_offset=True, group_type='channel'))\n",
    "}\n",
    "exceptions = {\n",
    "    'resnet.embedder.embedder.convolution': QConv2d(weight_quantizer=Quantizer(bit_width=8, use_offset=True, group_type='channel'))\n",
    "}\n",
    "\n",
    "wrapper = Wrapper(wrap_rule=wrap_rule, exceptions=exceptions)\n",
    "wrapper.wrap_model(model)"
   ]
  },
  {
   "cell_type": "code",
   "execution_count": null,
   "metadata": {},
   "outputs": [],
   "source": [
    "path_to_model = '/home/msst/repo/Quantization/weights/seminar/lsq_3bit.pth'\n",
    "print_file_size(path_to_model)\n",
    "model.load_state_dict(torch.load(path_to_model, weights_only=True))"
   ]
  },
  {
   "cell_type": "code",
   "execution_count": 94,
   "metadata": {},
   "outputs": [],
   "source": [
    "# res = eval(model, test_loader)\n",
    "# print(res)"
   ]
  },
  {
   "cell_type": "code",
   "execution_count": 95,
   "metadata": {},
   "outputs": [],
   "source": [
    "wrap_rule = {\n",
    "    QLinear : QuantizedLinear(),\n",
    "    QConv2d : QuantizedConv2d()\n",
    "}\n",
    "\n",
    "wrapper = Wrapper(wrap_rule=wrap_rule)\n",
    "wrapper.wrap_model(model)"
   ]
  },
  {
   "cell_type": "code",
   "execution_count": 96,
   "metadata": {},
   "outputs": [],
   "source": [
    "# res = eval(model, test_loader)\n",
    "# print(res)"
   ]
  },
  {
   "cell_type": "code",
   "execution_count": null,
   "metadata": {},
   "outputs": [],
   "source": [
    "path_to_qunatized_model = '/home/msst/repo/Quantization/weights/seminar/lsq_3bit_quantized.pth'\n",
    "torch.save(model.state_dict(), path_to_qunatized_model)\n",
    "print_file_size(path_to_qunatized_model)"
   ]
  },
  {
   "cell_type": "code",
   "execution_count": null,
   "metadata": {},
   "outputs": [],
   "source": [
    "model.load_state_dict(torch.load(path_to_qunatized_model, weights_only=True))"
   ]
  },
  {
   "cell_type": "code",
   "execution_count": null,
   "metadata": {},
   "outputs": [],
   "source": [
    "res = eval(model, test_loader)\n",
    "print(res)"
   ]
  },
  {
   "cell_type": "markdown",
   "metadata": {},
   "source": [
    "### TEST"
   ]
  },
  {
   "cell_type": "code",
   "execution_count": 5,
   "metadata": {},
   "outputs": [],
   "source": [
    "model = AutoModelForImageClassification.from_pretrained(model_path).to(device)\n",
    "\n",
    "wrap_rule = {\n",
    "    torch.nn.Linear : QLinear(weight_quantizer=Quantizer(bit_width=8, use_offset=True, group_type='channel')),\n",
    "    torch.nn.Conv2d : QConv2d(weight_quantizer=Quantizer(bit_width=3, use_offset=True, group_type='channel'))\n",
    "}\n",
    "exceptions = {\n",
    "    'resnet.embedder.embedder.convolution': QConv2d(weight_quantizer=Quantizer(bit_width=8, use_offset=True, group_type='channel'))\n",
    "}\n",
    "\n",
    "wrapper = Wrapper(wrap_rule=wrap_rule, exceptions=exceptions)\n",
    "wrapper.wrap_model(model)\n",
    "\n",
    "wrap_rule = {\n",
    "    QLinear : QuantizedLinear(),\n",
    "    QConv2d : QuantizedConv2d()\n",
    "}\n",
    "\n",
    "wrapper = Wrapper(wrap_rule=wrap_rule)\n",
    "wrapper.wrap_model(model)"
   ]
  },
  {
   "cell_type": "code",
   "execution_count": null,
   "metadata": {},
   "outputs": [],
   "source": [
    "res = eval(model, test_loader)\n",
    "print(res)"
   ]
  },
  {
   "cell_type": "code",
   "execution_count": null,
   "metadata": {},
   "outputs": [],
   "source": []
  },
  {
   "cell_type": "code",
   "execution_count": null,
   "metadata": {},
   "outputs": [],
   "source": [
    "path_to_qunatized_model = '/home/msst/repo/Quantization/weights/seminar/lsq_3bit_quantized.pth'\n",
    "print_file_size(path_to_qunatized_model)\n",
    "model.load_state_dict(torch.load(path_to_qunatized_model, weights_only=True))"
   ]
  },
  {
   "cell_type": "code",
   "execution_count": null,
   "metadata": {},
   "outputs": [],
   "source": [
    "res = eval(model, test_loader)\n",
    "print(res)"
   ]
  },
  {
   "cell_type": "code",
   "execution_count": null,
   "metadata": {},
   "outputs": [],
   "source": []
  },
  {
   "cell_type": "code",
   "execution_count": null,
   "metadata": {},
   "outputs": [],
   "source": []
  },
  {
   "cell_type": "code",
   "execution_count": null,
   "metadata": {},
   "outputs": [],
   "source": [
    "stare_dict = torch.load(path_to_qunatized_model, weights_only=True)\n",
    "for key in stare_dict:\n",
    "    print(key)"
   ]
  },
  {
   "cell_type": "code",
   "execution_count": null,
   "metadata": {},
   "outputs": [],
   "source": [
    "import torch\n",
    "\n",
    "# Example tensor\n",
    "tensor = torch.randint(-4, 4, (3, 3), dtype=torch.int8)  # Random tensor with values in range [-4, 3]\n",
    "print(tensor)"
   ]
  },
  {
   "cell_type": "code",
   "execution_count": 158,
   "metadata": {},
   "outputs": [],
   "source": [
    "class Compressor:\n",
    "\tdef __init__(self, bit_width):\n",
    "\t\tself.bit_width = bit_width\n",
    "    \n",
    "\tdef compress_to_int8_tensor()"
   ]
  },
  {
   "cell_type": "code",
   "execution_count": 159,
   "metadata": {},
   "outputs": [],
   "source": [
    "import math\n",
    "\n",
    "def pad_string_to_bytes(string):\n",
    "    while len(string) % 8 != 0:\n",
    "        string = '0' + string\n",
    "    return string\n",
    "\n",
    "\n",
    "def unpad_string_from_bytes(string, tensor_shape, bit_width):\n",
    "    n_elems = math.prod(tensor_shape)\n",
    "    return string[-n_elems*bit_width:]\n",
    "\n",
    "\n",
    "def tensor_to_string(tensor, bit_width):\n",
    "    tensor_shape = list(tensor.shape)\n",
    "    array = tensor.flatten().to(torch.int32)\n",
    "    neg_clip = 2**(bit_width-1)\n",
    "    array+=neg_clip\n",
    "    \n",
    "    string = ''\n",
    "    for value in array:\n",
    "        string+=format(value, '03b')\n",
    "    \n",
    "    return pad_string_to_bytes(string), tensor_shape"
   ]
  },
  {
   "cell_type": "code",
   "execution_count": null,
   "metadata": {},
   "outputs": [],
   "source": [
    "bit_width=3\n",
    "\n",
    "string, tensor_shape = tensor_to_string(tensor, bit_width=bit_width)\n",
    "len(string)"
   ]
  },
  {
   "cell_type": "code",
   "execution_count": null,
   "metadata": {},
   "outputs": [],
   "source": [
    "def string_to_int8_tensor(string):\n",
    "    tensor = []\n",
    "    for i in range(0, len(string), 8):\n",
    "        byte = int(string[i:i+8], 2) - 128\n",
    "        tensor.append(byte)\n",
    "    return torch.tensor(tensor, dtype=torch.int8)\n",
    "\n",
    "int8_tensor = string_to_int8_tensor(string)\n",
    "print(int8_tensor)"
   ]
  },
  {
   "cell_type": "code",
   "execution_count": 171,
   "metadata": {},
   "outputs": [],
   "source": [
    "def int8_tensor_to_string(int8_tensor):\n",
    "    \"\"\"Преобразует torch.tensor типа int8 в строку из нулей и единиц.\"\"\"\n",
    "    if int8_tensor.dtype != torch.int8:\n",
    "        raise ValueError(\"Тензор должен быть типа int8.\")\n",
    "    \n",
    "    binary_string = ''\n",
    "    for byte in int8_tensor:\n",
    "        # Преобразуем значение в диапазоне -128 до 127 в диапазон 0 до 255\n",
    "        unsigned_byte = byte.item() + 128\n",
    "        # Преобразуем в двоичное представление с ведущими нулями\n",
    "        binary_string += format(unsigned_byte, '08b')\n",
    "    \n",
    "    return binary_string\n",
    "\n",
    "string = int8_tensor_to_string(int8_tensor)"
   ]
  },
  {
   "cell_type": "code",
   "execution_count": null,
   "metadata": {},
   "outputs": [],
   "source": [
    "def string_to_tensor(string, tensor_shape, bit_width):\n",
    "    string = unpad_string_from_bytes(string, tensor_shape, bit_width=bit_width)\n",
    "    array = []\n",
    "    n_elems = math.prod(tensor_shape)\n",
    "    for start_idx in range(0, n_elems * bit_width, bit_width):\n",
    "        array.append(int(string[start_idx:start_idx+bit_width], 2))\n",
    "    array = torch.tensor(array, dtype=torch.int16)\n",
    "    \n",
    "    neg_clip = 2**(bit_width-1)\n",
    "    array -= neg_clip\n",
    "    tensor = array.reshape(tensor_shape)\n",
    "    return tensor.to(torch.int8)\n",
    "\n",
    "string_to_tensor(string, tensor_shape, bit_width)"
   ]
  },
  {
   "cell_type": "code",
   "execution_count": null,
   "metadata": {},
   "outputs": [],
   "source": [
    "tensor"
   ]
  },
  {
   "cell_type": "code",
   "execution_count": null,
   "metadata": {},
   "outputs": [],
   "source": [
    "def string_to_bytes(binary_string):\n",
    "    \"\"\"Преобразует строку из нулей и единиц в байты.\"\"\"\n",
    "    # Убедимся, что длина строки кратна 8\n",
    "    while len(binary_string) % 8 != 0:\n",
    "        binary_string = '0' + binary_string  # Дополняем слева нулями\n",
    "\n",
    "    byte_array = bytearray()\n",
    "    for i in range(0, len(binary_string), 8):\n",
    "        byte = int(binary_string[i:i+8], 2)  # Преобразуем 8 бит в целое число\n",
    "        byte_array.append(byte)\n",
    "    \n",
    "    return byte_array\n",
    "\n",
    "def save_to_binary_file(filename, binary_string):\n",
    "    \"\"\"Сохраняет строку из нулей и единиц в бинарный файл.\"\"\"\n",
    "    byte_data = string_to_bytes(binary_string)\n",
    "    with open(filename, 'wb') as f:\n",
    "        f.write(byte_data)\n",
    "\n",
    "def read_from_binary_file(filename):\n",
    "    \"\"\"Читает бинарный файл и преобразует его содержимое обратно в строку из нулей и единиц.\"\"\"\n",
    "    binary_string = ''\n",
    "    with open(filename, 'rb') as f:\n",
    "        byte = f.read(1)\n",
    "        while byte:\n",
    "            binary_string += format(byte[0], '08b')  # Преобразуем байт в строку из 8 бит\n",
    "            byte = f.read(1)\n",
    "    return binary_string\n",
    "\n",
    "# Пример использования\n",
    "binary_string = '010100010101110011010'  # Пример строки\n",
    "filename = 'binary_data.bin'\n",
    "\n",
    "# Сохранение в файл\n",
    "save_to_binary_file(filename, binary_string)\n",
    "\n",
    "# Чтение из файла\n",
    "loaded_string = read_from_binary_file(filename)\n",
    "print(\"Загруженная строка:\", loaded_string)"
   ]
  },
  {
   "cell_type": "code",
   "execution_count": null,
   "metadata": {},
   "outputs": [],
   "source": []
  }
 ],
 "metadata": {
  "kernelspec": {
   "display_name": "quant_basics",
   "language": "python",
   "name": "python3"
  },
  "language_info": {
   "codemirror_mode": {
    "name": "ipython",
    "version": 3
   },
   "file_extension": ".py",
   "mimetype": "text/x-python",
   "name": "python",
   "nbconvert_exporter": "python",
   "pygments_lexer": "ipython3",
   "version": "3.10.13"
  }
 },
 "nbformat": 4,
 "nbformat_minor": 2
}
